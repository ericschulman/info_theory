{
 "cells": [
  {
   "cell_type": "code",
   "execution_count": 2,
   "id": "1d25f75f",
   "metadata": {},
   "outputs": [],
   "source": [
    "import numpy as np\n",
    "from scipy.optimize import minimize\n",
    "import statsmodels.api as sm\n",
    "from scipy.stats import norm"
   ]
  },
  {
   "cell_type": "code",
   "execution_count": 18,
   "id": "76a227f7",
   "metadata": {},
   "outputs": [
    {
     "name": "stdout",
     "output_type": "stream",
     "text": [
      "                            OLS Regression Results                            \n",
      "==============================================================================\n",
      "Dep. Variable:                      y   R-squared:                       0.761\n",
      "Model:                            OLS   Adj. R-squared:                  0.761\n",
      "Method:                 Least Squares   F-statistic:                     3177.\n",
      "Date:                Mon, 18 Dec 2023   Prob (F-statistic):          2.04e-312\n",
      "Time:                        19:28:06   Log-Likelihood:                -2241.8\n",
      "No. Observations:                1000   AIC:                             4488.\n",
      "Df Residuals:                     998   BIC:                             4498.\n",
      "Df Model:                           1                                         \n",
      "Covariance Type:            nonrobust                                         \n",
      "==============================================================================\n",
      "                 coef    std err          t      P>|t|      [0.025      0.975]\n",
      "------------------------------------------------------------------------------\n",
      "const          0.0046      0.072      0.064      0.949      -0.137       0.146\n",
      "x1             4.0043      0.071     56.367      0.000       3.865       4.144\n",
      "==============================================================================\n",
      "Omnibus:                        0.657   Durbin-Watson:                   1.887\n",
      "Prob(Omnibus):                  0.720   Jarque-Bera (JB):                0.552\n",
      "Skew:                          -0.047   Prob(JB):                        0.759\n",
      "Kurtosis:                       3.066   Cond. No.                         1.02\n",
      "==============================================================================\n",
      "\n",
      "Notes:\n",
      "[1] Standard Errors assume that the covariance matrix of the errors is correctly specified.\n",
      "5.185205223118312\n"
     ]
    }
   ],
   "source": [
    "def gen_data(nobs=1000, a=2, b=6, c=1, d=1):\n",
    "    #true value\n",
    "    x = np.random.normal(loc=0, scale=1, size=(nobs,1))\n",
    "    \n",
    "    #measurement error terms\n",
    "    e1 = np.random.normal(loc=0, scale=c, size=(nobs//2,1))\n",
    "    e2 = np.random.normal(loc=0, scale=d, size=(nobs//2,1))\n",
    "    \n",
    "    #procedure\n",
    "    y1 = a*x[:nobs//2] + e1\n",
    "    y2 = b*x[nobs//2:] + e2\n",
    "    y = np.concatenate((y1,y2),axis=0)\n",
    "    return y,x,nobs\n",
    "\n",
    "y,x,n = gen_data()\n",
    "\n",
    "res = sm.OLS(y,sm.add_constant(x)).fit()\n",
    "print(res.summary())\n",
    "print(res.resid.var())"
   ]
  },
  {
   "cell_type": "code",
   "execution_count": null,
   "id": "3807239b",
   "metadata": {},
   "outputs": [],
   "source": []
  }
 ],
 "metadata": {
  "kernelspec": {
   "display_name": "Python 3 (ipykernel)",
   "language": "python",
   "name": "python3"
  },
  "language_info": {
   "codemirror_mode": {
    "name": "ipython",
    "version": 3
   },
   "file_extension": ".py",
   "mimetype": "text/x-python",
   "name": "python",
   "nbconvert_exporter": "python",
   "pygments_lexer": "ipython3",
   "version": "3.10.9"
  }
 },
 "nbformat": 4,
 "nbformat_minor": 5
}
