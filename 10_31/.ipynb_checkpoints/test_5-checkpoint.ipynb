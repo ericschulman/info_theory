{
 "cells": [
  {
   "cell_type": "code",
   "execution_count": 2,
   "metadata": {},
   "outputs": [],
   "source": [
    "import Pkg\n",
    "using Optim\n",
    "using PyPlot\n",
    "using LinearAlgebra\n",
    "using FFTW"
   ]
  },
  {
   "cell_type": "code",
   "execution_count": 3,
   "metadata": {},
   "outputs": [
    {
     "data": {
      "image/png": "[encoded data removed]",
      "text/plain": [
       "Figure(PyObject <Figure size 640x480 with 1 Axes>)"
      ]
     },
     "metadata": {},
     "output_type": "display_data"
    },
    {
     "data": {
      "text/plain": [
       "1-element Array{PyCall.PyObject,1}:\n",
       " PyObject <matplotlib.lines.Line2D object at 0x7fe45c98cb70>"
      ]
     },
     "execution_count": 3,
     "metadata": {},
     "output_type": "execute_result"
    }
   ],
   "source": [
    "beta = .9\n",
    "betas = beta .^collect(1:10)\n",
    "result = fft(betas)\n",
    "\n",
    "plot(collect(1:10),abs.(result))"
   ]
  },
  {
   "cell_type": "code",
   "execution_count": 23,
   "metadata": {},
   "outputs": [
    {
     "name": "stdout",
     "output_type": "stream",
     "text": [
      "Complex{Int64}[1+0im 0-1im; 0+1im 1+0im]Complex{Int64}[0+0im 0+0im; 0+0im 0+0im]"
     ]
    }
   ],
   "source": [
    "using LinearAlgebra\n",
    "\n",
    "A = [1 1im; -1im 1]\n",
    "print(Transpose(A))\n",
    "print(A*Transpose(A))"
   ]
  },
  {
   "cell_type": "code",
   "execution_count": 93,
   "metadata": {},
   "outputs": [
    {
     "name": "stdout",
     "output_type": "stream",
     "text": [
      "Complex{Float64}[8.0+0.0im, -2.5+2.59808im, 0.0-2.59808im]\n",
      "Complex{Float64}[1.83333+0.0im, 1.58333-0.721688im, 4.58333+0.721688im]\n"
     ]
    },
    {
     "data": {
      "text/plain": [
       "3-element Array{Float64,1}:\n",
       " 1.8333333333333333\n",
       " 1.5833333333333333\n",
       " 4.583333333333333 "
      ]
     },
     "execution_count": 93,
     "metadata": {},
     "output_type": "execute_result"
    }
   ],
   "source": [
    "function lf(p,l)\n",
    "    n = length(p)\n",
    "    #only even frequencies\n",
    "    zfl = fft(p)\n",
    "    \n",
    "    #low pass filter\n",
    "    zfl = reinterpret(Float64, zfl)\n",
    "    zre = @view zfl[1:2:end-1]\n",
    "    zim = @view zfl[2:2:end]\n",
    "    zre[n-l+1:n] = zeros(l)\n",
    "    #zim[n-l+1:n] = zeros(l)\n",
    "    result = (zre.+1im*zim)\n",
    "    println(result)\n",
    "    println(ifft(result))\n",
    "    return reinterpret(Float64, ifft(result))[1:2:end-1]\n",
    "end\n",
    "\n",
    "lf([1,2,5],1)"
   ]
  },
  {
   "cell_type": "code",
   "execution_count": 95,
   "metadata": {},
   "outputs": [
    {
     "ename": "SingularException",
     "evalue": "SingularException(2)",
     "output_type": "error",
     "traceback": [
      "SingularException(2)",
      "",
      "Stacktrace:",
      " [1] checknonsingular at /buildworker/worker/package_linux64/build/usr/share/julia/stdlib/v1.0/LinearAlgebra/src/factorization.jl:12 [inlined]",
      " [2] #lu!#99(::Bool, ::Function, ::Array{Float64,2}, ::Val{true}) at /buildworker/worker/package_linux64/build/usr/share/julia/stdlib/v1.0/LinearAlgebra/src/lu.jl:41",
      " [3] #lu#103 at ./none:0 [inlined]",
      " [4] lu at /buildworker/worker/package_linux64/build/usr/share/julia/stdlib/v1.0/LinearAlgebra/src/lu.jl:142 [inlined] (repeats 2 times)",
      " [5] inv(::Array{Int64,2}) at /buildworker/worker/package_linux64/build/usr/share/julia/stdlib/v1.0/LinearAlgebra/src/dense.jl:714",
      " [6] top-level scope at In[95]:12"
     ]
    }
   ],
   "source": [
    "function imaginary_filter(k)\n",
    "    h = zeros(k,k)\n",
    "    for i=1:k\n",
    "        for j=1:k\n",
    "            h[i,j] = (i-1)*(j-1)/k\n",
    "        end\n",
    "    end\n",
    "    h = sin.(2*pi*h)\n",
    "    h = h.*( abs.(h) .> 1e-15)\n",
    "    return h\n",
    "end"
   ]
  },
  {
   "cell_type": "code",
   "execution_count": 69,
   "metadata": {},
   "outputs": [
    {
     "name": "stdout",
     "output_type": "stream",
     "text": [
      "Complex{Float64}[0.5+0.0im, 0.5+0.0im, 0.5+0.0im]\n"
     ]
    },
    {
     "ename": "MethodError",
     "evalue": "MethodError: no method matching isless(::Int64, ::Complex{Float64})\nClosest candidates are:\n  isless(!Matched::Missing, ::Any) at missing.jl:66\n  isless(!Matched::PyCall.PyObject, ::Any) at /home/erichschulman/.julia/packages/PyCall/ttONZ/src/pyoperators.jl:75\n  isless(::Real, !Matched::AbstractFloat) at operators.jl:149\n  ...",
     "output_type": "error",
     "traceback": [
      "MethodError: no method matching isless(::Int64, ::Complex{Float64})\nClosest candidates are:\n  isless(!Matched::Missing, ::Any) at missing.jl:66\n  isless(!Matched::PyCall.PyObject, ::Any) at /home/erichschulman/.julia/packages/PyCall/ttONZ/src/pyoperators.jl:75\n  isless(::Real, !Matched::AbstractFloat) at operators.jl:149\n  ...",
      "",
      "Stacktrace:",
      " [1] <(::Int64, ::Complex{Float64}) at ./operators.jl:260",
      " [2] >(::Complex{Float64}, ::Int64) at ./operators.jl:286",
      " [3] clamp(::Complex{Float64}, ::Int64, ::Int64) at ./math.jl:73",
      " [4] clamp! at ./math.jl:87 [inlined]",
      " [5] f1 at ./In[69]:38 [inlined]",
      " [6] u1(::Array{Complex{Float64},1}, ::typeof(f1)) at ./In[69]:39",
      " [7] u2(::Array{Complex{Float64},1}, ::Function) at ./In[69]:40",
      " [8] (::getfield(Main, Symbol(\"#obj#15\")){typeof(u2),typeof(f1)})(::Array{Complex{Float64},1}) at ./In[69]:14",
      " [9] obj at ./In[69]:22 [inlined]",
      " [10] (::getfield(Main, Symbol(\"#obj_avg#17\")){Int64,getfield(Main, Symbol(\"#obj#16\")){typeof(u2),typeof(f1)}})(::Array{Float64,1}) at ./In[69]:23",
      " [11] value!!(::NonDifferentiable{Float64,Array{Float64,1}}, ::Array{Float64,1}) at /home/erichschulman/.julia/packages/NLSolversBase/NsXIC/src/interface.jl:9",
      " [12] initial_state(::NelderMead{Optim.AffineSimplexer,Optim.AdaptiveParameters}, ::Optim.Options{Float64,Nothing}, ::NonDifferentiable{Float64,Array{Float64,1}}, ::Array{Float64,1}) at /home/erichschulman/.julia/packages/Optim/Agd3B/src/multivariate/solvers/zeroth_order/nelder_mead.jl:158",
      " [13] optimize(::NonDifferentiable{Float64,Array{Float64,1}}, ::Array{Float64,1}, ::NelderMead{Optim.AffineSimplexer,Optim.AdaptiveParameters}, ::Optim.Options{Float64,Nothing}) at /home/erichschulman/.julia/packages/Optim/Agd3B/src/multivariate/optimize/optimize.jl:33",
      " [14] #optimize#81(::Bool, ::Symbol, ::Base.Iterators.Pairs{Union{},Union{},Tuple{},NamedTuple{(),Tuple{}}}, ::Function, ::Function, ::Array{Float64,1}) at /home/erichschulman/.julia/packages/Optim/Agd3B/src/multivariate/optimize/interface.jl:64",
      " [15] optimize at /home/erichschulman/.julia/packages/Optim/Agd3B/src/multivariate/optimize/interface.jl:58 [inlined]",
      " [16] create_plot(::Int64, ::Int64, ::Function, ::Function) at ./In[69]:24",
      " [17] top-level scope at In[69]:41"
     ]
    }
   ],
   "source": [
    "function no_win(p,g)\n",
    "    l = length(p)\n",
    "    gs = reverse(g(p))\n",
    "    result = ones(l)\n",
    "    for i = 2:l\n",
    "        for j=i:l\n",
    "            result[i-1] = result[i-1]*gs[j]\n",
    "        end\n",
    "    end\n",
    "    return reverse(result)\n",
    "end\n",
    "\n",
    "function create_obj(u,g)\n",
    "    obj(p) = -1*u(p,g)\n",
    "    return obj\n",
    "end\n",
    "\n",
    "\n",
    "function create_plot(n,l,u,g)\n",
    "    p0 = 0.5*ones(n)\n",
    "    for i=1:l\n",
    "        obj(p) = create_obj(u,g)(p)\n",
    "        obj_avg(p) = obj(lf(p,i))\n",
    "        res = optimize(obj_avg,p0)\n",
    "        ps = lf( res.minimizer, i )\n",
    "        println(ps)\n",
    "        println(fft(ps))\n",
    "        println(\"-----\")\n",
    "        xs = collect( 1:length(ps) )\n",
    "        plot(xs, ps, label=\"decisions $(i)\")\n",
    "    end\n",
    "    legend()\n",
    "    show()\n",
    "end\n",
    "\n",
    "BETA = 1\n",
    "\n",
    "f1(p) = clamp!(p, 0, 1)\n",
    "u1(p,g) = p.*(ones(size(p)) - g(p)).*no_win(p,g)\n",
    "u2(p,g) = sum((BETA*ones(length(p))).^collect(1:length(p)) .*u1(p,g))\n",
    "\n",
    "create_plot(3,2,u2,f1)"
   ]
  },
  {
   "cell_type": "code",
   "execution_count": null,
   "metadata": {},
   "outputs": [],
   "source": []
  }
 ],
 "metadata": {
  "kernelspec": {
   "display_name": "Julia 1.0.4",
   "language": "julia",
   "name": "julia-1.0"
  },
  "language_info": {
   "file_extension": ".jl",
   "mimetype": "application/julia",
   "name": "julia",
   "version": "1.0.4"
  }
 },
 "nbformat": 4,
 "nbformat_minor": 2
}
