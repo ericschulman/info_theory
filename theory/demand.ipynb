{
 "cells": [
  {
   "cell_type": "code",
   "execution_count": 5,
   "id": "08a29898",
   "metadata": {},
   "outputs": [],
   "source": [
    "import numpy as np\n",
    "from scipy.optimize import minimize\n",
    "from scipy.optimize import fsolve\n",
    "from matplotlib import pyplot as plt\n",
    "from scipy import stats"
   ]
  },
  {
   "cell_type": "code",
   "execution_count": 6,
   "id": "ab514fac",
   "metadata": {},
   "outputs": [],
   "source": [
    "#value of info with bargaining?"
   ]
  },
  {
   "cell_type": "code",
   "execution_count": 7,
   "id": "6e175e8d",
   "metadata": {},
   "outputs": [
    {
     "data": {
      "text/plain": [
       "array([7.5])"
      ]
     },
     "execution_count": 7,
     "metadata": {},
     "output_type": "execute_result"
    }
   ],
   "source": [
    "\n",
    "def profit_obj(x, cost, demand, beta=.5):\n",
    "    quantity = demand - x#np.log(demand - x)/(1+np.log(demand - x))\n",
    "    obj = -1*( quantity*(x-cost) )\n",
    "    return obj\n",
    "\n",
    "\n",
    "def solve_profit(cost, demand):\n",
    "    result = minimize(profit_obj, demand/2, args=(cost, demand),\n",
    "                     method='Nelder-Mead', options={'disp': False})\n",
    "    return result.x\n",
    "\n",
    "\n",
    "solve_profit(5,10)"
   ]
  },
  {
   "cell_type": "code",
   "execution_count": 8,
   "id": "4dc82a2f",
   "metadata": {},
   "outputs": [
    {
     "name": "stdout",
     "output_type": "stream",
     "text": [
      "(-9.0, -9.085016834589688)\n",
      "(-12.127276756660738, -12.137399999575742)\n"
     ]
    }
   ],
   "source": [
    "def info_value(cost,demand_min,demand_max,density=None):\n",
    "    \n",
    "    \n",
    "    #assume uniformly distributed demand option\n",
    "    support = []\n",
    "    steps = 0\n",
    "\n",
    "    if density is None:\n",
    "        steps = 100\n",
    "        density = np.array([1/steps]*steps)\n",
    "        support = np.linspace(demand_min,demand_max,steps)\n",
    "    else:\n",
    "        steps = len(density)\n",
    "        support = np.linspace(demand_min,demand_max,steps)\n",
    "    \n",
    "    #compute the solution with average outcome...\n",
    "    noinfo_demand = (support*density).sum()\n",
    "    noinfo_result = solve_profit(cost,  noinfo_demand)\n",
    "    \n",
    "    noinfo = []\n",
    "    info = []\n",
    "    \n",
    "    for demand in support:\n",
    "        noinfo.append(profit_obj(noinfo_result,cost, demand))\n",
    "        \n",
    "        result = solve_profit(cost,  demand)\n",
    "        info.append(profit_obj(result,cost, demand))\n",
    "        \n",
    "    info = np.array(info)\n",
    "    noinfo = np.array(noinfo)\n",
    "    return (noinfo.reshape(steps,)*density).sum(), (info.reshape(steps,)*density).sum()\n",
    "\n",
    "uniform = info_value(10,3,5)\n",
    "print(uniform)\n",
    "\n",
    "normal_steps = 100\n",
    "normal = stats.norm.pdf(np.linspace(-10,10,normal_steps))*(20/normal_steps)\n",
    "normal_info = info_value(10,1,5,density=normal)\n",
    "print(normal_info)"
   ]
  },
  {
   "cell_type": "code",
   "execution_count": null,
   "id": "acef3095",
   "metadata": {},
   "outputs": [],
   "source": []
  },
  {
   "cell_type": "code",
   "execution_count": null,
   "id": "550175d4",
   "metadata": {},
   "outputs": [],
   "source": []
  }
 ],
 "metadata": {
  "kernelspec": {
   "display_name": "Python 3",
   "language": "python",
   "name": "python3"
  },
  "language_info": {
   "codemirror_mode": {
    "name": "ipython",
    "version": 3
   },
   "file_extension": ".py",
   "mimetype": "text/x-python",
   "name": "python",
   "nbconvert_exporter": "python",
   "pygments_lexer": "ipython3",
   "version": "3.8.8"
  }
 },
 "nbformat": 4,
 "nbformat_minor": 5
}
