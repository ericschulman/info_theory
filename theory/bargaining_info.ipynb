{
 "cells": [
  {
   "cell_type": "code",
   "execution_count": 1,
   "id": "08a29898",
   "metadata": {},
   "outputs": [],
   "source": [
    "import numpy as np\n",
    "from scipy.optimize import minimize\n",
    "from scipy.optimize import fsolve\n",
    "from matplotlib import pyplot as plt\n",
    "from scipy import stats"
   ]
  },
  {
   "cell_type": "code",
   "execution_count": 2,
   "id": "ab514fac",
   "metadata": {},
   "outputs": [],
   "source": [
    "#value of info with bargaining?"
   ]
  },
  {
   "cell_type": "code",
   "execution_count": 3,
   "id": "6e175e8d",
   "metadata": {},
   "outputs": [
    {
     "data": {
      "text/plain": [
       "array([7.])"
      ]
     },
     "execution_count": 3,
     "metadata": {},
     "output_type": "execute_result"
    }
   ],
   "source": [
    "\n",
    "def nash_obj(x, total, outside, beta=.5):\n",
    "    e = .0001\n",
    "    obj = -1*( np.log(np.maximum(x-outside,e))*(1-beta) + np.log(np.maximum(total-x,e))*beta )\n",
    "    return obj\n",
    "\n",
    "def solve_nash(total, outside):\n",
    "    result = minimize(nash_obj, total-outside/2, args=(total, outside),\n",
    "                     method='Nelder-Mead', options={'disp': False})\n",
    "    return result.x\n",
    "\n",
    "solve_nash(10,4)"
   ]
  },
  {
   "cell_type": "code",
   "execution_count": 4,
   "id": "4dc82a2f",
   "metadata": {},
   "outputs": [
    {
     "name": "stdout",
     "output_type": "stream",
     "text": [
      "(array([7.]), 6.999991421169705)\n",
      "(array([6.48499573]), 6.435001076638547)\n"
     ]
    }
   ],
   "source": [
    "def info_value(total,outside_min,outside_max,density=None):\n",
    "    #assume uniformly distributed outside option\n",
    "    support = []\n",
    "    steps = 0\n",
    "\n",
    "    if density is None:\n",
    "        steps = 10\n",
    "        density = np.array([1/steps]*steps)\n",
    "        support = np.linspace(outside_min,outside_max,steps)\n",
    "    else:\n",
    "        steps = len(density)\n",
    "        support = np.linspace(outside_min,outside_max,steps)\n",
    "    \n",
    "    #compute the solution with average outcome...\n",
    "    noinfo_outside = (support*density).sum()\n",
    "    no_info= solve_nash(total,  noinfo_outside)\n",
    "    \n",
    "    info = []\n",
    "    for outside in support:\n",
    "        result = solve_nash(total,  outside)\n",
    "        info.append(result)\n",
    "        \n",
    "    info = np.array(info)\n",
    "    return no_info, (info.reshape(steps,)*density).sum()\n",
    "    \n",
    "\n",
    "\n",
    "uniform = info_value(10,3,5)\n",
    "print(uniform)\n",
    "\n",
    "normal_steps = 100\n",
    "normal = stats.norm.pdf(np.linspace(-10,10,normal_steps))*(20/normal_steps)\n",
    "normal_info = info_value(10,1,5,density=normal)\n",
    "print(normal_info)"
   ]
  },
  {
   "cell_type": "code",
   "execution_count": null,
   "id": "db931dc8",
   "metadata": {},
   "outputs": [],
   "source": []
  },
  {
   "cell_type": "code",
   "execution_count": null,
   "id": "d5f8ab1c",
   "metadata": {},
   "outputs": [],
   "source": []
  }
 ],
 "metadata": {
  "kernelspec": {
   "display_name": "Python 3",
   "language": "python",
   "name": "python3"
  },
  "language_info": {
   "codemirror_mode": {
    "name": "ipython",
    "version": 3
   },
   "file_extension": ".py",
   "mimetype": "text/x-python",
   "name": "python",
   "nbconvert_exporter": "python",
   "pygments_lexer": "ipython3",
   "version": "3.8.8"
  }
 },
 "nbformat": 4,
 "nbformat_minor": 5
}
