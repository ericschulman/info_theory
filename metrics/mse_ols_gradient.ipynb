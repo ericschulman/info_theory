{
 "cells": [
  {
   "cell_type": "code",
   "execution_count": 2,
   "id": "9036f491",
   "metadata": {},
   "outputs": [],
   "source": [
    "import numpy as np\n",
    "from sympy import *\n",
    "#https://docs.sympy.org/latest/modules/matrices/expressions.html"
   ]
  },
  {
   "cell_type": "code",
   "execution_count": 3,
   "id": "0c18db9d",
   "metadata": {},
   "outputs": [
    {
     "name": "stdout",
     "output_type": "stream",
     "text": [
      "\\beta.T*X.T*X*(X.T*X)**(-1)*X.T*X*(X.T*X)**(-1)*X.T*X*\\beta + \\beta.T*X.T*X*(X.T*X)**(-1)*X.T*X*(X.T*X)**(-1)*X.T*e - 2*\\beta.T*X.T*X*(X.T*X)**(-1)*X.T*X*\\beta - 2*\\beta.T*X.T*X*(X.T*X)**(-1)*X.T*e + \\beta.T*X.T*X*\\beta + \\beta.T*X.T*e + e.T*X*(X.T*X)**(-1)*X.T*X*(X.T*X)**(-1)*X.T*X*\\beta + e.T*X*(X.T*X)**(-1)*X.T*X*(X.T*X)**(-1)*X.T*e - 2*e.T*X*(X.T*X)**(-1)*X.T*X*\\beta - 2*e.T*X*(X.T*X)**(-1)*X.T*e + e.T*X*\\beta + e.T*e\n"
     ]
    }
   ],
   "source": [
    "#c = CΛ  ̃g\n",
    "k = Symbol('k')\n",
    "n = Symbol('n')\n",
    "e = MatrixSymbol('e',n,1)\n",
    "X = MatrixSymbol('X',n,k)\n",
    "b = MatrixSymbol('\\\\beta',k,1)\n",
    "y = X*b + e\n",
    "b_hat = (X.T *X)**(-1) * (X.T * y)\n",
    "y_hat = X*b_hat\n",
    "mse =  (y - X*b_hat).T * (y - X*b_hat)\n",
    "\n",
    "print((expand(mse)))"
   ]
  },
  {
   "cell_type": "code",
   "execution_count": 6,
   "id": "a4d4e19f",
   "metadata": {},
   "outputs": [
    {
     "data": {
      "text/latex": [
       "$\\displaystyle \\hat{y}^{T} \\hat{y} - \\hat{y}^{T} y - y^{T} \\hat{y} + y^{T} y$"
      ],
      "text/plain": [
       "\\hat{y}.T*\\hat{y} - \\hat{y}.T*y - y.T*\\hat{y} + y.T*y"
      ]
     },
     "execution_count": 6,
     "metadata": {},
     "output_type": "execute_result"
    }
   ],
   "source": [
    "#may try  mse = variance + bias2\n",
    "#dmse/dtheta = dvariance/dtheta + dbias2/dtheta\n",
    "#σ 2 p/n ? is the variance?\n",
    "#pretty sure bias is where the moment condition comes into play?\n",
    "#\n",
    "\n",
    "y_hats = MatrixSymbol('y',n,1)\n",
    "ys =  MatrixSymbol('\\\\hat{y}',n,1)\n",
    "\n",
    "expand((ys-y_hats).T*(ys-y_hats))"
   ]
  },
  {
   "cell_type": "code",
   "execution_count": 11,
   "id": "bd82e734",
   "metadata": {},
   "outputs": [
    {
     "name": "stdout",
     "output_type": "stream",
     "text": [
      "\\beta.T*X.T*X*(X.T*X)**(-1)*X.T*X*(X.T*X)**(-1)*X.T*X*\\beta + \\beta.T*X.T*X*(X.T*X)**(-1)*X.T*X*(X.T*X)**(-1)*X.T*e + e.T*X*(X.T*X)**(-1)*X.T*X*(X.T*X)**(-1)*X.T*X*\\beta + e.T*X*(X.T*X)**(-1)*X.T*X*(X.T*X)**(-1)*X.T*e\n"
     ]
    }
   ],
   "source": [
    "print(expand(y_hat.T*y_hat))\n",
    "\n",
    "\n",
    "#\\beta.T*X.T*X*\\beta +\n",
    "#\\beta.T*X.T*e + \n",
    "#e.T*X*\\beta \n",
    "\n",
    "#+ e.T*X*(X.T*X)**(-1)*X.T*e\n",
    "\n",
    "#2 xx+ 2 e x"
   ]
  },
  {
   "cell_type": "code",
   "execution_count": 12,
   "id": "9b0376aa",
   "metadata": {},
   "outputs": [
    {
     "name": "stdout",
     "output_type": "stream",
     "text": [
      "\\beta.T*X.T*X*\\beta + \\beta.T*X.T*e + e.T*X*\\beta + e.T*e\n"
     ]
    }
   ],
   "source": [
    "print(expand(y.T*y))\n",
    "\n",
    "#\\beta.T*X.T*X*\\beta + \\beta.T*X.T*e + e.T*X*\\beta \n",
    "\n",
    "#e.T*e\n",
    "\n",
    "#2xx + 2 e x"
   ]
  },
  {
   "cell_type": "code",
   "execution_count": 13,
   "id": "158e4495",
   "metadata": {},
   "outputs": [
    {
     "name": "stdout",
     "output_type": "stream",
     "text": [
      "\\beta.T*X.T*X*(X.T*X)**(-1)*X.T*X*\\beta + \\beta.T*X.T*X*(X.T*X)**(-1)*X.T*e + e.T*X*(X.T*X)**(-1)*X.T*X*\\beta + e.T*X*(X.T*X)**(-1)*X.T*e\n"
     ]
    }
   ],
   "source": [
    "print(expand(y.T*y_hat))\n",
    "\n",
    "#\\beta.T*X.T*X*\\beta +\n",
    "#\\beta.T*X.T*e \n",
    "#+ e.T*X*\\beta \n",
    "\n",
    "#2xx + 2ex\n",
    "\n",
    "#e.T*X*(X.T*X)**(-1)*X.T*e\n",
    "\n"
   ]
  },
  {
   "cell_type": "code",
   "execution_count": null,
   "id": "8ae98a9e",
   "metadata": {},
   "outputs": [],
   "source": [
    "#so mse gradient = 0? doesn't actually depend on beta?"
   ]
  }
 ],
 "metadata": {
  "kernelspec": {
   "display_name": "Python 3",
   "language": "python",
   "name": "python3"
  },
  "language_info": {
   "codemirror_mode": {
    "name": "ipython",
    "version": 3
   },
   "file_extension": ".py",
   "mimetype": "text/x-python",
   "name": "python",
   "nbconvert_exporter": "python",
   "pygments_lexer": "ipython3",
   "version": "3.8.8"
  }
 },
 "nbformat": 4,
 "nbformat_minor": 5
}
