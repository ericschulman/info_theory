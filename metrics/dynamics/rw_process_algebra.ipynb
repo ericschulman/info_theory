{
 "cells": [
  {
   "cell_type": "code",
   "execution_count": 6,
   "id": "70e44b46",
   "metadata": {},
   "outputs": [],
   "source": [
    "import numpy as np\n",
    "import statsmodels.api as sm\n",
    "import matplotlib.pyplot as plt"
   ]
  },
  {
   "cell_type": "code",
   "execution_count": 23,
   "id": "c1d057b0",
   "metadata": {},
   "outputs": [
    {
     "name": "stdout",
     "output_type": "stream",
     "text": [
      "4.7661719929748706e-05\n",
      "0.5185822144869262\n"
     ]
    }
   ],
   "source": [
    "y = [np.random.normal(0,1)]\n",
    "\n",
    "nobs = 1000\n",
    "for i in range(nobs):\n",
    "    yt = y[-1] + np.random.normal(0,1)\n",
    "    y.append(yt)\n",
    "    \n",
    "y = np.array(y)\n",
    "\n",
    "\n",
    "#double check variance is right\n",
    "\n",
    "def inform3(y,y1,y2):\n",
    "    cov = np.cov( [y,y1,y2] )\n",
    "    return (cov[0,2] - cov[1,2])**2/cov[2,2]/cov[0,0]\n",
    "\n",
    "\n",
    "print(inform3(y[2:],y[1:-1],y[:-2]))\n",
    "print(inform3(y[100:],y[:-100],y[1:-99]))\n",
    "\n"
   ]
  },
  {
   "cell_type": "code",
   "execution_count": 29,
   "id": "25c47b1c",
   "metadata": {},
   "outputs": [
    {
     "name": "stdout",
     "output_type": "stream",
     "text": [
      "0.8575076163307117\n",
      "0.9871766883466493\n",
      "----\n",
      "0.9883541924257787\n",
      "0.059315840169224726\n",
      "----\n",
      "[[84.38814555 20.1092768  83.99386438]\n",
      " [20.1092768  80.78686862 20.70188202]\n",
      " [83.99386438 20.70188202 84.58650353]]\n",
      "83.99386438013819 20.70188201564472 84.58650352879164 84.3881455488669\n"
     ]
    }
   ],
   "source": [
    "i = 100\n",
    "cov = np.cov( [y[i:],y[:-i],y[i-1:-1]] )\n",
    "\n",
    "\n",
    "print(1 - (y[10:] - y[:-10]).var()/y[10:].var())\n",
    "print(1 - (y[1:] - y[:-1]).var()/y[1:].var())\n",
    "print('----')\n",
    "print(cov[0,2]**2/cov[2,2]/cov[0,0])\n",
    "print(cov[0,1]**2/cov[1,1]/cov[0,0])\n",
    "print('----')\n",
    "print(cov)\n",
    "print(cov[0,2],cov[1,2],cov[2,2],cov[0,0])"
   ]
  },
  {
   "cell_type": "code",
   "execution_count": 21,
   "id": "567aee4b",
   "metadata": {},
   "outputs": [
    {
     "data": {
      "text/plain": [
       "[<matplotlib.lines.Line2D at 0x7f02c297d820>]"
      ]
     },
     "execution_count": 21,
     "metadata": {},
     "output_type": "execute_result"
    },
    {
     "data": {
      "image/png": "[encoded data removed]",
      "text/plain": [
       "<Figure size 432x288 with 1 Axes>"
      ]
     },
     "metadata": {
      "needs_background": "light"
     },
     "output_type": "display_data"
    }
   ],
   "source": [
    "r2 = []\n",
    "\n",
    "for i in range(1,10):\n",
    "    r2.append(1 - (y[i:] - y[:-i]).var()/y[i:].var())\n",
    "    \n",
    "plt.plot(r2)"
   ]
  },
  {
   "cell_type": "code",
   "execution_count": 30,
   "id": "d3257481",
   "metadata": {},
   "outputs": [
    {
     "data": {
      "text/plain": [
       "[<matplotlib.lines.Line2D at 0x7f02c284d460>]"
      ]
     },
     "execution_count": 30,
     "metadata": {},
     "output_type": "execute_result"
    },
    {
     "data": {
      "image/png": "[encoded data removed]",
      "text/plain": [
       "<Figure size 432x288 with 1 Axes>"
      ]
     },
     "metadata": {
      "needs_background": "light"
     },
     "output_type": "display_data"
    }
   ],
   "source": [
    "r2_3 = []\n",
    "\n",
    "\n",
    "#how much extra info is in the yea behind\n",
    "for i in range(1,100,10):\n",
    "    r2_3.append(inform3(y[i:],y[:-i],y[i-1:-1]))\n",
    "    \n",
    "plt.plot(r2_3)\n"
   ]
  },
  {
   "cell_type": "code",
   "execution_count": 11,
   "id": "db413ce8",
   "metadata": {},
   "outputs": [
    {
     "name": "stdout",
     "output_type": "stream",
     "text": [
      "[[102.41826632  99.2959015  102.08030476]\n",
      " [ 99.2959015  105.83626083  99.91934423]\n",
      " [102.08030476  99.91934423 102.73880926]]\n",
      "0.000443794302991909\n",
      "---\n",
      "99.19570382270473\n",
      "493.5501847778538\n",
      "---\n",
      "---\n",
      "104.42004551781201\n",
      "496.3388507480859\n",
      "---\n",
      "0.9056542891258591\n",
      "0.9904750695317687\n"
     ]
    }
   ],
   "source": [
    "def inform3(y,y1,y2):\n",
    "    cov = np.cov( [y,y1,y2] )\n",
    "    print(cov)\n",
    "    return (cov[0,2] - cov[1,2])**2/cov[2,2]/cov[0,0]\n",
    "\n",
    "\n",
    "#denominator is biased upward... basically var(yt) = sigma*t... to that's not the right formula...\n",
    "#the numerator also has a bias cov(yt,yt-s) = \n",
    "\n",
    "print(inform3(y[10:],y[:-10],y[9:-1]))\n",
    "\n",
    "\n",
    "print('---')\n",
    "print( (y[10:]*y[:-10]).mean() - y[10:].mean()*y[:-10].mean() )\n",
    "print( (y[10:]*y[:-10]).mean() )\n",
    "print('---')\n",
    "\n",
    "\n",
    "print('---')\n",
    "print( (y[1:]*y[:-1]).mean() - y[1:].mean()*y[:-1].mean() )\n",
    "print( (y[1:]*y[:-1]).mean() )\n",
    "print('---')\n",
    "\n",
    "\n",
    "print(1 - (y[10:] - y[:-10]).var()/y[10:].var())\n",
    "print(1 - (y[1:] - y[:-1]).var()/y[1:].var())"
   ]
  },
  {
   "cell_type": "code",
   "execution_count": null,
   "id": "1afda9b6",
   "metadata": {},
   "outputs": [],
   "source": []
  },
  {
   "cell_type": "code",
   "execution_count": null,
   "id": "b98167ed",
   "metadata": {},
   "outputs": [],
   "source": []
  }
 ],
 "metadata": {
  "kernelspec": {
   "display_name": "Python 3 (ipykernel)",
   "language": "python",
   "name": "python3"
  },
  "language_info": {
   "codemirror_mode": {
    "name": "ipython",
    "version": 3
   },
   "file_extension": ".py",
   "mimetype": "text/x-python",
   "name": "python",
   "nbconvert_exporter": "python",
   "pygments_lexer": "ipython3",
   "version": "3.9.7"
  }
 },
 "nbformat": 4,
 "nbformat_minor": 5
}
