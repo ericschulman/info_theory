{
 "cells": [
  {
   "cell_type": "code",
   "execution_count": 2,
   "id": "4b55eb1f",
   "metadata": {},
   "outputs": [],
   "source": [
    "from sympy import *"
   ]
  },
  {
   "cell_type": "code",
   "execution_count": 3,
   "id": "9f1ad89e",
   "metadata": {},
   "outputs": [],
   "source": [
    "yt = Symbol('y_t')\n",
    "yt1 = Symbol('y_t-1')\n",
    "yt2 = Symbol('y_t-2')\n",
    "yt3 = Symbol('y_t-3')\n",
    "yt4 = Symbol('y_t-4')\n",
    "et = Symbol('e_t')\n",
    "et1 = Symbol('e_t-1')\n",
    "et2 = Symbol('e_t-2')\n",
    "et3 = Symbol('e_t-3')\n",
    "b = Symbol('b')\n",
    "c = Symbol('c')\n",
    "\n",
    "eq1 = yt - (b*yt1 + c*yt2 + et)\n",
    "eq2 = yt1 - (b*yt2 + c*yt3 + et1)\n",
    "eq3 = yt2 - (b*yt3 + c*yt4 + et2)"
   ]
  },
  {
   "cell_type": "code",
   "execution_count": 4,
   "id": "f0bc5c8c",
   "metadata": {},
   "outputs": [
    {
     "name": "stdout",
     "output_type": "stream",
     "text": [
      "(b*(-b*y_t-1 - e_t + y_t) + c*(c*y_t-3 + e_t-1 - y_t-1))/b\n",
      "-b*(b*y_t-2 + c*y_t-3 + e_t-1) - c*y_t-2 - e_t + y_t\n"
     ]
    }
   ],
   "source": [
    "yt_error2 = simplify(eq1.subs({yt2:solve(eq2,yt2)[0]}))\n",
    "yt_error1 = simplify(eq1.subs({yt1:solve(eq2,yt1)[0]}))\n",
    "print(yt_error2)\n",
    "print(yt_error1)"
   ]
  },
  {
   "cell_type": "code",
   "execution_count": 5,
   "id": "70e44b46",
   "metadata": {},
   "outputs": [],
   "source": [
    "import numpy as np\n",
    "import statsmodels.api as sm"
   ]
  },
  {
   "cell_type": "code",
   "execution_count": 8,
   "id": "c1d057b0",
   "metadata": {},
   "outputs": [
    {
     "name": "stdout",
     "output_type": "stream",
     "text": [
      "1.3691728070497446\n",
      "1.346153846153846\n",
      "[0.3086555 0.299628 ]\n",
      "0.05815229748347859\n",
      "0.061715505587254145\n"
     ]
    }
   ],
   "source": [
    "y = [np.random.normal(0,1),np.random.normal(0,1)]\n",
    "a = .3\n",
    "b = .3\n",
    "\n",
    "nobs = 10000\n",
    "for i in range(nobs):\n",
    "    yt = b*y[-2] + a*y[-1] + np.random.normal(0,1)\n",
    "    y.append(yt)\n",
    "    \n",
    "y = np.array(y).reshape(nobs+2,1)\n",
    "\n",
    "#double check variance is right\n",
    "print(y.var())\n",
    "print((1-b)/((1+b)*(1-b-a)*(1-b+a)))\n",
    "\n",
    "lags = np.concatenate([y[1:-1,:],y[:-2,:]],axis=1)\n",
    "model = sm.OLS(y[2:],lags)\n",
    "print(model.fit().params)\n",
    "\n",
    "proj1 = sm.OLS(y[2:],lags[:,0]).fit().fittedvalues\n",
    "proj2 = sm.OLS(y[2:],lags[:,1]).fit().fittedvalues\n",
    "\n",
    "\n",
    "def inform3(y,y1,y2):\n",
    "    cov = np.cov( [y,y1,y2] )\n",
    "    return (cov[0,2] - cov[1,2])**2/cov[2,2]/cov[0,0]\n",
    "\n",
    "\n",
    "print(inform3(y[2:].flatten(),proj1,proj2))\n",
    "print(inform3(y[2:].flatten(),proj2,proj1))"
   ]
  },
  {
   "cell_type": "code",
   "execution_count": 18,
   "id": "066b0fd3",
   "metadata": {},
   "outputs": [
    {
     "name": "stdout",
     "output_type": "stream",
     "text": [
      "492.66491625015544\n",
      "9.221938661300883e-07\n",
      "7.945576262260653e-07\n"
     ]
    }
   ],
   "source": [
    "y = [np.random.normal(0,1),np.random.normal(0,1)]\n",
    "a = .5\n",
    "b = .5\n",
    "\n",
    "nobs = 10000\n",
    "for i in range(nobs):\n",
    "    yt = b*y[-2] + a*y[-1] + np.random.normal(0,1)\n",
    "    y.append(yt)\n",
    "    \n",
    "y = np.array(y).reshape(nobs+2,1)\n",
    "\n",
    "#double check variance is right\n",
    "print(y.var())\n",
    "#print((1-b)/((1+b)*(1-b-a)*(1-b+a)))\n",
    "\n",
    "lags = np.concatenate([y[1:-1,:],y[:-2,:]],axis=1)\n",
    "#model = sm.OLS(y[2:],lags)\n",
    "#print(model.fit().params)\n",
    "\n",
    "proj1 = sm.OLS(y[2:],lags[:,0]).fit().fittedvalues\n",
    "proj2 = sm.OLS(y[2:],lags[:,1]).fit().fittedvalues\n",
    "\n",
    "\n",
    "def inform3(y,y1,y2):\n",
    "    cov = np.cov( [y,y1,y2] )\n",
    "    return (cov[0,2] - cov[1,2])**2/cov[2,2]/cov[0,0]\n",
    "\n",
    "\n",
    "print(inform3(y[2:].flatten(),proj1,proj2))\n",
    "print(inform3(y[2:].flatten(),proj2,proj1))"
   ]
  },
  {
   "cell_type": "code",
   "execution_count": 82,
   "id": "71af76b4",
   "metadata": {},
   "outputs": [
    {
     "name": "stdout",
     "output_type": "stream",
     "text": [
      "1.1633365063172807\n",
      "1.1904761904761905\n"
     ]
    }
   ],
   "source": [
    "y = [np.random.normal(0,1)]\n",
    "alpha = .4\n",
    "nobs = 1000\n",
    "for i in range(nobs):\n",
    "    yt = alpha*y[-1] + np.random.normal(0,1)\n",
    "    y.append(yt)\n",
    "\n",
    "print(np.array(y[1:]).var())\n",
    "\n",
    "#formula for var y...\n",
    "print(1/ (1-alpha**2) )"
   ]
  },
  {
   "cell_type": "code",
   "execution_count": null,
   "id": "567aee4b",
   "metadata": {},
   "outputs": [],
   "source": []
  }
 ],
 "metadata": {
  "kernelspec": {
   "display_name": "Python 3 (ipykernel)",
   "language": "python",
   "name": "python3"
  },
  "language_info": {
   "codemirror_mode": {
    "name": "ipython",
    "version": 3
   },
   "file_extension": ".py",
   "mimetype": "text/x-python",
   "name": "python",
   "nbconvert_exporter": "python",
   "pygments_lexer": "ipython3",
   "version": "3.9.7"
  }
 },
 "nbformat": 4,
 "nbformat_minor": 5
}
