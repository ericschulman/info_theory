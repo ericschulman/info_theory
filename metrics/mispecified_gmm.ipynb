{
 "cells": [
  {
   "cell_type": "code",
   "execution_count": null,
   "id": "9bb8cf92",
   "metadata": {},
   "outputs": [],
   "source": [
    "#with misepcificed moments everything depends on the limiting behavior of hte weighting matrix. it may not coverge?\n",
    "#looks like the issue is that GMM gives weight to the bad assumptions?"
   ]
  },
  {
   "cell_type": "code",
   "execution_count": 1,
   "id": "bd787f4a",
   "metadata": {},
   "outputs": [],
   "source": [
    "import numpy as np\n",
    "from scipy.optimize import minimize"
   ]
  },
  {
   "cell_type": "code",
   "execution_count": 2,
   "id": "7a0b30ff",
   "metadata": {},
   "outputs": [],
   "source": [
    "def gen_data(nobs=1000, locy=0,locx=0,scaley=1,scalex=1):\n",
    "    \n",
    "    #error terms\n",
    "    y = np.random.normal(loc=locy, scale=scaley, size=(nobs,1))\n",
    "    x = np.random.normal(loc=locx, scale=scalex, size=(nobs,1))\n",
    "\n",
    "    return y,x,nobs\n",
    "\n",
    "#the simplest example is mu = avg(x) and mu = avg(y)? only one can be true?"
   ]
  },
  {
   "cell_type": "code",
   "execution_count": 17,
   "id": "e9a6ef4d",
   "metadata": {},
   "outputs": [
    {
     "name": "stdout",
     "output_type": "stream",
     "text": [
      "[0.00673409]\n",
      "[[ 0.97746115 -0.04882105]\n",
      " [-0.04882105  1.04003912]]\n",
      "-- iter2 --\n",
      "[0.00667486]\n",
      "[[ 0.97746115 -0.04882105]\n",
      " [-0.04882105  1.04003912]]\n",
      "=============\n",
      "[0.50560577]\n",
      "[[ 0.96257557 -0.00505014]\n",
      " [-0.00505014  0.96476155]]\n",
      "-- iter2 --\n",
      "[0.50613884]\n",
      "[[ 0.96257557 -0.00505014]\n",
      " [-0.00505014  0.96476155]]\n",
      "=============\n",
      "[0.46044766]\n",
      "[[8.72756511 0.18952145]\n",
      " [0.18952145 0.99383245]]\n",
      "-- iter2 --\n",
      "[0.07304351]\n",
      "[[8.72756511 0.18952145]\n",
      " [0.18952145 0.99383245]]\n",
      "=============\n",
      "[0.50574814]\n",
      "[[ 1.0538563  -0.02474323]\n",
      " [-0.02474323  9.18327262]]\n",
      "-- iter2 --\n",
      "[0.90410428]\n",
      "[[ 1.0538563  -0.02474323]\n",
      " [-0.02474323  9.18327262]]\n",
      "=============\n"
     ]
    }
   ],
   "source": [
    "def compute_moments(params,y,x,v=False):\n",
    "    mu = np.ones(y.shape).dot([params])\n",
    "    g=  np.concatenate( (y-mu,x-mu), axis=1)\n",
    "    if v:\n",
    "        print(g)\n",
    "    return g\n",
    "\n",
    "def gmm_obj(params,y,x,weights=None):\n",
    "    g = compute_moments(params,y,x)\n",
    "    if weights is not None:\n",
    "        weights = np.linalg.inv(weights)\n",
    "    if weights is None:\n",
    "        weights = np.eye(g.shape[1])\n",
    "    g = g.mean(axis=0)\n",
    "    return g.dot(weights).dot(g)\n",
    "\n",
    "def test_run(y,x):\n",
    "    res = minimize( gmm_obj, [1],  args=(y,x))\n",
    "    print(res.x)\n",
    "    weights =  np.cov(compute_moments(res.x,y,x),rowvar=False)\n",
    "    print(weights)\n",
    "    print('-- iter2 --')\n",
    "    res = minimize( gmm_obj, [1],  args=(y,x,weights))\n",
    "    print(res.x)\n",
    "    weights =  np.cov(compute_moments(res.x,y,x),rowvar=False)\n",
    "    print(weights)\n",
    "    print('=============')\n",
    "\n",
    "\n",
    "y,x,nobs = gen_data()\n",
    "test_run(y,x)\n",
    "\n",
    "y,x,nobs = gen_data(locy=1,locx=0,scaley=1,scalex=1)\n",
    "test_run(y,x)\n",
    "\n",
    "y,x,nobs = gen_data(locy=1,locx=0,scaley=3,scalex=1)\n",
    "test_run(y,x)\n",
    "\n",
    "y,x,nobs = gen_data(locy=1,locx=0,scaley=1,scalex=3)\n",
    "test_run(y,x)\n",
    "\n",
    "#in this situation, the covariance matrix doesn't actually depend on the parameters..."
   ]
  },
  {
   "cell_type": "code",
   "execution_count": null,
   "id": "6a6fb93e",
   "metadata": {},
   "outputs": [],
   "source": []
  }
 ],
 "metadata": {
  "kernelspec": {
   "display_name": "Python 3",
   "language": "python",
   "name": "python3"
  },
  "language_info": {
   "codemirror_mode": {
    "name": "ipython",
    "version": 3
   },
   "file_extension": ".py",
   "mimetype": "text/x-python",
   "name": "python",
   "nbconvert_exporter": "python",
   "pygments_lexer": "ipython3",
   "version": "3.8.8"
  }
 },
 "nbformat": 4,
 "nbformat_minor": 5
}
