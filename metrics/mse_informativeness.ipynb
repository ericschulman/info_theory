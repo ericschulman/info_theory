{
 "cells": [
  {
   "cell_type": "code",
   "execution_count": 15,
   "id": "df3e7c3c",
   "metadata": {},
   "outputs": [],
   "source": [
    "import pandas as pd\n",
    "import numpy as np\n",
    "import sklearn.metrics as metrics\n",
    "import scipy.stats as stats\n",
    "from sklearn import feature_selection"
   ]
  },
  {
   "cell_type": "code",
   "execution_count": 16,
   "id": "0a761ad2",
   "metadata": {},
   "outputs": [],
   "source": [
    "def add_constant(x):\n",
    "    nobs = x.shape[0]\n",
    "    x = np.concatenate( (np.ones(shape=(nobs,1)),x) ,axis=1)\n",
    "    return x\n",
    "\n",
    "\n",
    "def gen_data(nobs=1000, a=.5,corr_factor=1):\n",
    "    x = np.random.normal(scale=1., size=(nobs,2))\n",
    "    corr = np.random.normal(scale=1., size=(nobs,1))\n",
    "    corr = np.repeat(corr,2).reshape(nobs,2)\n",
    "    x = x+corr_factor*corr\n",
    "    e = np.random.normal(loc=0.0, scale=1.0, size=nobs)\n",
    "    y = 1 + a*x.sum(axis=1) + e\n",
    "    x = add_constant(x)\n",
    "    return y,x,nobs\n",
    "\n",
    "def ols(y,x):\n",
    "    xx = (x.T).dot(x)\n",
    "    beta = np.linalg.inv( xx ).dot( x.T ).dot(y)\n",
    "    return beta\n",
    "\n",
    "def predict(y,x):   \n",
    "    beta  = ols(y,x)\n",
    "    return x.dot(beta)\n",
    "    "
   ]
  },
  {
   "cell_type": "code",
   "execution_count": 20,
   "id": "cec845d5",
   "metadata": {},
   "outputs": [
    {
     "name": "stdout",
     "output_type": "stream",
     "text": [
      "[[ 1.05278213e-03 -1.29307884e-05 -8.25780802e-05]\n",
      " [-1.29307884e-05  6.76278197e-04 -3.37312239e-04]\n",
      " [-8.25780802e-05 -3.37312239e-04  6.45911289e-04]]\n",
      "[[ 1.41070301e-03 -3.39771314e-05]\n",
      " [-3.39771314e-05  7.02260532e-04]]\n",
      "--\n",
      "[[ 9.43254019e-04  3.57845187e-05 -8.24154045e-06]\n",
      " [ 3.57845187e-05  9.96449816e-04  2.37022299e-05]\n",
      " [-8.24154045e-06  2.37022299e-05  9.78094138e-04]]\n",
      "[[0.00119785 0.00013352]\n",
      " [0.00013352 0.00125276]]\n"
     ]
    }
   ],
   "source": [
    "import statsmodels.api as sm\n",
    "#do standard errors go up, if i drop a covariate? yes...\n",
    "\n",
    "y,x,nobs = gen_data(nobs=1000, a=.5,corr_factor=1)\n",
    "print(sm.OLS(y,x).fit().cov_HC0)\n",
    "print(sm.OLS(y,x[:,0:2]).fit().cov_HC0)\n",
    "\n",
    "print('--')\n",
    "y,x,nobs = gen_data(nobs=1000, a=.5,corr_factor=0)\n",
    "print(sm.OLS(y,x).fit().cov_HC0)\n",
    "print(sm.OLS(y,x[:,0:2]).fit().cov_HC0)"
   ]
  },
  {
   "cell_type": "code",
   "execution_count": 14,
   "id": "6e66d18f",
   "metadata": {},
   "outputs": [
    {
     "name": "stdout",
     "output_type": "stream",
     "text": [
      "cov [[1.1144768  1.1144768 ]\n",
      " [1.1144768  1.47421922]]\n",
      "corr [[1.         0.86946976]\n",
      " [0.86946976 1.        ]]\n"
     ]
    }
   ],
   "source": [
    "def compare_mse(corr_factor=1,v=False):\n",
    "    y,x,nobs = gen_data(corr_factor=corr_factor)\n",
    "    y_hat = predict(y,x)\n",
    "    y_hat1 = predict(y,x[:,0:2].reshape(nobs,2))\n",
    "    return y_hat1,y_hat\n",
    "\n",
    "\n",
    "y_hat1,y_hat= compare_mse(corr_factor=1,v=True)\n",
    "nobs = y_hat1.shape[0]\n",
    "print('cov',np.cov((y_hat1,y_hat)))\n",
    "print('corr',np.corrcoef((y_hat1,y_hat)))"
   ]
  },
  {
   "cell_type": "code",
   "execution_count": null,
   "id": "2767f7c9",
   "metadata": {},
   "outputs": [],
   "source": [
    "#compute cov for reg1 xx sigma^2\n",
    "#compute cov for reg2 xx sigma^2\n",
    "#cov reg21 = X1'X sigma^2?\n",
    "#cov reg12  X'X1 sigma^2?\n",
    "\n",
    "#compute cov reg1, reg2 sigma1 sigma2?\n",
    "#compute cov reg2, reg1 sigma1 sigma2?"
   ]
  },
  {
   "cell_type": "code",
   "execution_count": null,
   "id": "eb9dbd62",
   "metadata": {},
   "outputs": [],
   "source": [
    "def compute_eigen2(ll1,grad1,hess1,params1,ll2,grad2,hess2,params2):\n",
    "    \n",
    "    n = ll1.shape[0]\n",
    "    hess1 = hess1/n\n",
    "    hess2 = hess2/n\n",
    "\n",
    "    k1 = params1.shape[0]\n",
    "    k2 = params2.shape[0]\n",
    "    k = k1 + k2\n",
    "    \n",
    "    #A_hat:\n",
    "    A_hat1 = np.concatenate([hess1,np.zeros((k2,k1))])\n",
    "    A_hat2 = np.concatenate([np.zeros((k1,k2)),-1*hess2])\n",
    "    A_hat = np.concatenate([A_hat1,A_hat2],axis=1)\n",
    "\n",
    "    #B_hat, covariance of the score...\n",
    "    B_hat =  np.concatenate([grad1,-grad2],axis=1) #might be a mistake here..\n",
    "    B_hat = np.cov(B_hat.transpose())\n",
    "\n",
    "    #compute eigenvalues for weighted chisq\n",
    "    sqrt_B_hat= linalg.sqrtm(B_hat)\n",
    "    W_hat = np.matmul(sqrt_B_hat,linalg.inv(A_hat))\n",
    "    W_hat = np.matmul(W_hat,sqrt_B_hat)\n",
    "    V,W = np.linalg.eig(W_hat)\n",
    "\n",
    "    return V"
   ]
  }
 ],
 "metadata": {
  "kernelspec": {
   "display_name": "Python 3",
   "language": "python",
   "name": "python3"
  },
  "language_info": {
   "codemirror_mode": {
    "name": "ipython",
    "version": 3
   },
   "file_extension": ".py",
   "mimetype": "text/x-python",
   "name": "python",
   "nbconvert_exporter": "python",
   "pygments_lexer": "ipython3",
   "version": "3.8.8"
  }
 },
 "nbformat": 4,
 "nbformat_minor": 5
}
