{
 "cells": [
  {
   "cell_type": "code",
   "execution_count": 3,
   "id": "9e4c31c7",
   "metadata": {},
   "outputs": [],
   "source": [
    "import pandas as pd\n",
    "import numpy as np\n",
    "import scipy.stats as stats\n",
    "import matplotlib.pyplot as plt"
   ]
  },
  {
   "cell_type": "code",
   "execution_count": 7,
   "id": "ee4d0af2",
   "metadata": {},
   "outputs": [
    {
     "name": "stdout",
     "output_type": "stream",
     "text": [
      "22.45400768504684\n",
      "0.7485346528290697\n"
     ]
    },
    {
     "data": {
      "text/plain": [
       "(array([  2.,   4.,  29., 110., 248., 292., 212.,  81.,  21.,   1.]),\n",
       " array([18.93770899, 19.59473595, 20.25176292, 20.90878988, 21.56581684,\n",
       "        22.2228438 , 22.87987077, 23.53689773, 24.19392469, 24.85095166,\n",
       "        25.50797862]),\n",
       " <BarContainer object of 10 artists>)"
      ]
     },
     "execution_count": 7,
     "metadata": {},
     "output_type": "execute_result"
    },
    {
     "data": {
      "image/png": "[encoded data removed]",
      "text/plain": [
       "<Figure size 432x288 with 1 Axes>"
      ]
     },
     "metadata": {
      "needs_background": "light"
     },
     "output_type": "display_data"
    }
   ],
   "source": [
    "def gen_data(nobs=1000, a=.5,k=2):\n",
    "    x = np.random.normal(scale=1., size=(nobs,k))\n",
    "    e = np.random.normal(loc=0.0, scale=1.0, size=nobs)\n",
    "    y = 1 + a*x.sum(axis=1) + e\n",
    "    return y,x,nobs\n",
    "\n",
    "\n",
    "def add_constant(x):\n",
    "    nobs = x.shape[0]\n",
    "    x = np.concatenate( (np.ones(shape=(nobs,1)),x) ,axis=1)\n",
    "    return x\n",
    "\n",
    "def ols(y,x):\n",
    "    x = add_constant(x)\n",
    "    xx = (x.T).dot(x)\n",
    "    beta = np.linalg.inv( xx ).dot( x.T ).dot(y)\n",
    "    return beta\n",
    "\n",
    "def predict(y,x):   \n",
    "    beta  = ols(y,x)\n",
    "    x = add_constant(x)\n",
    "    return x.dot(beta)\n",
    "\n",
    "def mse(k=2):\n",
    "    y,x,nobs = gen_data(k=k)\n",
    "    y_hat = predict(y,x)\n",
    "    return (y - y_hat)**2\n",
    "    \n",
    "def normalize(x):\n",
    "    nobs = x.shape[0]\n",
    "    return x.mean()/np.sqrt(x.var()/nobs)\n",
    "\n",
    "\n",
    "def run_mc1(trials=1000):\n",
    "    result = []\n",
    "    for i in range(trials):\n",
    "        y =  mse()\n",
    "        result.append(normalize(y))\n",
    "    result = np.array(result)\n",
    "    return result\n",
    "    \n",
    "\n",
    "result = run_mc1()\n",
    "print(result.mean())\n",
    "print(result.var())\n",
    "plt.hist(result)"
   ]
  },
  {
   "cell_type": "code",
   "execution_count": null,
   "id": "d3be7747",
   "metadata": {},
   "outputs": [],
   "source": []
  }
 ],
 "metadata": {
  "kernelspec": {
   "display_name": "Python 3",
   "language": "python",
   "name": "python3"
  },
  "language_info": {
   "codemirror_mode": {
    "name": "ipython",
    "version": 3
   },
   "file_extension": ".py",
   "mimetype": "text/x-python",
   "name": "python",
   "nbconvert_exporter": "python",
   "pygments_lexer": "ipython3",
   "version": "3.8.8"
  }
 },
 "nbformat": 4,
 "nbformat_minor": 5
}
