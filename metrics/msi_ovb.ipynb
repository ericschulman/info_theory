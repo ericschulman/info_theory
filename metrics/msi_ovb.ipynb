{
 "cells": [
  {
   "cell_type": "code",
   "execution_count": 1,
   "id": "df3e7c3c",
   "metadata": {},
   "outputs": [],
   "source": [
    "import pandas as pd\n",
    "import numpy as np\n",
    "import sklearn.metrics as metrics\n",
    "import scipy.stats as stats\n",
    "from sklearn import feature_selection"
   ]
  },
  {
   "cell_type": "code",
   "execution_count": 2,
   "id": "0a761ad2",
   "metadata": {},
   "outputs": [],
   "source": [
    "def gen_data(nobs=1000, a=.5,corr_factor=1):\n",
    "    x = np.random.normal(scale=1., size=(nobs,2))\n",
    "    corr = np.random.normal(scale=1., size=(nobs,1))\n",
    "    corr = np.repeat(corr,2).reshape(nobs,2)\n",
    "    x = x+corr_factor*corr\n",
    "    e = np.random.normal(loc=0.0, scale=1.0, size=nobs)\n",
    "    y = 1 + a*x.sum(axis=1) + e\n",
    "    return y,x,nobs\n",
    "\n",
    "\n",
    "def add_constant(x):\n",
    "    nobs = x.shape[0]\n",
    "    x = np.concatenate( (np.ones(shape=(nobs,1)),x) ,axis=1)\n",
    "    return x\n",
    "\n",
    "def ols(y,x):\n",
    "    x = add_constant(x)\n",
    "    xx = (x.T).dot(x)\n",
    "    beta = np.linalg.inv( xx ).dot( x.T ).dot(y)\n",
    "    return beta\n",
    "\n",
    "def predict(y,x):   \n",
    "    beta  = ols(y,x)\n",
    "    x = add_constant(x)\n",
    "    return x.dot(beta)\n",
    "    \n",
    "\n"
   ]
  },
  {
   "cell_type": "code",
   "execution_count": 3,
   "id": "6e66d18f",
   "metadata": {},
   "outputs": [
    {
     "name": "stdout",
     "output_type": "stream",
     "text": [
      "mse: 1.0002860915064098\n",
      "mse: 1.3764093182429125\n",
      "cov [[1.19266353 1.19266353]\n",
      " [1.19266353 1.56916326]]\n",
      "corr [[1.         0.87181614]\n",
      " [0.87181614 1.        ]]\n",
      "msi [0.70481935]\n",
      "--\n",
      "mse: 1.0001223588186012\n",
      "mse: 1.3081947864322288\n",
      "cov [[0.26225417 0.26225417]\n",
      " [0.26225417 0.57063498]]\n",
      "corr [[1.         0.67792556]\n",
      " [0.67792556 1.        ]]\n",
      "msi [0.28758421]\n"
     ]
    }
   ],
   "source": [
    "def compare_mse(corr_factor=1,v=False):\n",
    "    y,x,nobs = gen_data(corr_factor=corr_factor)\n",
    "    y_hat = predict(y,x)\n",
    "    if v:\n",
    "        #print(\"coeff:\", ols(y,x))\n",
    "        print(\"mse:\", (y - y_hat).var())\n",
    "\n",
    "    y_hat1 = predict(y,x[:,0].reshape(nobs,1))\n",
    "    if v:\n",
    "        #print(\"coeff:\", (ols(y,x[:,0].reshape(nobs,1))))\n",
    "        print(\"mse:\", (y - y_hat1).var())\n",
    "    return y_hat1,y_hat\n",
    "\n",
    "y_hat1,y_hat= compare_mse(corr_factor=1,v=True)\n",
    "nobs = y_hat1.shape[0]\n",
    "print('cov',np.cov((y_hat1,y_hat)))\n",
    "print('corr',np.corrcoef((y_hat1,y_hat)))\n",
    "print('msi',feature_selection.mutual_info_regression(y_hat1.reshape(nobs,1),y_hat))\n",
    "print('--')\n",
    "y_hat1,y_hat= compare_mse(corr_factor=0,v=True)\n",
    "print('cov',np.cov((y_hat1,y_hat)))\n",
    "print('corr',np.corrcoef((y_hat1,y_hat)))\n",
    "print('msi',feature_selection.mutual_info_regression(y_hat1.reshape(nobs,1),y_hat))"
   ]
  },
  {
   "cell_type": "code",
   "execution_count": 5,
   "id": "4ea0f57e",
   "metadata": {},
   "outputs": [
    {
     "name": "stdout",
     "output_type": "stream",
     "text": [
      "0.975073672674982\n",
      "1.503308092507954\n",
      "---\n",
      "0.941404222786503\n",
      "1.4734511658814509\n",
      "---\n",
      "2.191904608451839\n",
      "2.3863750009013445\n",
      "---\n",
      "2.1663477820242525\n",
      "2.370048318813725\n"
     ]
    }
   ],
   "source": [
    "def entropy(y,bins=25):\n",
    "    e = .0000001\n",
    "    y_counts, y_edges = np.histogram(y,bins=bins)\n",
    "    y_dens = (y_counts/y_counts.sum())\n",
    "    bin_size = ( y.max()-y.min() )/ bins\n",
    "    return -1*(np.log2(y_dens/bin_size+e)*y_dens).sum()\n",
    "\n",
    "y_hat1,y_hat= compare_mse(corr_factor=0)\n",
    "print(entropy(y_hat1,bins=10))\n",
    "print(entropy(y_hat,bins=10))\n",
    "print('---')\n",
    "print(entropy(y_hat1,bins=25))\n",
    "print(entropy(y_hat,bins=25))\n",
    "\n",
    "print('---')\n",
    "y_hat1,y_hat= compare_mse(corr_factor=1)\n",
    "print(entropy(y_hat1,bins=10))\n",
    "print(entropy(y_hat,bins=10))\n",
    "\n",
    "print('---')\n",
    "print(entropy(y_hat1,bins=25))\n",
    "print(entropy(y_hat,bins=25))"
   ]
  },
  {
   "cell_type": "code",
   "execution_count": null,
   "id": "735236a9",
   "metadata": {},
   "outputs": [],
   "source": []
  },
  {
   "cell_type": "code",
   "execution_count": null,
   "id": "eb9dbd62",
   "metadata": {},
   "outputs": [],
   "source": []
  }
 ],
 "metadata": {
  "kernelspec": {
   "display_name": "Python 3",
   "language": "python",
   "name": "python3"
  },
  "language_info": {
   "codemirror_mode": {
    "name": "ipython",
    "version": 3
   },
   "file_extension": ".py",
   "mimetype": "text/x-python",
   "name": "python",
   "nbconvert_exporter": "python",
   "pygments_lexer": "ipython3",
   "version": "3.8.8"
  }
 },
 "nbformat": 4,
 "nbformat_minor": 5
}
