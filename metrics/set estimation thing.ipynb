{
 "cells": [
  {
   "cell_type": "code",
   "execution_count": 1,
   "id": "a092e896",
   "metadata": {},
   "outputs": [],
   "source": [
    "import statsmodels.api as sm\n",
    "import numpy as np\n",
    "import matplotlib.pyplot as plt"
   ]
  },
  {
   "cell_type": "code",
   "execution_count": 2,
   "id": "1526315a",
   "metadata": {},
   "outputs": [],
   "source": [
    "nobs = 1000\n",
    "k =1\n",
    "Z = np.random.normal(size= (nobs,k))\n",
    "e = np.random.normal(size= nobs)\n",
    "X = np.random.normal(size= (nobs,k))\n",
    "y = X.sum(axis=1) +  Z.sum(axis=1) + e"
   ]
  },
  {
   "cell_type": "code",
   "execution_count": 3,
   "id": "f46ab266",
   "metadata": {},
   "outputs": [
    {
     "name": "stdout",
     "output_type": "stream",
     "text": [
      "[[-1.61141915]\n",
      " [-1.22264792]\n",
      " [-3.00203356]\n",
      " [-0.70923598]\n",
      " [-1.62030515]\n",
      " [-3.12049517]\n",
      " [ 1.04393545]\n",
      " [ 1.52307591]\n",
      " [-1.85914594]\n",
      " [ 1.75888862]]\n"
     ]
    },
    {
     "data": {
      "image/png": "[encoded data removed]",
      "text/plain": [
       "<Figure size 432x288 with 1 Axes>"
      ]
     },
     "metadata": {
      "needs_background": "light"
     },
     "output_type": "display_data"
    }
   ],
   "source": [
    "#plt.figure(figsize=(8,8))\n",
    "\n",
    "m1 = sm.OLS(y,X).fit().predict(X)\n",
    "m2 = sm.OLS(y,Z).fit().predict(Z)\n",
    "XZ = np.concatenate( (X,Z ),axis=1)\n",
    "m3 = sm.OLS(y,XZ).fit().predict(XZ)\n",
    "\n",
    "set_est = np.concatenate( (m1.reshape(nobs,1),m2.reshape(nobs,1) ),axis=1)\n",
    "set_est.sort(axis=1)\n",
    "\n",
    "\n",
    "#print(set_est[ (m3 >= set_est[:,1]) + (m3 <= set_est[:,0])][0:10,:] )\n",
    "print(m3.reshape(nobs,1)[ (m3 >= set_est[:,1]) + (m3 <= set_est[:,0])][0:10,:] )\n",
    "#print( ( (m3 >= set_est[:,1]) + (m3 <= set_est[:,0]) ).sum() )\n",
    "#plt.scatter(set_est[:,0],set_est[:,1])\n",
    "\n",
    "\n",
    "plt.hist(set_est[:,0],alpha=.5,density=True)\n",
    "plt.hist(set_est[:,1],alpha=.5,density=True)\n",
    "plt.hist(m3,alpha=.5,density=True)\n",
    "plt.show()"
   ]
  },
  {
   "cell_type": "markdown",
   "id": "67c17b93",
   "metadata": {},
   "source": [
    "m3 the model with x and z fall in the middle because m1 and m2 are additive. when m1 and m2 are both high, m3 will be even higher\n",
    "one of the models needs to be true... both can't be mispecified...\n",
    "also, its possible the true parameter could occur on the end points... that's totally an option... impossible to rule out...\n",
    "if i use enough discrete points, will it converge to a cts set? what about the borders?"
   ]
  },
  {
   "cell_type": "code",
   "execution_count": 7,
   "id": "486840f9",
   "metadata": {},
   "outputs": [],
   "source": [
    "w = np.random.normal(size= nobs)\n",
    "Z = np.random.normal(size= nobs) \n",
    "e = np.random.normal(size= nobs)\n",
    "u = np.random.normal(size= nobs)\n",
    "X = Z + w**2 + u \n",
    "y = X + w**2 + e"
   ]
  },
  {
   "cell_type": "markdown",
   "id": "83b77b59",
   "metadata": {},
   "source": [
    "part of x is endogenous, part is exogenous...\n",
    "in this situation, the coefficient on X is not identified... therefore... you would pick a range for beta, and get your set for y that way..."
   ]
  },
  {
   "cell_type": "code",
   "execution_count": 8,
   "id": "87e36be3",
   "metadata": {},
   "outputs": [
    {
     "name": "stdout",
     "output_type": "stream",
     "text": [
      "1.93053813558211 1.9305381355821105\n"
     ]
    }
   ],
   "source": [
    "m1 = sm.OLS(y.reshape(nobs),sm.add_constant(X)).fit()\n",
    "print(y.mean(), m1.predict(sm.add_constant(X)).mean()) #why does X under-predict y?"
   ]
  },
  {
   "cell_type": "markdown",
   "id": "2a95bcf4",
   "metadata": {},
   "source": [
    "Becomes an issue in a counterfactual... suppose distribution of w changes..."
   ]
  },
  {
   "cell_type": "code",
   "execution_count": 9,
   "id": "4e54616d",
   "metadata": {},
   "outputs": [
    {
     "name": "stdout",
     "output_type": "stream",
     "text": [
      "1.064828425607222 0.5636189433313898\n"
     ]
    }
   ],
   "source": [
    "w = np.random.normal(size= nobs)\n",
    "Z = np.random.normal(size= nobs) \n",
    "e = np.random.normal(size= nobs)\n",
    "u = np.random.normal(size= nobs)\n",
    "X = Z**2 - w**2 + u \n",
    "y = X + w**2 + e\n",
    "\n",
    "print(y.mean(), m1.predict(sm.add_constant(X)).mean())"
   ]
  },
  {
   "cell_type": "code",
   "execution_count": 10,
   "id": "07f40a38",
   "metadata": {},
   "outputs": [
    {
     "name": "stdout",
     "output_type": "stream",
     "text": [
      "1.064828425607222 0.10232162481729298 1.5348243722593946\n"
     ]
    }
   ],
   "source": [
    "#try to cover the support of y to come up with a set...\n",
    "print(y.mean(), sm.add_constant(X).dot([ .1, .1 ] ).mean(), sm.add_constant(X).dot([ 1.5, 1.5 ] ).mean())"
   ]
  },
  {
   "cell_type": "code",
   "execution_count": null,
   "id": "84bbd565",
   "metadata": {},
   "outputs": [],
   "source": []
  }
 ],
 "metadata": {
  "kernelspec": {
   "display_name": "Python 3 (ipykernel)",
   "language": "python",
   "name": "python3"
  },
  "language_info": {
   "codemirror_mode": {
    "name": "ipython",
    "version": 3
   },
   "file_extension": ".py",
   "mimetype": "text/x-python",
   "name": "python",
   "nbconvert_exporter": "python",
   "pygments_lexer": "ipython3",
   "version": "3.9.7"
  }
 },
 "nbformat": 4,
 "nbformat_minor": 5
}
