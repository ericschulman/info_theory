{
 "cells": [
  {
   "cell_type": "code",
   "execution_count": 24,
   "id": "8778b84c",
   "metadata": {},
   "outputs": [],
   "source": [
    "import statsmodels.api as sm\n",
    "import numpy as np"
   ]
  },
  {
   "cell_type": "code",
   "execution_count": 25,
   "id": "175d07f1",
   "metadata": {},
   "outputs": [],
   "source": [
    "nobs = 1000\n",
    "\n",
    "w = np.random.normal(size= nobs)\n",
    "z = np.random.normal(size= (nobs,2))\n",
    "z = z \n",
    "e = np.random.normal(size= nobs)\n",
    "u = np.random.normal(size= nobs)\n",
    "x = z[:,1]**2 + w + u \n",
    "X = np.concatenate( (x.reshape(nobs,1) ,z ),axis=1)\n",
    "y = x +  z.sum(axis=1)+ w + e\n",
    "#+ z.sum(axis=1) +\n",
    "\n",
    "z0 =np.random.normal(size= (nobs,2))\n",
    "w0 = np.abs( np.random.normal(size= nobs) )\n",
    "z0 = z0 \n",
    "e0 = np.random.normal(size= nobs)\n",
    "u0 = np.random.normal(size= nobs)\n",
    "x0 = z0[:,1]**2 - (w0) + u0\n",
    "X0 = np.concatenate( (x0.reshape(nobs,1) ,z0 ),axis=1)\n",
    "y0 = x0 + z0.sum(axis=1) +  (w0) + e0\n",
    "\n",
    "#have more than 2 zs doesn't seem to matter\n",
    "#+ z0.sum(axis=1) +"
   ]
  },
  {
   "cell_type": "code",
   "execution_count": 26,
   "id": "867187db",
   "metadata": {},
   "outputs": [
    {
     "name": "stdout",
     "output_type": "stream",
     "text": [
      "4.431435531422685\n"
     ]
    }
   ],
   "source": [
    "#if z is an instrument\n",
    "#it's better to use it to predict X than it is to include it?\n",
    "\n",
    "\n",
    "model1 = sm.OLS(y,x).fit()\n",
    "pred1 = model1.predict(x0)\n",
    "print(  ( (y0-pred1)**2 ) .mean() )"
   ]
  },
  {
   "cell_type": "code",
   "execution_count": 27,
   "id": "b3f52ef1",
   "metadata": {},
   "outputs": [
    {
     "name": "stdout",
     "output_type": "stream",
     "text": [
      "2.346850168263938\n"
     ]
    }
   ],
   "source": [
    "#if z does not contain most of the information in x, then it's better to just include both...\n",
    "\n",
    "model1 = sm.OLS(y,X).fit()\n",
    "pred1 = model1.predict(X0)\n",
    "print(  ( (y0-pred1)**2 ) .mean() )"
   ]
  },
  {
   "cell_type": "code",
   "execution_count": 28,
   "id": "208f2e0c",
   "metadata": {},
   "outputs": [
    {
     "name": "stdout",
     "output_type": "stream",
     "text": [
      "5.545264168852539\n"
     ]
    }
   ],
   "source": [
    "#the best option is just not including x at all and just including z?\n",
    "#this only works if z contains most of the information in X... if z does not it's a bad option...\n",
    "\n",
    "model1 = sm.OLS(y,z).fit()\n",
    "pred1 = model1.predict(z0)\n",
    "print(  ( (y0-pred1)**2 ) .mean() )"
   ]
  },
  {
   "cell_type": "code",
   "execution_count": 29,
   "id": "3a68abaf",
   "metadata": {},
   "outputs": [
    {
     "name": "stdout",
     "output_type": "stream",
     "text": [
      "5.545264168852539\n"
     ]
    }
   ],
   "source": [
    "#looks like IV does the same thing as predicting y with just z?\n",
    "\n",
    "model1 = sm.OLS(y,X).fit()\n",
    "model0 = sm.OLS(x,z).fit()\n",
    "\n",
    "pred0 = model0.predict(z0)\n",
    "pred0 = np.concatenate( (pred0.reshape(nobs,1) ,z0 ),axis=1)\n",
    "pred1 = model1.predict(pred0)\n",
    "print(  ( (y0-pred1)**2 ) .mean() )"
   ]
  },
  {
   "cell_type": "code",
   "execution_count": null,
   "id": "19668fac",
   "metadata": {},
   "outputs": [],
   "source": []
  },
  {
   "cell_type": "code",
   "execution_count": null,
   "id": "348a45b2",
   "metadata": {},
   "outputs": [],
   "source": []
  }
 ],
 "metadata": {
  "kernelspec": {
   "display_name": "Python 3 (ipykernel)",
   "language": "python",
   "name": "python3"
  },
  "language_info": {
   "codemirror_mode": {
    "name": "ipython",
    "version": 3
   },
   "file_extension": ".py",
   "mimetype": "text/x-python",
   "name": "python",
   "nbconvert_exporter": "python",
   "pygments_lexer": "ipython3",
   "version": "3.9.7"
  }
 },
 "nbformat": 4,
 "nbformat_minor": 5
}
