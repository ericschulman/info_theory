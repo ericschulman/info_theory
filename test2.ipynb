{
 "cells": [
  {
   "cell_type": "code",
   "execution_count": 1,
   "metadata": {},
   "outputs": [],
   "source": [
    "import pandas as pd\n",
    "import math\n",
    "import numpy as np\n",
    "import statsmodels.api as sm\n",
    "import matplotlib.pyplot as plt\n",
    "from statsmodels.sandbox.regression.gmm import GMM\n",
    "from datetime import datetime"
   ]
  },
  {
   "cell_type": "code",
   "execution_count": 2,
   "metadata": {},
   "outputs": [
    {
     "name": "stdout",
     "output_type": "stream",
     "text": [
      "Index(['Unnamed: 0', 'id', 'group', 'year', 'month', 'replace', 'miles',\n",
      "       'day'],\n",
      "      dtype='object')\n"
     ]
    }
   ],
   "source": [
    "data = pd.read_csv('bus1234.csv')\n",
    "data = pd.read_csv('bus1234.csv')\n",
    "data['day'] = 1\n",
    "data['day'] = pd.to_datetime(data[['year','month','day']])\n",
    "\n",
    "print(data.columns)"
   ]
  },
  {
   "cell_type": "code",
   "execution_count": 4,
   "metadata": {},
   "outputs": [],
   "source": [
    "#from statsmodels.tsa.arima_model import ARMA\n",
    "\n",
    "#create ID dummies\n",
    "#different lines for each\n",
    "\n",
    "#model = ARMA(data, order=(0, 1))\n",
    "#model_fit = model.fit(disp=False)"
   ]
  },
  {
   "cell_type": "code",
   "execution_count": 27,
   "metadata": {},
   "outputs": [
    {
     "name": "stdout",
     "output_type": "stream",
     "text": [
      "Optimization terminated successfully.\n",
      "         Current function value: 0.000000\n",
      "         Iterations: 54\n",
      "         Function evaluations: 103\n",
      "Optimization terminated successfully.\n",
      "         Current function value: 0.000090\n",
      "         Iterations: 20\n",
      "         Function evaluations: 39\n",
      "Optimization terminated successfully.\n",
      "         Current function value: 0.000093\n",
      "         Iterations: 16\n",
      "         Function evaluations: 33\n",
      "Optimization terminated successfully.\n",
      "         Current function value: 0.000093\n",
      "         Iterations: 16\n",
      "         Function evaluations: 33\n"
     ]
    },
    {
     "data": {
      "text/html": [
       "<table class=\"simpletable\">\n",
       "<caption>test Results</caption>\n",
       "<tr>\n",
       "  <th>Dep. Variable:</th>         <td>replace</td>     <th>  Hansen J:          </th> <td>  0.2397</td>\n",
       "</tr>\n",
       "<tr>\n",
       "  <th>Model:</th>                  <td>test</td>       <th>  Prob (Hansen J):   </th>  <td>  1.00</td> \n",
       "</tr>\n",
       "<tr>\n",
       "  <th>Method:</th>                  <td>GMM</td>       <th>                     </th>     <td> </td>   \n",
       "</tr>\n",
       "<tr>\n",
       "  <th>Date:</th>             <td>Mon, 04 Nov 2019</td> <th>                     </th>     <td> </td>   \n",
       "</tr>\n",
       "<tr>\n",
       "  <th>Time:</th>                 <td>19:36:36</td>     <th>                     </th>     <td> </td>   \n",
       "</tr>\n",
       "<tr>\n",
       "  <th>No. Observations:</th>      <td>  8260</td>      <th>                     </th>     <td> </td>   \n",
       "</tr>\n",
       "</table>\n",
       "<table class=\"simpletable\">\n",
       "<tr>\n",
       "   <td></td>      <th>coef</th>     <th>std err</th>      <th>z</th>      <th>P>|z|</th>  <th>[0.025</th>    <th>0.975]</th>  \n",
       "</tr>\n",
       "<tr>\n",
       "  <th>p 0</th> <td>    0.0785</td> <td>    0.003</td> <td>   22.999</td> <td> 0.000</td> <td>    0.072</td> <td>    0.085</td>\n",
       "</tr>\n",
       "<tr>\n",
       "  <th>p 1</th> <td>   -0.9682</td> <td>    0.006</td> <td> -167.266</td> <td> 0.000</td> <td>   -0.980</td> <td>   -0.957</td>\n",
       "</tr>\n",
       "</table>"
      ],
      "text/plain": [
       "<class 'statsmodels.iolib.summary.Summary'>\n",
       "\"\"\"\n",
       "                                 test Results                                 \n",
       "==============================================================================\n",
       "Dep. Variable:                replace   Hansen J:                       0.2397\n",
       "Model:                           test   Prob (Hansen J):                  1.00\n",
       "Method:                           GMM                                         \n",
       "Date:                Mon, 04 Nov 2019                                         \n",
       "Time:                        19:36:36                                         \n",
       "No. Observations:                8260                                         \n",
       "==============================================================================\n",
       "                 coef    std err          z      P>|z|      [0.025      0.975]\n",
       "------------------------------------------------------------------------------\n",
       "p 0            0.0785      0.003     22.999      0.000       0.072       0.085\n",
       "p 1           -0.9682      0.006   -167.266      0.000      -0.980      -0.957\n",
       "==============================================================================\n",
       "\"\"\""
      ]
     },
     "execution_count": 27,
     "metadata": {},
     "output_type": "execute_result"
    }
   ],
   "source": [
    "class test(GMM):\n",
    "    \n",
    "    def __init__(self,*args, shift=50, gap=1, nmoms=10, **kwds, ):\n",
    "        # set appropriate counts for moment conditions and parameters\n",
    "        kwds.setdefault('k_moms', nmoms)\n",
    "        kwds.setdefault('k_params',2)\n",
    "        self.shift = shift\n",
    "        super(test, self).__init__(*args, **kwds)\n",
    "        \n",
    "        \n",
    "    def momcond(self, params):\n",
    "        \n",
    "        data = self.instrument.copy()\n",
    "        data['miles'] = data['miles']/1e6\n",
    "        data['util'] = params[0]*data['miles']*(1-data['replace']) + params[1]*data['replace']\n",
    "        data['util_shock'] = data['shock'] + data['util']\n",
    "        u_avg = data['util'].mean()\n",
    "        \n",
    "        moms = []\n",
    "        for t in range(1,self.nmoms+1):\n",
    "            #lag but loop around\n",
    "            u_lag = data.groupby('id')['util'].shift(t*gap+self.shift)\n",
    "            moms.append(data['util_shock']*u_lag - u_avg**2)\n",
    "        moms = pd.DataFrame(np.array(moms).transpose())\n",
    "        moms = moms.dropna()\n",
    "        return moms\n",
    "    \n",
    "data['shock'] = sm.OLS(data['replace'], sm.add_constant( data['miles']/1e6 ) ).fit().resid\n",
    "#data['shock'] = sm.Logit(data['replace'], sm.add_constant( data['miles']/1e6 ) ).fit().resid_response\n",
    "\n",
    "data = data.sort_values(['id','day'])  \n",
    "model = test(data['replace'],data['miles'],data[['id','miles','replace','day','shock']], shift=50)\n",
    "result = model.fit(np.array([-.5,-10]),optim_method='nm')\n",
    "result.summary()"
   ]
  },
  {
   "cell_type": "code",
   "execution_count": 41,
   "metadata": {},
   "outputs": [
    {
     "name": "stdout",
     "output_type": "stream",
     "text": [
      "Optimization terminated successfully.\n",
      "         Current function value: 0.000000\n",
      "         Iterations: 66\n",
      "         Function evaluations: 126\n",
      "Optimization terminated successfully.\n",
      "         Current function value: 0.000749\n",
      "         Iterations: 9\n",
      "         Function evaluations: 18\n",
      "Optimization terminated successfully.\n",
      "         Current function value: 0.000009\n",
      "         Iterations: 20\n",
      "         Function evaluations: 39\n",
      "Optimization terminated successfully.\n",
      "         Current function value: 0.000023\n",
      "         Iterations: 18\n",
      "         Function evaluations: 34\n"
     ]
    },
    {
     "data": {
      "text/html": [
       "<table class=\"simpletable\">\n",
       "<caption>test Results</caption>\n",
       "<tr>\n",
       "  <th>Dep. Variable:</th>         <td>replace</td>     <th>  Hansen J:          </th> <td> 0.02059</td>\n",
       "</tr>\n",
       "<tr>\n",
       "  <th>Model:</th>                  <td>test</td>       <th>  Prob (Hansen J):   </th>  <td> 0.990</td> \n",
       "</tr>\n",
       "<tr>\n",
       "  <th>Method:</th>                  <td>GMM</td>       <th>                     </th>     <td> </td>   \n",
       "</tr>\n",
       "<tr>\n",
       "  <th>Date:</th>             <td>Mon, 04 Nov 2019</td> <th>                     </th>     <td> </td>   \n",
       "</tr>\n",
       "<tr>\n",
       "  <th>Time:</th>                 <td>19:47:54</td>     <th>                     </th>     <td> </td>   \n",
       "</tr>\n",
       "<tr>\n",
       "  <th>No. Observations:</th>      <td>  1000</td>      <th>                     </th>     <td> </td>   \n",
       "</tr>\n",
       "</table>\n",
       "<table class=\"simpletable\">\n",
       "<tr>\n",
       "   <td></td>      <th>coef</th>     <th>std err</th>      <th>z</th>      <th>P>|z|</th>  <th>[0.025</th>    <th>0.975]</th>  \n",
       "</tr>\n",
       "<tr>\n",
       "  <th>p 0</th> <td> 7.731e-10</td> <td> 6.17e-09</td> <td>    0.125</td> <td> 0.900</td> <td>-1.13e-08</td> <td> 1.29e-08</td>\n",
       "</tr>\n",
       "<tr>\n",
       "  <th>p 1</th> <td> 4.482e-13</td> <td> 1.53e-13</td> <td>    2.928</td> <td> 0.003</td> <td> 1.48e-13</td> <td> 7.48e-13</td>\n",
       "</tr>\n",
       "</table>"
      ],
      "text/plain": [
       "<class 'statsmodels.iolib.summary.Summary'>\n",
       "\"\"\"\n",
       "                                 test Results                                 \n",
       "==============================================================================\n",
       "Dep. Variable:                replace   Hansen J:                      0.02059\n",
       "Model:                           test   Prob (Hansen J):                 0.990\n",
       "Method:                           GMM                                         \n",
       "Date:                Mon, 04 Nov 2019                                         \n",
       "Time:                        19:47:54                                         \n",
       "No. Observations:                1000                                         \n",
       "==============================================================================\n",
       "                 coef    std err          z      P>|z|      [0.025      0.975]\n",
       "------------------------------------------------------------------------------\n",
       "p 0         7.731e-10   6.17e-09      0.125      0.900   -1.13e-08    1.29e-08\n",
       "p 1         4.482e-13   1.53e-13      2.928      0.003    1.48e-13    7.48e-13\n",
       "==============================================================================\n",
       "\"\"\""
      ]
     },
     "execution_count": 41,
     "metadata": {},
     "output_type": "execute_result"
    }
   ],
   "source": [
    "N = 1000\n",
    "ids = np.ones(N)\n",
    "xs = np.zeros(N)\n",
    "ys = np.zeros(N)\n",
    "RC = -10\n",
    "theta = -1\n",
    "\n",
    "\n",
    "\n",
    "for i in range(1,N):\n",
    "\n",
    "    ys[i] = (RC >= theta*xs[i-1] + np.random.uniform(-2,2) )\n",
    "    \n",
    "    if ys[i] == 0:\n",
    "        xs[i] = xs[i-1] + np.random.uniform(0,1)\n",
    "    if ys[i]==1:\n",
    "        xs[i] = np.random.uniform(0,2)\n",
    "\n",
    "\n",
    "        \n",
    "data2 = pd.DataFrame( np.array([ids,xs,ys]).transpose(), columns=['id','miles','replace'])    \n",
    "data2['shock'] = sm.OLS(data2['replace'], sm.add_constant( data2['miles']/1e6 ) ).fit().resid\n",
    "#data['shock'] = sm.Logit(data['replace'], sm.add_constant( data['miles']/1e6 ) ).fit().resid_response\n",
    "model = test(data2['replace'],data2['miles'],data2[['id','miles','replace','shock']] ,\n",
    "             shift=100,gap=11,nmoms=4)\n",
    "result = model.fit(np.array([-.5,-10]),optim_method='nm')\n",
    "result.summary()"
   ]
  },
  {
   "cell_type": "code",
   "execution_count": null,
   "metadata": {},
   "outputs": [],
   "source": []
  }
 ],
 "metadata": {
  "kernelspec": {
   "display_name": "Python 3",
   "language": "python",
   "name": "python3"
  },
  "language_info": {
   "codemirror_mode": {
    "name": "ipython",
    "version": 3
   },
   "file_extension": ".py",
   "mimetype": "text/x-python",
   "name": "python",
   "nbconvert_exporter": "python",
   "pygments_lexer": "ipython3",
   "version": "3.7.3"
  }
 },
 "nbformat": 4,
 "nbformat_minor": 2
}
