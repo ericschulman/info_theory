{
 "cells": [
  {
   "cell_type": "code",
   "execution_count": 1,
   "id": "c971f523",
   "metadata": {},
   "outputs": [],
   "source": [
    "from sympy import *"
   ]
  },
  {
   "cell_type": "code",
   "execution_count": 2,
   "id": "f2c9ef19",
   "metadata": {},
   "outputs": [
    {
     "data": {
      "text/latex": [
       "$\\displaystyle - 0.65 \\left(- c + 0.65 m + 0.35 b{\\left(m \\right)}\\right) \\left. \\frac{d}{d \\xi_{1}} Q{\\left(\\xi_{1} \\right)} \\right|_{\\substack{ \\xi_{1}=0.65 m - 0.65 b{\\left(m \\right)} }} + 0.35 Q{\\left(0.65 m - 0.65 b{\\left(m \\right)} \\right)}$"
      ],
      "text/plain": [
       "-0.65*(-c + 0.65*m + 0.35*b(m))*Subs(Derivative(Q(_xi_1), _xi_1), _xi_1, 0.65*m - 0.65*b(m)) + 0.35*Q(0.65*m - 0.65*b(m))"
      ]
     },
     "metadata": {},
     "output_type": "display_data"
    }
   ],
   "source": [
    "bid = Function('b')\n",
    "bm = Symbol('m')\n",
    "c = Symbol('c')\n",
    "quantity = Function('Q')\n",
    "\n",
    "payment = .35*bid(bm) + .65*bm\n",
    "rebate = .65*(bm-bid(bm))\n",
    "\n",
    "profit = (payment - c)*quantity(rebate)\n",
    "\n",
    "foc = diff(profit,bid(bm))\n",
    "display(foc)"
   ]
  },
  {
   "cell_type": "code",
   "execution_count": 3,
   "id": "cef5fc5b",
   "metadata": {},
   "outputs": [
    {
     "data": {
      "text/latex": [
       "$\\displaystyle - 0.65 \\cdot \\left(0.65 - 0.65 \\frac{d}{d m} b{\\left(m \\right)}\\right) \\left(- c + 0.65 m + 0.35 b{\\left(m \\right)}\\right) \\left. \\frac{d^{2}}{d \\xi_{1}^{2}} Q{\\left(\\xi_{1} \\right)} \\right|_{\\substack{ \\xi_{1}=0.65 m - 0.65 b{\\left(m \\right)} }} + 0.35 \\cdot \\left(0.65 - 0.65 \\frac{d}{d m} b{\\left(m \\right)}\\right) \\left. \\frac{d}{d \\xi_{1}} Q{\\left(\\xi_{1} \\right)} \\right|_{\\substack{ \\xi_{1}=0.65 m - 0.65 b{\\left(m \\right)} }} - 0.65 \\cdot \\left(0.35 \\frac{d}{d m} b{\\left(m \\right)} + 0.65\\right) \\left. \\frac{d}{d \\xi_{1}} Q{\\left(\\xi_{1} \\right)} \\right|_{\\substack{ \\xi_{1}=0.65 m - 0.65 b{\\left(m \\right)} }}$"
      ],
      "text/plain": [
       "-0.65*(0.65 - 0.65*Derivative(b(m), m))*(-c + 0.65*m + 0.35*b(m))*Subs(Derivative(Q(_xi_1), (_xi_1, 2)), _xi_1, 0.65*m - 0.65*b(m)) + 0.35*(0.65 - 0.65*Derivative(b(m), m))*Subs(Derivative(Q(_xi_1), _xi_1), _xi_1, 0.65*m - 0.65*b(m)) - 0.65*(0.35*Derivative(b(m), m) + 0.65)*Subs(Derivative(Q(_xi_1), _xi_1), _xi_1, 0.65*m - 0.65*b(m))"
      ]
     },
     "metadata": {},
     "output_type": "display_data"
    },
    {
     "name": "stdout",
     "output_type": "stream",
     "text": [
      "\n",
      "\n",
      "\n"
     ]
    },
    {
     "data": {
      "text/latex": [
       "$\\displaystyle \\frac{260.0 c \\left. \\frac{d^{2}}{d \\xi_{1}^{2}} Q{\\left(\\xi_{1} \\right)} \\right|_{\\substack{ \\xi_{1}=\\frac{13 m}{20} - \\frac{13 b{\\left(m \\right)}}{20} }} - 169.0 m \\left. \\frac{d^{2}}{d \\xi_{1}^{2}} Q{\\left(\\xi_{1} \\right)} \\right|_{\\substack{ \\xi_{1}=\\frac{13 m}{20} - \\frac{13 b{\\left(m \\right)}}{20} }} - 91.0 b{\\left(m \\right)} \\left. \\frac{d^{2}}{d \\xi_{1}^{2}} Q{\\left(\\xi_{1} \\right)} \\right|_{\\substack{ \\xi_{1}=\\frac{13 m}{20} - \\frac{13 b{\\left(m \\right)}}{20} }} - 120.0 \\left. \\frac{d}{d \\xi_{1}} Q{\\left(\\xi_{1} \\right)} \\right|_{\\substack{ \\xi_{1}=\\frac{13 m}{20} - \\frac{13 b{\\left(m \\right)}}{20} }}}{260.0 c \\left. \\frac{d^{2}}{d \\xi_{1}^{2}} Q{\\left(\\xi_{1} \\right)} \\right|_{\\substack{ \\xi_{1}=\\frac{13 m}{20} - \\frac{13 b{\\left(m \\right)}}{20} }} - 169.0 m \\left. \\frac{d^{2}}{d \\xi_{1}^{2}} Q{\\left(\\xi_{1} \\right)} \\right|_{\\substack{ \\xi_{1}=\\frac{13 m}{20} - \\frac{13 b{\\left(m \\right)}}{20} }} - 91.0 b{\\left(m \\right)} \\left. \\frac{d^{2}}{d \\xi_{1}^{2}} Q{\\left(\\xi_{1} \\right)} \\right|_{\\substack{ \\xi_{1}=\\frac{13 m}{20} - \\frac{13 b{\\left(m \\right)}}{20} }} + 280.0 \\left. \\frac{d}{d \\xi_{1}} Q{\\left(\\xi_{1} \\right)} \\right|_{\\substack{ \\xi_{1}=\\frac{13 m}{20} - \\frac{13 b{\\left(m \\right)}}{20} }}}$"
      ],
      "text/plain": [
       "(260.0*c*Subs(Derivative(Q(_xi_1), (_xi_1, 2)), _xi_1, 13*m/20 - 13*b(m)/20) - 169.0*m*Subs(Derivative(Q(_xi_1), (_xi_1, 2)), _xi_1, 13*m/20 - 13*b(m)/20) - 91.0*b(m)*Subs(Derivative(Q(_xi_1), (_xi_1, 2)), _xi_1, 13*m/20 - 13*b(m)/20) - 120.0*Subs(Derivative(Q(_xi_1), _xi_1), _xi_1, 13*m/20 - 13*b(m)/20))/(260.0*c*Subs(Derivative(Q(_xi_1), (_xi_1, 2)), _xi_1, 13*m/20 - 13*b(m)/20) - 169.0*m*Subs(Derivative(Q(_xi_1), (_xi_1, 2)), _xi_1, 13*m/20 - 13*b(m)/20) - 91.0*b(m)*Subs(Derivative(Q(_xi_1), (_xi_1, 2)), _xi_1, 13*m/20 - 13*b(m)/20) + 280.0*Subs(Derivative(Q(_xi_1), _xi_1), _xi_1, 13*m/20 - 13*b(m)/20))"
      ]
     },
     "metadata": {},
     "output_type": "display_data"
    }
   ],
   "source": [
    "eq2 = diff(foc,bm)\n",
    "display(eq2)\n",
    "print('\\n\\n')\n",
    "\n",
    "enrollment_effect = diff(bid(bm),bm)\n",
    "solution = factor(eq2,enrollment_effect)\n",
    "display(simplify(solve(solution,enrollment_effect)[0]))"
   ]
  }
 ],
 "metadata": {
  "kernelspec": {
   "display_name": "Python 3 (ipykernel)",
   "language": "python",
   "name": "python3"
  },
  "language_info": {
   "codemirror_mode": {
    "name": "ipython",
    "version": 3
   },
   "file_extension": ".py",
   "mimetype": "text/x-python",
   "name": "python",
   "nbconvert_exporter": "python",
   "pygments_lexer": "ipython3",
   "version": "3.10.9"
  }
 },
 "nbformat": 4,
 "nbformat_minor": 5
}
