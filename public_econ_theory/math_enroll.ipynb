{
 "cells": [
  {
   "cell_type": "code",
   "execution_count": 1,
   "id": "c971f523",
   "metadata": {},
   "outputs": [],
   "source": [
    "from sympy import *"
   ]
  },
  {
   "cell_type": "code",
   "execution_count": 3,
   "id": "f2c9ef19",
   "metadata": {
    "scrolled": true
   },
   "outputs": [
    {
     "data": {
      "text/latex": [
       "$\\displaystyle \\left(\\begin{cases} 0.65 - 0.65 \\frac{d}{d m} b{\\left(m \\right)} & \\text{for}\\: m - b{\\left(m \\right)} > 0 \\\\0 & \\text{otherwise} \\end{cases}\\right) \\left. \\frac{d}{d \\xi_{1}} Q{\\left(\\xi_{1} \\right)} \\right|_{\\substack{ \\xi_{1}=\\begin{cases} 0.65 m - 0.65 b{\\left(m \\right)} & \\text{for}\\: m - b{\\left(m \\right)} > 0 \\\\0 & \\text{otherwise} \\end{cases} }}$"
      ],
      "text/plain": [
       "Piecewise((0.65 - 0.65*Derivative(b(m), m), m - b(m) > 0), (0, True))*Subs(Derivative(Q(_xi_1), _xi_1), _xi_1, Piecewise((0.65*m - 0.65*b(m), m - b(m) > 0), (0, True)))"
      ]
     },
     "metadata": {},
     "output_type": "display_data"
    }
   ],
   "source": [
    "bid = Function('b')\n",
    "bm = Symbol('m')\n",
    "c = Symbol('c')\n",
    "quantity = Function('Q')\n",
    "\n",
    "payment = .35*bid(bm) + .65*bm\n",
    "rebate =  Piecewise( (.65*(bm-bid(bm)), (bm-bid(bm)) >0 ), (0,True)) \n",
    "\n",
    "profit = (payment - c)*quantity(rebate)\n",
    "\n",
    "foc = diff(quantity(rebate),bm)\n",
    "display(foc)"
   ]
  },
  {
   "cell_type": "code",
   "execution_count": null,
   "id": "41a559a9",
   "metadata": {},
   "outputs": [],
   "source": []
  }
 ],
 "metadata": {
  "kernelspec": {
   "display_name": "Python 3 (ipykernel)",
   "language": "python",
   "name": "python3"
  },
  "language_info": {
   "codemirror_mode": {
    "name": "ipython",
    "version": 3
   },
   "file_extension": ".py",
   "mimetype": "text/x-python",
   "name": "python",
   "nbconvert_exporter": "python",
   "pygments_lexer": "ipython3",
   "version": "3.10.9"
  }
 },
 "nbformat": 4,
 "nbformat_minor": 5
}
