{
 "cells": [
  {
   "cell_type": "code",
   "execution_count": 1,
   "id": "707abbcb",
   "metadata": {},
   "outputs": [],
   "source": [
    "from sympy import *"
   ]
  },
  {
   "cell_type": "code",
   "execution_count": 9,
   "id": "ffb3bdb2",
   "metadata": {},
   "outputs": [
    {
     "name": "stdout",
     "output_type": "stream",
     "text": [
      "880.390723181883 + 0.e-20*I\n",
      "77.7460299317761 - 4.40457132572236e-21*I\n",
      "58.1367531136591 + 2.37169225231204e-21*I\n",
      "-0.028688999747316 + 1.63132271323049e-23*I\n"
     ]
    }
   ],
   "source": [
    "bid = Function('b')\n",
    "bm = Symbol('m')\n",
    "c = Symbol('c')\n",
    "q = lambda x : x/(x+200)\n",
    "#so, with the (x/(a+x))... as a goes up, demand becomes less elastic, the bid bm elasticity goes down...\n",
    "\n",
    "#q = lambda x : (2.7182818)**(.13*x) #this one doesnt seem to effect the enrollment effect\n",
    "\n",
    "payment = .35*bid(bm) + .65*bm\n",
    "rebate = .65*(bm-bid(bm))\n",
    "\n",
    "pi = (payment - c)*q(rebate)\n",
    "\n",
    "\n",
    "#calcualte empirical bnids and stuff\n",
    "emp_bm = 1000\n",
    "emp_cost = 900\n",
    "\n",
    "emp_bid = diff(pi,bid(bm))\n",
    "emp_bid = solve(simplify(emp_bid.subs({c:emp_cost,bm:emp_bm})),bid(emp_bm))\n",
    "emp_bid = emp_bid[0]\n",
    "print(emp_bid)\n",
    "print(.65*(1000-emp_bid))\n",
    "print(.65*1000+.35*emp_bid-900)\n",
    "\n",
    "\n",
    "#calcualte the enrollment effect\n",
    "foc = diff(pi,bid(bm))\n",
    "eq2 = diff(foc,bm)\n",
    "\n",
    "\n",
    "enrollment_effect = diff(bid(bm),bm)\n",
    "solution = factor(eq2,enrollment_effect)\n",
    "result = simplify(solve(solution,enrollment_effect)[0])\n",
    "\n",
    "emp_result = result.subs({c:emp_cost,bm:emp_bm}).subs({bid(emp_bm):emp_bid})\n",
    "print(simplify(emp_result))"
   ]
  },
  {
   "cell_type": "code",
   "execution_count": 3,
   "id": "ce55fa69",
   "metadata": {},
   "outputs": [
    {
     "data": {
      "text/plain": [
       "-1.8571428571428"
      ]
     },
     "execution_count": 3,
     "metadata": {},
     "output_type": "execute_result"
    }
   ],
   "source": [
    "\n"
   ]
  }
 ],
 "metadata": {
  "kernelspec": {
   "display_name": "Python 3 (ipykernel)",
   "language": "python",
   "name": "python3"
  },
  "language_info": {
   "codemirror_mode": {
    "name": "ipython",
    "version": 3
   },
   "file_extension": ".py",
   "mimetype": "text/x-python",
   "name": "python",
   "nbconvert_exporter": "python",
   "pygments_lexer": "ipython3",
   "version": "3.10.9"
  }
 },
 "nbformat": 4,
 "nbformat_minor": 5
}
