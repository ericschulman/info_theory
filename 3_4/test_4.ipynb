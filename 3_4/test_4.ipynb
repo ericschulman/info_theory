{
 "cells": [
  {
   "cell_type": "code",
   "execution_count": 2,
   "metadata": {},
   "outputs": [],
   "source": [
    "using Pkg\n",
    "#Pkg.add(\"Distributions\")\n",
    "using Random, Distributions\n",
    "using PyPlot\n",
    "using Optim"
   ]
  },
  {
   "cell_type": "code",
   "execution_count": 3,
   "metadata": {},
   "outputs": [
    {
     "data": {
      "text/plain": [
       "gen_support (generic function with 1 method)"
      ]
     },
     "execution_count": 3,
     "metadata": {},
     "output_type": "execute_result"
    }
   ],
   "source": [
    "function gen_support(t) \n",
    "    result = zeros(2^(2*t),t,2)\n",
    "    for i=1:2^(2*t)\n",
    "        i_copy = i\n",
    "        binary = zeros(2*t)\n",
    "        for digit=1:2*t\n",
    "            if mod(i_copy,2) > 0\n",
    "                binary[digit] = 1\n",
    "                i_copy = i_copy - 1\n",
    "            end\n",
    "            i_copy = i_copy/2\n",
    "        end\n",
    "        result[i,:,1] = binary[1:t]\n",
    "        result[i,:,2] = binary[t+1:end]\n",
    "    end\n",
    "    return result\n",
    "end"
   ]
  },
  {
   "cell_type": "code",
   "execution_count": 4,
   "metadata": {
    "scrolled": false
   },
   "outputs": [
    {
     "name": "stdout",
     "output_type": "stream",
     "text": [
      "[1.0 0.0; 0.0 0.0] 1"
     ]
    },
    {
     "data": {
      "image/png": "[encoded data removed]",
      "text/plain": [
       "Figure(PyObject <Figure size 640x480 with 1 Axes>)"
      ]
     },
     "metadata": {},
     "output_type": "display_data"
    },
    {
     "name": "stdout",
     "output_type": "stream",
     "text": [
      "\n",
      "[0.0 0.0; 1.0 0.0] 2\n",
      "[1.0 0.0; 1.0 0.0] 3\n",
      "[0.0 1.0; 0.0 0.0] 4\n",
      "[1.0 1.0; 0.0 0.0] 5\n",
      "[0.0 1.0; 1.0 0.0] 6\n",
      "[1.0 1.0; 1.0 0.0] 7\n",
      "[0.0 0.0; 0.0 1.0] 8\n",
      "[1.0 0.0; 0.0 1.0] 9\n",
      "[0.0 0.0; 1.0 1.0] 10\n",
      "[1.0 0.0; 1.0 1.0] 11\n",
      "[0.0 1.0; 0.0 1.0] 12\n",
      "[1.0 1.0; 0.0 1.0] 13\n",
      "[0.0 1.0; 1.0 1.0] 14\n",
      "[1.0 1.0; 1.0 1.0] 15\n",
      "[0.0 0.0; 0.0 0.0] 16\n"
     ]
    }
   ],
   "source": [
    "function calc_pr(payoffs, mix; \n",
    "        beliefs=[[3 1 ; 3 1],[1 3 ; 1 3]],T=5,N=3000)\n",
    "    \n",
    "    #infer # of players and actions\n",
    "    players = 2\n",
    "    actions = 2\n",
    "    support = gen_support(T)\n",
    "    pr = zeros(2^(2*T))\n",
    "    for x = 1:2^(2*T)\n",
    "        for m=1:size(mix)[1]\n",
    "            pr_xm = mix[m]\n",
    "            prior = beliefs[m][:,:]\n",
    "            for t = 1:T\n",
    "                choices = support[x,t,:]\n",
    "                for k=1:players\n",
    "                    belief_t = prior[k,:]/sum(prior[k,:])\n",
    "                    payoff = sum( belief_t .* payoffs[k][1,:] )\n",
    "                    pr_xm = pr_xm* (exp(payoff)^choices[k]) / (1+exp(payoff))\n",
    "                end\n",
    "                #update prior\n",
    "                for k=1:players\n",
    "                    not_k = mod(k,2)+1\n",
    "                    choice_index = Integer(choices[not_k]+1)\n",
    "                    prior[k,choice_index] = prior[k,choice_index] +1\n",
    "                end\n",
    "            end\n",
    "            pr[x] = pr[x] + pr_xm\n",
    "        end\n",
    "    end\n",
    "    return pr\n",
    "end\n",
    "\n",
    "\n",
    "#player, action 1, action 2\n",
    "payoffs = [ [3 -1 ; 0 0], [1 -3 ; 0 0] ]\n",
    "\n",
    "#player, action (not yours)\n",
    "mix = [.5 ; .5]\n",
    "\n",
    "T=2\n",
    "sim_pr = calc_pr(payoffs,mix,T=T;)\n",
    "plot(collect(1:2^(2*T)), sim_pr)\n",
    "\n",
    "support = gen_support(T)\n",
    "for i=1:2^(2*T)\n",
    "    println(support[i,:,:],\" $(i)\")\n",
    "end"
   ]
  },
  {
   "cell_type": "code",
   "execution_count": 5,
   "metadata": {},
   "outputs": [
    {
     "data": {
      "text/plain": [
       "0.0"
      ]
     },
     "execution_count": 5,
     "metadata": {},
     "output_type": "execute_result"
    }
   ],
   "source": [
    "function gmm_obj_payoffs(params, obs_pr ; T=5)   \n",
    "    \n",
    "    #initialize array of 0s\n",
    "    moments = zeros( 2^(2*T) +1)\n",
    "    \n",
    "    #deal with probability parameters\n",
    "    mix = [max(params[5],0) ; max(params[6],0)]\n",
    "    denom = sum(mix)\n",
    "    mix = mix/denom\n",
    "    moments[1] = (denom -1)\n",
    "    \n",
    "    \n",
    "    #simulate the rest of the equations\n",
    "    payoffs = [ [ params[1] params[2]; 0 0 ], [params[3] params[4] ; 0 0] ]\n",
    "    #subtract simulated from reality\n",
    "    moments[2:end] = obs_pr - calc_pr(payoffs, mix ; T=T)\n",
    "    result = sum(moments .* moments)\n",
    "    return result\n",
    "end\n",
    "\n",
    "#player, action 1, action 2\n",
    "payoffs = [ [3 -1 ; 0 0], [1 -3 ; 0 0] ]\n",
    "#player, action (not yours)\n",
    "mix = [0.5 ; 0.5]\n",
    "T=2\n",
    "sim_pr = calc_pr(payoffs,mix;T=T)\n",
    "gmm_obj_payoffs( [3 -1 1 -3 .5 .5], sim_pr ;T=T)"
   ]
  },
  {
   "cell_type": "code",
   "execution_count": 10,
   "metadata": {
    "scrolled": false
   },
   "outputs": [
    {
     "name": "stdout",
     "output_type": "stream",
     "text": [
      "[2.9999 -0.999973 0.999671 -2.99902 0.699867 0.300123]\n"
     ]
    }
   ],
   "source": [
    "function estimate_payoffs(obs_pr; T=5)\n",
    "    obj(x) = gmm_obj_payoffs(x, obs_pr ;T=T)\n",
    "        \n",
    "    res = optimize(obj,[1. 2. 1. 1. .5 .5], NelderMead(),\n",
    "        Optim.Options(iterations = 1000,x_tol=1e-20,f_tol=1e-20))\n",
    "    return res.minimizer\n",
    "end\n",
    "\n",
    "#player, action 1, action 2\n",
    "payoffs = [ [3. -1. ; 0. 0.], [1. -3. ; 0. 0.] ]\n",
    "#player, action (not yours)\n",
    "mix = [0.7 ; 0.3]\n",
    "T=3\n",
    "sim_pr = calc_pr(payoffs,mix;T=T)\n",
    "\n",
    "println(estimate_payoffs(sim_pr; T=T))"
   ]
  },
  {
   "cell_type": "code",
   "execution_count": 7,
   "metadata": {},
   "outputs": [
    {
     "name": "stdout",
     "output_type": "stream",
     "text": [
      "[0.978472 -0.99348 -1.00382 1.00819 0.205781 0.794195]\n"
     ]
    }
   ],
   "source": [
    "#player, action 1, action 2\n",
    "payoffs = [ [1. -1. ; 0. 0.], [-1. 1. ; 0. 0.] ]\n",
    "#player, action (not yours)\n",
    "mix = [0.2 ; 0.8]\n",
    "T=5\n",
    "sim_pr = calc_pr(payoffs,mix;T=T)\n",
    "\n",
    "println(estimate_payoffs(sim_pr; T=T))"
   ]
  },
  {
   "cell_type": "code",
   "execution_count": 13,
   "metadata": {},
   "outputs": [
    {
     "name": "stdout",
     "output_type": "stream",
     "text": [
      "[-0.00397449 0.00331492 0.000428395 0.000206279 0.432767 0.567239]\n"
     ]
    }
   ],
   "source": [
    "#player, action 1, action 2\n",
    "payoffs = [ [1. -1. ; 0. 0.], [-1. 1. ; 0. 0.] ]\n",
    "#player, action (not yours)\n",
    "mix = [0.2 ; 0.8]\n",
    "T=3\n",
    "sim_pr = ones(2^(2*T))/(2^(2*T))\n",
    "\n",
    "println(estimate_payoffs(sim_pr; T=T))"
   ]
  },
  {
   "cell_type": "code",
   "execution_count": 14,
   "metadata": {},
   "outputs": [
    {
     "name": "stdout",
     "output_type": "stream",
     "text": [
      "[-7.64161 25.3945 59.7757 -298.88 1.00002 -7.87686]\n"
     ]
    }
   ],
   "source": [
    "#player, action 1, action 2\n",
    "payoffs = [ [1. -1. ; 0. 0.], [-1. 1. ; 0. 0.] ]\n",
    "#player, action (not yours)\n",
    "mix = [0.2 ; 0.8]\n",
    "T=3\n",
    "sim_pr = zeros(2^(2*T))\n",
    "sim_pr[1:2] = [.5 .5]\n",
    "\n",
    "println(estimate_payoffs(sim_pr; T=T))"
   ]
  },
  {
   "cell_type": "code",
   "execution_count": 15,
   "metadata": {},
   "outputs": [
    {
     "name": "stdout",
     "output_type": "stream",
     "text": [
      "[-7.64161 25.3945 59.7757 -298.88 1.00002 -7.87686]\n"
     ]
    }
   ],
   "source": [
    "#player, action 1, action 2\n",
    "payoffs = [ [0. 0. ; 0. 0.], [0 0. ; 0. 0.] ]\n",
    "#player, action (not yours)\n",
    "mix = [0.2 ; 0.8]\n",
    "T=3\n",
    "sim_pr = zeros(2^(2*T))\n",
    "sim_pr[1:2] = [.5 .5]\n",
    "\n",
    "println(estimate_payoffs(sim_pr; T=T))"
   ]
  },
  {
   "cell_type": "code",
   "execution_count": null,
   "metadata": {},
   "outputs": [],
   "source": []
  }
 ],
 "metadata": {
  "kernelspec": {
   "display_name": "Julia 1.0.4",
   "language": "julia",
   "name": "julia-1.0"
  },
  "language_info": {
   "file_extension": ".jl",
   "mimetype": "application/julia",
   "name": "julia",
   "version": "1.0.4"
  }
 },
 "nbformat": 4,
 "nbformat_minor": 2
}
