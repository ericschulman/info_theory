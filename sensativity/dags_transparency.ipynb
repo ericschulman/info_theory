{
 "cells": [
  {
   "cell_type": "code",
   "execution_count": 14,
   "id": "3fe49974",
   "metadata": {},
   "outputs": [],
   "source": [
    "import statsmodels.api as sm\n",
    "import numpy as np"
   ]
  },
  {
   "cell_type": "code",
   "execution_count": 15,
   "id": "829ca82c",
   "metadata": {},
   "outputs": [
    {
     "name": "stdout",
     "output_type": "stream",
     "text": [
      "                            OLS Regression Results                            \n",
      "==============================================================================\n",
      "Dep. Variable:                      y   R-squared:                       0.828\n",
      "Model:                            OLS   Adj. R-squared:                  0.825\n",
      "Method:                 Least Squares   F-statistic:                     234.2\n",
      "Date:                Mon, 07 Nov 2022   Prob (F-statistic):           7.34e-38\n",
      "Time:                        12:54:00   Log-Likelihood:                -136.47\n",
      "No. Observations:                 100   AIC:                             278.9\n",
      "Df Residuals:                      97   BIC:                             286.8\n",
      "Df Model:                           2                                         \n",
      "Covariance Type:            nonrobust                                         \n",
      "==============================================================================\n",
      "                 coef    std err          t      P>|t|      [0.025      0.975]\n",
      "------------------------------------------------------------------------------\n",
      "x1             0.7804      0.133      5.865      0.000       0.516       1.045\n",
      "const         -0.1775      0.097     -1.837      0.069      -0.369       0.014\n",
      "x2             1.0424      0.096     10.900      0.000       0.853       1.232\n",
      "==============================================================================\n",
      "Omnibus:                        4.838   Durbin-Watson:                   2.050\n",
      "Prob(Omnibus):                  0.089   Jarque-Bera (JB):                3.568\n",
      "Skew:                           0.327   Prob(JB):                        0.168\n",
      "Kurtosis:                       2.344   Cond. No.                         2.56\n",
      "==============================================================================\n",
      "\n",
      "Notes:\n",
      "[1] Standard Errors assume that the covariance matrix of the errors is correctly specified.\n"
     ]
    }
   ],
   "source": [
    "nobs = 100\n",
    "x1 = np.random.normal(0,1,nobs)\n",
    "x2 = np.random.normal(0,1,nobs) + x1\n",
    "y = np.random.normal(0,1,nobs) + x1 + x2\n",
    "const = np.ones(nobs)\n",
    "X = np.concatenate([[x1],[const],[x2] ], axis=0).transpose()\n",
    "model = sm.OLS(y, X)\n",
    "model = model.fit()\n",
    "print(model.summary())\n",
    "\n",
    "#essentially seems like each factor is equally weighted. in reality... they are not becaues x1 -> x2...\n",
    "#could we determine that y causes x?"
   ]
  },
  {
   "cell_type": "code",
   "execution_count": 16,
   "id": "35ebf1c6",
   "metadata": {},
   "outputs": [
    {
     "name": "stdout",
     "output_type": "stream",
     "text": [
      "                            OLS Regression Results                            \n",
      "==============================================================================\n",
      "Dep. Variable:                      y   R-squared:                       0.768\n",
      "Model:                            OLS   Adj. R-squared:                  0.765\n",
      "Method:                 Least Squares   F-statistic:                     323.8\n",
      "Date:                Mon, 07 Nov 2022   Prob (F-statistic):           7.99e-33\n",
      "Time:                        12:54:00   Log-Likelihood:                -151.65\n",
      "No. Observations:                 100   AIC:                             307.3\n",
      "Df Residuals:                      98   BIC:                             312.5\n",
      "Df Model:                           1                                         \n",
      "Covariance Type:            nonrobust                                         \n",
      "==============================================================================\n",
      "                 coef    std err          t      P>|t|      [0.025      0.975]\n",
      "------------------------------------------------------------------------------\n",
      "const         -0.1470      0.112     -1.316      0.191      -0.369       0.075\n",
      "x1             1.4323      0.080     17.994      0.000       1.274       1.590\n",
      "==============================================================================\n",
      "Omnibus:                        9.183   Durbin-Watson:                   1.999\n",
      "Prob(Omnibus):                  0.010   Jarque-Bera (JB):                4.228\n",
      "Skew:                           0.253   Prob(JB):                        0.121\n",
      "Kurtosis:                       2.129   Cond. No.                         1.42\n",
      "==============================================================================\n",
      "\n",
      "Notes:\n",
      "[1] Standard Errors assume that the covariance matrix of the errors is correctly specified.\n",
      "                            OLS Regression Results                            \n",
      "==============================================================================\n",
      "Dep. Variable:                      y   R-squared:                       0.618\n",
      "Model:                            OLS   Adj. R-squared:                  0.614\n",
      "Method:                 Least Squares   F-statistic:                     158.8\n",
      "Date:                Mon, 07 Nov 2022   Prob (F-statistic):           3.22e-22\n",
      "Time:                        12:54:00   Log-Likelihood:                -176.46\n",
      "No. Observations:                 100   AIC:                             356.9\n",
      "Df Residuals:                      98   BIC:                             362.1\n",
      "Df Model:                           1                                         \n",
      "Covariance Type:            nonrobust                                         \n",
      "==============================================================================\n",
      "                 coef    std err          t      P>|t|      [0.025      0.975]\n",
      "------------------------------------------------------------------------------\n",
      "x1             1.7888      0.142     12.601      0.000       1.507       2.071\n",
      "const         -0.2770      0.143     -1.940      0.055      -0.560       0.006\n",
      "==============================================================================\n",
      "Omnibus:                        0.309   Durbin-Watson:                   2.120\n",
      "Prob(Omnibus):                  0.857   Jarque-Bera (JB):                0.057\n",
      "Skew:                          -0.025   Prob(JB):                        0.972\n",
      "Kurtosis:                       3.106   Cond. No.                         1.02\n",
      "==============================================================================\n",
      "\n",
      "Notes:\n",
      "[1] Standard Errors assume that the covariance matrix of the errors is correctly specified.\n"
     ]
    }
   ],
   "source": [
    "model = sm.OLS(y, X[:,1:])\n",
    "model = model.fit()\n",
    "print(model.summary())\n",
    "\n",
    "model = sm.OLS(y, X[:,0:2])\n",
    "model = model.fit()\n",
    "print(model.summary())\n",
    "\n",
    "#can get a sense of by seeing which one is more predictive on its own?\n",
    "#can observe strong correlation between x1 and x2..."
   ]
  },
  {
   "cell_type": "code",
   "execution_count": null,
   "id": "902e7da7",
   "metadata": {},
   "outputs": [],
   "source": []
  },
  {
   "cell_type": "code",
   "execution_count": null,
   "id": "48195a28",
   "metadata": {},
   "outputs": [],
   "source": []
  }
 ],
 "metadata": {
  "kernelspec": {
   "display_name": "Python 3 (ipykernel)",
   "language": "python",
   "name": "python3"
  },
  "language_info": {
   "codemirror_mode": {
    "name": "ipython",
    "version": 3
   },
   "file_extension": ".py",
   "mimetype": "text/x-python",
   "name": "python",
   "nbconvert_exporter": "python",
   "pygments_lexer": "ipython3",
   "version": "3.9.7"
  }
 },
 "nbformat": 4,
 "nbformat_minor": 5
}
