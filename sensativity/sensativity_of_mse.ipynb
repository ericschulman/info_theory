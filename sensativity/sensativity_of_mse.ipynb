{
 "cells": [
  {
   "cell_type": "code",
   "execution_count": 1,
   "id": "9e4c31c7",
   "metadata": {},
   "outputs": [],
   "source": [
    "import pandas as pd\n",
    "import numpy as np\n",
    "import scipy.stats as stats\n",
    "import matplotlib.pyplot as plt"
   ]
  },
  {
   "cell_type": "code",
   "execution_count": 2,
   "id": "ee4d0af2",
   "metadata": {},
   "outputs": [
    {
     "name": "stdout",
     "output_type": "stream",
     "text": [
      "no bias      [1.01296881 0.46494076 0.47872747 0.95316245]\n",
      "bias in x1   [1.03811972 1.50909724 0.47042471 1.99731893]\n",
      "bias in x2   [1.07794647 0.456638   1.4229696  1.89740458]\n",
      "bias in both [1.10309738 1.50079448 1.41466684 2.92495553]\n",
      "bias in both [ 0.97314207  1.51740001 -0.47381742  2.95816658]\n"
     ]
    }
   ],
   "source": [
    "def gen_data(nobs=1000, a=.5,k=2):\n",
    "    x = np.random.normal(scale=1., size=(nobs,k))\n",
    "    e = np.random.normal(loc=0.0, scale=1.0, size=nobs)\n",
    "    y = 1 + a*x.sum(axis=1) + e\n",
    "    return y,x,nobs\n",
    "\n",
    "\n",
    "def add_constant(x):\n",
    "    nobs = x.shape[0]\n",
    "    x = np.concatenate( (np.ones(shape=(nobs,1)),x) ,axis=1)\n",
    "    return x\n",
    "\n",
    "\n",
    "def create_biased_moments(y,x,bias):\n",
    "    \n",
    "    #initial setup\n",
    "    x = add_constant(x)\n",
    "    nobs, k = x.shape\n",
    "    xx = (x.T).dot(x)\n",
    "        \n",
    "    #setup gradient\n",
    "    G = np.concatenate((xx,np.zeros((1,k))),axis=0)\n",
    "    G = np.concatenate((G,np.zeros((k+1,1))),axis=1)\n",
    "    G[k,k] =1\n",
    "    \n",
    "    #calculate sensativity. for ols its just G^{-1}\n",
    "    L = np.linalg.inv( G.dot(G) ).dot(G) \n",
    "\n",
    "    #compute value of moments\n",
    "    xy = x.T.dot(y) + bias\n",
    "    beta = np.linalg.inv( xx ).dot( xy )\n",
    "    y_hat = x.dot(beta)\n",
    "    mse = ((y - y_hat)**2).mean()\n",
    "    \n",
    "    g = np.concatenate( (xy,[mse])  )\n",
    "    return L.dot(g)\n",
    "    \n",
    "\n",
    "#various setup    \n",
    "y,x,nobs = gen_data()\n",
    "\n",
    "#first see unbiased\n",
    "bias = np.array([0, 0,0])\n",
    "theta_bias = create_biased_moments(y,x,bias)\n",
    "print('no bias     ', theta_bias)\n",
    "\n",
    "#bias in x1\n",
    "bias = np.array([0, 1*nobs,0])\n",
    "theta_bias = create_biased_moments(y,x,bias)\n",
    "print('bias in x1  ', theta_bias)\n",
    "\n",
    "#bias in x2\n",
    "bias = np.array([0, 0,1*nobs])\n",
    "theta_bias = create_biased_moments(y,x,bias)\n",
    "print('bias in x2  ', theta_bias)\n",
    "\n",
    "#bias in both\n",
    "bias = np.array([0, 1*nobs,1*nobs])\n",
    "theta_bias = create_biased_moments(y,x,bias)\n",
    "print('bias in both', theta_bias)\n",
    "\n",
    "bias = np.array([0, 1*nobs,-1*nobs])\n",
    "theta_bias = create_biased_moments(y,x,bias)\n",
    "print('bias in both', theta_bias)"
   ]
  },
  {
   "cell_type": "code",
   "execution_count": null,
   "id": "d3be7747",
   "metadata": {},
   "outputs": [],
   "source": []
  }
 ],
 "metadata": {
  "kernelspec": {
   "display_name": "Python 3",
   "language": "python",
   "name": "python3"
  },
  "language_info": {
   "codemirror_mode": {
    "name": "ipython",
    "version": 3
   },
   "file_extension": ".py",
   "mimetype": "text/x-python",
   "name": "python",
   "nbconvert_exporter": "python",
   "pygments_lexer": "ipython3",
   "version": "3.8.8"
  }
 },
 "nbformat": 4,
 "nbformat_minor": 5
}
