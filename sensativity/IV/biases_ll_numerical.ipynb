{
 "cells": [
  {
   "cell_type": "code",
   "execution_count": 75,
   "id": "2483b390",
   "metadata": {},
   "outputs": [],
   "source": [
    "import numpy as np\n",
    "import matplotlib.pyplot as plt\n",
    "import statsmodels.api as sm\n",
    "from statsmodels.base.model import GenericLikelihoodModel\n",
    "import scipy.stats as stats"
   ]
  },
  {
   "cell_type": "code",
   "execution_count": 76,
   "id": "4f3c2e08",
   "metadata": {},
   "outputs": [],
   "source": [
    "def gen_data(nobs = 1000,\n",
    "                a = 1,\n",
    "                b = 1,\n",
    "                c = 1,\n",
    "                d = 1,\n",
    "                f = 1,\n",
    "                se = 1,\n",
    "                su = 1,\n",
    "                sw = 1,\n",
    "                sv = 1):\n",
    "\n",
    "    #unobserved variables\n",
    "    e = np.random.normal(0,se,nobs)\n",
    "    u = np.random.normal(0,su,nobs)\n",
    "    v = np.random.normal(0,sv,nobs)\n",
    "    w = np.random.normal(0,sw,nobs)\n",
    "\n",
    "    #observed variables\n",
    "    z = u + f*v # z will have an attrion bias for beta \n",
    "    x = u + d*(w>=0) - 5*d*w*(w<=0) # x will have an omitted variables bias\n",
    "    # it's related to the degree of variation on the support of x\n",
    "    # needs to flip sign for some? i.e. d*(w>=0) - d*w*(w<=0)... like the population needs a heterogeneous response to the\n",
    "    # \n",
    "    # omitted variable...\n",
    "    # \n",
    "    \n",
    "    #the omitted variable \"skews\" the predcitions towards the area of the support where it is correlated \n",
    "    #with the endogenous variable.\n",
    "    \n",
    "    y = a + b*u + c*w + e\n",
    "    return y,x,z"
   ]
  },
  {
   "cell_type": "code",
   "execution_count": 77,
   "id": "885e1275",
   "metadata": {},
   "outputs": [],
   "source": [
    "class OLS_loglike(GenericLikelihoodModel):\n",
    "    \n",
    "    def __init__(self, *args,ols=False, **kwargs):\n",
    "        super(OLS_loglike,self).__init__(*args,**kwargs)\n",
    "        self.ols = ols\n",
    "\n",
    "    def loglikeobs(self, params):\n",
    "        y = self.endog\n",
    "        x = self.exog\n",
    "        mu_y = np.matmul(x,params)  \n",
    "        resid = y - mu_y\n",
    "        sigma = np.sqrt(np.sum(resid**2)/resid.shape[0])\n",
    "        pr_y = stats.norm.logpdf( resid, loc=0,scale=sigma )\n",
    "        return pr_y\n",
    "    \n",
    "def setup_model(yn,xn):\n",
    "    \"\"\"setup models for ease\"\"\"\n",
    "    model1 = sm.OLS(yn,sm.add_constant(xn))\n",
    "    model1_fit = model1.fit(disp=False)\n",
    "    params1 = (model1_fit.params)\n",
    "    model1_deriv = OLS_loglike(yn,sm.add_constant(xn))\n",
    "    ll1 = model1_deriv.loglikeobs(model1_fit.params)\n",
    "    #print('--') #analytical likelihood for OLS...\n",
    "    #print(ll1.mean())\n",
    "    #print( -1/2*np.log(2*np.pi) - np.log(model1_fit.resid.std()) -1/2 )\n",
    "    #print('--')\n",
    "    grad1 =  model1_deriv.score_obs(model1_fit.params)    \n",
    "    hess1 = model1_deriv.hessian(model1_fit.params)\n",
    "    \n",
    "    #add in econometric error?\n",
    "    shuffle_fit = model1_fit.resid.copy()\n",
    "    np.random.shuffle(shuffle_fit)\n",
    "    #model1_fit.fittedvalues,model1_fit.resid,\n",
    "    return ll1,model1_fit.fittedvalues + shuffle_fit"
   ]
  },
  {
   "cell_type": "code",
   "execution_count": 78,
   "id": "88eef879",
   "metadata": {},
   "outputs": [
    {
     "name": "stdout",
     "output_type": "stream",
     "text": [
      "-1883.95123146048\n"
     ]
    },
    {
     "data": {
      "image/png": "[encoded data removed]",
      "text/plain": [
       "<Figure size 432x288 with 1 Axes>"
      ]
     },
     "metadata": {
      "needs_background": "light"
     },
     "output_type": "display_data"
    },
    {
     "data": {
      "image/png": "[encoded data removed]",
      "text/plain": [
       "<Figure size 432x288 with 1 Axes>"
      ]
     },
     "metadata": {
      "needs_background": "light"
     },
     "output_type": "display_data"
    }
   ],
   "source": [
    "n = 10000\n",
    "y,x,z = gen_data(nobs=n,\n",
    "                d = 1,\n",
    "                f = 0,\n",
    "                c = 1,\n",
    "                b = 1,\n",
    "                su = 1,\n",
    "                sw = 1,\n",
    "                sv = 1)\n",
    "\n",
    "l1,yhat1 = setup_model(y,sm.add_constant(x))\n",
    "l2,yhat2 = setup_model(y,sm.add_constant(z))\n",
    "print(l1.sum()-l2.sum())\n",
    "\n",
    "plt.hist(y,bins=int(n/200),alpha=.2,label='true',density=True)\n",
    "plt.hist(yhat2,bins=int(n/200),alpha=.5,label='attrition',density=True)\n",
    "plt.hist(yhat1,bins=int(n/200),alpha=.5,label='endog',density=True)\n",
    "plt.legend()\n",
    "plt.show()\n",
    "\n",
    "plt.hist(l2,bins=int(n/200),alpha=.5,label='attrition',density=True)\n",
    "plt.hist(l1,bins=int(n/200),alpha=.5,label='endog',density=True)\n",
    "plt.legend()\n",
    "plt.show()"
   ]
  },
  {
   "cell_type": "code",
   "execution_count": 53,
   "id": "2a44ffcf",
   "metadata": {},
   "outputs": [
    {
     "name": "stdout",
     "output_type": "stream",
     "text": [
      "2689.8328962196647\n"
     ]
    },
    {
     "data": {
      "image/png": "[encoded data removed]",
      "text/plain": [
       "<Figure size 432x288 with 1 Axes>"
      ]
     },
     "metadata": {
      "needs_background": "light"
     },
     "output_type": "display_data"
    }
   ],
   "source": [
    "n = 10000\n",
    "y,x,z = gen_data(nobs=n)\n",
    "\n",
    "l1,yhat1 = setup_model(y,sm.add_constant(x))\n",
    "l2,yhat2 = setup_model(y,sm.add_constant(z))\n",
    "print(l1.sum()-l2.sum())\n",
    "\n",
    "plt.hist(y,bins=int(n/500),alpha=.2,label='true',density=True)\n",
    "plt.hist(yhat1,bins=int(n/500),alpha=.5,label='endog',density=True)\n",
    "plt.hist(yhat2,bins=int(n/500),alpha=.5,label='attrition',density=True)\n",
    "plt.legend()\n",
    "plt.show()"
   ]
  },
  {
   "cell_type": "code",
   "execution_count": 6,
   "id": "03e19c70",
   "metadata": {},
   "outputs": [
    {
     "name": "stdout",
     "output_type": "stream",
     "text": [
      "1058.0082243852412\n"
     ]
    },
    {
     "data": {
      "image/png": "[encoded data removed]",
      "text/plain": [
       "<Figure size 432x288 with 1 Axes>"
      ]
     },
     "metadata": {
      "needs_background": "light"
     },
     "output_type": "display_data"
    }
   ],
   "source": [
    "\n",
    "n = 10000\n",
    "y,x,z = gen_data(nobs=n,d = 0,f = 1)\n",
    "\n",
    "l1,yhat1 = setup_model(y,sm.add_constant(x))\n",
    "l2,yhat2 = setup_model(y,sm.add_constant(z))\n",
    "print(l1.sum()-l2.sum())\n",
    "\n",
    "plt.hist(y,bins=int(n/500),alpha=.2,label='true',density=True)\n",
    "plt.hist(yhat1,bins=int(n/500),alpha=.5,label='endog',density=True)\n",
    "plt.hist(yhat2,bins=int(n/500),alpha=.5,label='attrition',density=True)\n",
    "plt.legend()\n",
    "plt.show()"
   ]
  },
  {
   "cell_type": "code",
   "execution_count": 7,
   "id": "a47ae1d0",
   "metadata": {},
   "outputs": [
    {
     "name": "stdout",
     "output_type": "stream",
     "text": [
      "-1465.7196940511603\n"
     ]
    },
    {
     "data": {
      "image/png": "[encoded data removed]",
      "text/plain": [
       "<Figure size 432x288 with 1 Axes>"
      ]
     },
     "metadata": {
      "needs_background": "light"
     },
     "output_type": "display_data"
    }
   ],
   "source": [
    "n = 10000\n",
    "y,x,z = gen_data(nobs=n,d = 1,f = 0)\n",
    "\n",
    "l1,yhat1 = setup_model(y,sm.add_constant(x))\n",
    "l2,yhat2 = setup_model(y,sm.add_constant(z))\n",
    "print(l1.sum()-l2.sum())\n",
    "\n",
    "plt.hist(y,bins=int(n/500),alpha=.2,label='true',density=True)\n",
    "plt.hist(yhat1,bins=int(n/500),alpha=.5,label='endog',density=True)\n",
    "plt.hist(yhat2,bins=int(n/500),alpha=.5,label='attrition',density=True)\n",
    "plt.legend()\n",
    "plt.show()"
   ]
  },
  {
   "cell_type": "code",
   "execution_count": 8,
   "id": "5965de02",
   "metadata": {},
   "outputs": [
    {
     "name": "stdout",
     "output_type": "stream",
     "text": [
      "0.0\n"
     ]
    },
    {
     "data": {
      "image/png": "[encoded data removed]",
      "text/plain": [
       "<Figure size 432x288 with 1 Axes>"
      ]
     },
     "metadata": {
      "needs_background": "light"
     },
     "output_type": "display_data"
    }
   ],
   "source": [
    "n = 10000\n",
    "y,x,z = gen_data(nobs=n,d = 0,f = 0)\n",
    "\n",
    "l1,yhat1 = setup_model(y,sm.add_constant(x))\n",
    "l2,yhat2 = setup_model(y,sm.add_constant(z))\n",
    "print(l1.sum()-l2.sum())\n",
    "\n",
    "plt.hist(y,bins=int(n/500),alpha=.2,label='true',density=True)\n",
    "plt.hist(yhat1,bins=int(n/500),alpha=.5,label='endog',density=True)\n",
    "plt.hist(yhat2,bins=int(n/500),alpha=.5,label='attrition',density=True)\n",
    "plt.legend()\n",
    "plt.show()"
   ]
  },
  {
   "cell_type": "code",
   "execution_count": null,
   "id": "d15b3af1",
   "metadata": {},
   "outputs": [],
   "source": []
  },
  {
   "cell_type": "code",
   "execution_count": null,
   "id": "47588c51",
   "metadata": {},
   "outputs": [],
   "source": []
  }
 ],
 "metadata": {
  "kernelspec": {
   "display_name": "Python 3 (ipykernel)",
   "language": "python",
   "name": "python3"
  },
  "language_info": {
   "codemirror_mode": {
    "name": "ipython",
    "version": 3
   },
   "file_extension": ".py",
   "mimetype": "text/x-python",
   "name": "python",
   "nbconvert_exporter": "python",
   "pygments_lexer": "ipython3",
   "version": "3.9.7"
  }
 },
 "nbformat": 4,
 "nbformat_minor": 5
}
