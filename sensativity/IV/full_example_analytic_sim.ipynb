{
 "cells": [
  {
   "cell_type": "code",
   "execution_count": 1,
   "id": "14b8aa87",
   "metadata": {},
   "outputs": [],
   "source": [
    "from sympy import *\n",
    "from sympy.stats import *"
   ]
  },
  {
   "cell_type": "code",
   "execution_count": 2,
   "id": "ca7d58ba",
   "metadata": {
    "scrolled": false
   },
   "outputs": [
    {
     "name": "stdout",
     "output_type": "stream",
     "text": [
      "error1 \\beta*w + e\n"
     ]
    },
    {
     "data": {
      "text/plain": [
       "'error1'"
      ]
     },
     "metadata": {},
     "output_type": "display_data"
    },
    {
     "data": {
      "text/latex": [
       "$\\displaystyle \\beta w + e$"
      ],
      "text/plain": [
       "\\beta*w + e"
      ]
     },
     "metadata": {},
     "output_type": "display_data"
    },
    {
     "name": "stdout",
     "output_type": "stream",
     "text": [
      "Matrix([[0], [(\\alpha*\\gamma + \\beta*\\delta)/(\\delta**2 + \\gamma**2)]])\n"
     ]
    },
    {
     "data": {
      "text/plain": [
       "'error1'"
      ]
     },
     "metadata": {},
     "output_type": "display_data"
    },
    {
     "data": {
      "text/latex": [
       "$\\displaystyle \\frac{\\left(\\delta^{2} + \\gamma^{2}\\right) e + \\left(\\alpha \\delta^{2} - \\beta \\delta \\gamma\\right) z + \\left(- \\alpha \\delta \\gamma + \\beta \\gamma^{2}\\right) w}{\\delta^{2} + \\gamma^{2}}$"
      ],
      "text/plain": [
       "((\\delta**2 + \\gamma**2)*e + (\\alpha*\\delta**2 - \\beta*\\delta*\\gamma)*z + (-\\alpha*\\delta*\\gamma + \\beta*\\gamma**2)*w)/(\\delta**2 + \\gamma**2)"
      ]
     },
     "metadata": {},
     "output_type": "display_data"
    },
    {
     "name": "stdout",
     "output_type": "stream",
     "text": [
      "error1 ((\\delta**2 + \\gamma**2)*e + (\\alpha*\\delta**2 - \\beta*\\delta*\\gamma)*z + (-\\alpha*\\delta*\\gamma + \\beta*\\gamma**2)*w)/(\\delta**2 + \\gamma**2)\n"
     ]
    }
   ],
   "source": [
    "#worked out example\n",
    "\n",
    "a = Symbol('\\\\alpha')\n",
    "b = Symbol('\\\\beta')\n",
    "c = Symbol('\\\\gamma')\n",
    "d = Symbol('\\\\delta')\n",
    "z = Normal('z',0,1)\n",
    "w = Normal('w',0,1)\n",
    "e = Normal('e',0,1)\n",
    "y = a*z + b*w + e\n",
    "x = c*z + d*w\n",
    "\n",
    "\n",
    "\n",
    "def proj_coef(y,x):\n",
    "    x*x.transpose()\n",
    "    bproj = E(x*x.transpose())**(-1)*E(x*y)\n",
    "    return bproj\n",
    "\n",
    "\n",
    "Z = Matrix([[1],[z]])\n",
    "bproj1 = proj_coef(y,Z)\n",
    "e1 = Matrix([[y]]) - Z.transpose()*bproj1\n",
    "print('error1',e1[0,0])\n",
    "display('error1',simplify(e1[0,0]))\n",
    "      \n",
    "X = Matrix([[1],[x]])\n",
    "bproj2 = proj_coef(y,X)\n",
    "print(bproj2)\n",
    "e2 = Matrix([[y]]) - X.transpose()*bproj2\n",
    "e2 = simplify(e2[0,0])\n",
    "e2 = factor(e2,(z,e,w))\n",
    "\n",
    "display('error2',e2)\n",
    "print('error2',e2)\n",
    "#note that the mse is proprotional to likelihood...\n",
    "\n",
    "#https://www.stat.cmu.edu/~cshalizi/mreg/15/lectures/06/lecture-06.pdf"
   ]
  },
  {
   "cell_type": "code",
   "execution_count": 8,
   "id": "be7ff65e",
   "metadata": {},
   "outputs": [],
   "source": [
    "import numpy as np\n",
    "import matplotlib.pyplot as plt\n",
    "import statsmodels.api as sm\n",
    "from statsmodels.base.model import GenericLikelihoodModel\n",
    "import scipy.stats as stats"
   ]
  },
  {
   "cell_type": "code",
   "execution_count": 23,
   "id": "791fecca",
   "metadata": {},
   "outputs": [
    {
     "name": "stdout",
     "output_type": "stream",
     "text": [
      "115.41112998822099\n",
      "26.327819273495617\n",
      "-0.7389373246330946\n"
     ]
    }
   ],
   "source": [
    "def gen_data(nobs = 10000,\n",
    "                    a = -10,\n",
    "                    b = 5,\n",
    "                    c = 1,\n",
    "                    d = 1,\n",
    "                    varz = 5,\n",
    "                    varw = 1,\n",
    "                    vare = 1):\n",
    "    \n",
    "    z = np.random.normal(0,varz,nobs)\n",
    "    w = np.random.normal(0,varw,nobs)\n",
    "    e = np.random.normal(0,vare,nobs)\n",
    "    \n",
    "    y = a*z + b*w + e\n",
    "    x = c*z + d*w\n",
    "\n",
    "    return y,x,z\n",
    "\n",
    "    \n",
    "def setup_model(yn,xn):\n",
    "    \"\"\"setup models for ease\"\"\"\n",
    "    model1 = sm.OLS(yn,sm.add_constant(xn))\n",
    "    model1_fit = model1.fit(disp=False)\n",
    "    print(model1_fit.resid.var())\n",
    "    return -1/2*np.log(2*np.pi) - np.log(model1_fit.resid.std()) -1/2\n",
    "\n",
    "y,x,z = gen_data(d=1,varz=1,vare=1)\n",
    "ll1 = setup_model(y,x)\n",
    "ll2 = setup_model(y,z)\n",
    "\n",
    "\n",
    "print(ll1-ll2)"
   ]
  },
  {
   "cell_type": "code",
   "execution_count": null,
   "id": "73a07391",
   "metadata": {},
   "outputs": [],
   "source": [
    "#scrap that is likely wrong"
   ]
  },
  {
   "cell_type": "code",
   "execution_count": 5,
   "id": "100c32ca",
   "metadata": {},
   "outputs": [
    {
     "data": {
      "text/plain": [
       "'error1'"
      ]
     },
     "metadata": {},
     "output_type": "display_data"
    },
    {
     "data": {
      "text/latex": [
       "$\\displaystyle \\beta w + e$"
      ],
      "text/plain": [
       "\\beta*w + e"
      ]
     },
     "metadata": {},
     "output_type": "display_data"
    },
    {
     "name": "stdout",
     "output_type": "stream",
     "text": [
      "Matrix([[0], [\\alpha*\\gamma*s_z + \\beta*\\delta*s_w]])\n",
      "\\delta**2*s_w**2 + \\gamma**2*s_z**2\n"
     ]
    },
    {
     "data": {
      "text/latex": [
       "$\\displaystyle \\frac{\\left(\\delta^{2} s_{w}^{2} + \\gamma^{2} s_{z}^{2}\\right) e + \\left(\\alpha \\delta^{2} s_{w}^{2} + \\alpha \\gamma^{2} s_{z}^{2} - \\alpha \\gamma^{2} s_{z} - \\beta \\delta \\gamma s_{w}\\right) z + \\left(- \\alpha \\delta \\gamma s_{z} + \\beta \\delta^{2} s_{w}^{2} - \\beta \\delta^{2} s_{w} + \\beta \\gamma^{2} s_{z}^{2}\\right) w}{\\delta^{2} s_{w}^{2} + \\gamma^{2} s_{z}^{2}}$"
      ],
      "text/plain": [
       "((\\delta**2*s_w**2 + \\gamma**2*s_z**2)*e + (\\alpha*\\delta**2*s_w**2 + \\alpha*\\gamma**2*s_z**2 - \\alpha*\\gamma**2*s_z - \\beta*\\delta*\\gamma*s_w)*z + (-\\alpha*\\delta*\\gamma*s_z + \\beta*\\delta**2*s_w**2 - \\beta*\\delta**2*s_w + \\beta*\\gamma**2*s_z**2)*w)/(\\delta**2*s_w**2 + \\gamma**2*s_z**2)"
      ]
     },
     "metadata": {},
     "output_type": "display_data"
    }
   ],
   "source": [
    "a = Symbol('\\\\alpha')\n",
    "b = Symbol('\\\\beta')\n",
    "c = Symbol('\\\\gamma')\n",
    "d = Symbol('\\\\delta')\n",
    "sz = Symbol('s_z')\n",
    "sw = Symbol('s_w')\n",
    "se = Symbol('s_e')\n",
    "z = Normal('z',0,sz)\n",
    "w = Normal('w',0,sw)\n",
    "e = Normal('e',0,se)\n",
    "y = a*z + b*w + e\n",
    "x = c*z + d*w\n",
    "\n",
    "\n",
    "#calculate the linear projection\n",
    "Z = Matrix([[1],[z]])\n",
    "EZZ = Matrix([[1, 0], [0, E(z**2)]])\n",
    "Zy = Matrix([[0],[a*E(z**2)]])\n",
    "EZy = E(Zy)\n",
    "bproj1 = (EZZ**(-1))*EZy\n",
    "e1 = Matrix([[y]]) - Z.transpose()*bproj1\n",
    "display('error1',simplify(e1[0,0]))\n",
    "\n",
    "\n",
    "X = Matrix([[1],[x]])\n",
    "#Xy = Matrix([[0],[a*(z)**2 + b*(w)**2]])\n",
    "EXy = Matrix([[0],[a*c*sz + b*d*sw]])\n",
    "print(EXy)\n",
    "Exx = E((c*z)**2 + (d*w)**2)\n",
    "print(Exx)\n",
    "EXX = Matrix([[1, 0], [0, Exx]])\n",
    "bproj2 = (EXX**(-1))*EXy\n",
    "#bproj1 = proj_coef(y,u)\n",
    "e2 = Matrix([[y]]) - X.transpose()*bproj2\n",
    "e2 = simplify(e2[0,0])\n",
    "e2 = factor(e2,(z,e,w))\n",
    "\n",
    "display(e2)"
   ]
  },
  {
   "cell_type": "code",
   "execution_count": null,
   "id": "81187396",
   "metadata": {},
   "outputs": [],
   "source": []
  }
 ],
 "metadata": {
  "kernelspec": {
   "display_name": "Python 3 (ipykernel)",
   "language": "python",
   "name": "python3"
  },
  "language_info": {
   "codemirror_mode": {
    "name": "ipython",
    "version": 3
   },
   "file_extension": ".py",
   "mimetype": "text/x-python",
   "name": "python",
   "nbconvert_exporter": "python",
   "pygments_lexer": "ipython3",
   "version": "3.9.7"
  }
 },
 "nbformat": 4,
 "nbformat_minor": 5
}
