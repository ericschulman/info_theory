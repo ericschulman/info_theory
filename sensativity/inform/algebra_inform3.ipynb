{
 "cells": [
  {
   "cell_type": "code",
   "execution_count": 1,
   "id": "43bb3b0c",
   "metadata": {},
   "outputs": [],
   "source": [
    "import numpy as np\n",
    "import statsmodels.api as sm"
   ]
  },
  {
   "cell_type": "code",
   "execution_count": 2,
   "id": "06ff585f",
   "metadata": {},
   "outputs": [
    {
     "name": "stdout",
     "output_type": "stream",
     "text": [
      "(1000,) (1000, 2)\n"
     ]
    }
   ],
   "source": [
    "def gen_data(nobs, num_cov, a):\n",
    "    xn = np.random.normal(scale=1., size=(nobs, num_cov))\n",
    "    x0 = np.random.normal(scale=1., size=(nobs, 1))\n",
    "    x0 = np.tile(x0,2)\n",
    "    xn = xn +x0\n",
    "    e = np.random.normal(loc=0.0, scale=1.0, size=(nobs))\n",
    "    yn = a + (xn.sum(axis=1) * a) + e\n",
    "    return yn, xn\n",
    "\n",
    "y,x = gen_data(1000,2,1)\n",
    "print(y.shape,x.shape)"
   ]
  },
  {
   "cell_type": "code",
   "execution_count": 3,
   "id": "9eaaa2a4",
   "metadata": {},
   "outputs": [
    {
     "name": "stdout",
     "output_type": "stream",
     "text": [
      "r2 true 0.8666374049062794\n"
     ]
    }
   ],
   "source": [
    "model0 = sm.OLS(y,sm.add_constant(x)).fit()\n",
    "print('r2 true', model0.fittedvalues.var()/y.var() )"
   ]
  },
  {
   "cell_type": "code",
   "execution_count": 4,
   "id": "9bec1903",
   "metadata": {},
   "outputs": [
    {
     "name": "stdout",
     "output_type": "stream",
     "text": [
      "r2 1 0.659306083417603\n",
      "r2 2 0.6548200239805115\n"
     ]
    }
   ],
   "source": [
    "model1 = sm.OLS(y,sm.add_constant(x[:,0])).fit()\n",
    "print('r2 1',model1.fittedvalues.var()/y.var())\n",
    "model2 = sm.OLS(y,sm.add_constant(x[:,1])).fit()\n",
    "print('r2 2',model2.fittedvalues.var()/y.var())"
   ]
  },
  {
   "cell_type": "markdown",
   "id": "18fd6189",
   "metadata": {},
   "source": [
    "approach 1: regress error 1 on predicted 2"
   ]
  },
  {
   "cell_type": "code",
   "execution_count": 10,
   "id": "d3ebf494",
   "metadata": {},
   "outputs": [
    {
     "name": "stdout",
     "output_type": "stream",
     "text": [
      "2.3220755470433443\n",
      "2.322075547043345\n",
      "0.15205106170826616\n",
      "0.8113571451258691\n",
      "0.8113571451258691\n"
     ]
    }
   ],
   "source": [
    "## THIS IS THE right way... it seems better.. \n",
    "error_reg = sm.OLS(model1.resid,sm.add_constant(model2.fittedvalues) ).fit()\n",
    "\n",
    "#split up unexplained varation into 2 pieces... \n",
    "print(model1.resid.var())\n",
    "print(error_reg.resid.var() + error_reg.fittedvalues.var())\n",
    "\n",
    "#not quite the same? as when i do it with correlations?\n",
    "print((error_reg.fittedvalues.var())/y.var()  ) #is this the additional r2 that y2 can add?\n",
    "print( (model1.fittedvalues.var() + error_reg.fittedvalues.var())/y.var()  )\n",
    "print( (model1.fittedvalues.var() + error_reg.fittedvalues.var())/y.var()  )"
   ]
  },
  {
   "cell_type": "markdown",
   "id": "fdb6120b",
   "metadata": {},
   "source": [
    "approach 2: covariance matrices"
   ]
  },
  {
   "cell_type": "code",
   "execution_count": 6,
   "id": "84816bc1",
   "metadata": {},
   "outputs": [
    {
     "name": "stdout",
     "output_type": "stream",
     "text": [
      "[[6.82254609 4.49814614 4.46753979]\n",
      " [4.49814614 4.49814614 2.31474724]\n",
      " [4.46753979 2.31474724 4.46753979]]\n",
      "0.6593060834176026\n",
      "0.6593060834176029\n",
      "0.6548200239805111\n",
      "0.6548200239805112\n"
     ]
    }
   ],
   "source": [
    "#covariance matrix approach\n",
    "cov = np.cov( [y,model1.fittedvalues,model2.fittedvalues] )\n",
    "print(cov)\n",
    "\n",
    "#double check that diagnals are r2\n",
    "print(1- (y - model1.fittedvalues).var()/y.var())\n",
    "print(cov[1,1]/cov[0,0])\n",
    "\n",
    "#what is the r2 of model 2\n",
    "print(1- (y - model2.fittedvalues).var()/y.var())\n",
    "print(cov[2,2]/cov[0,0])"
   ]
  },
  {
   "cell_type": "code",
   "execution_count": 7,
   "id": "cb104465",
   "metadata": {},
   "outputs": [
    {
     "name": "stdout",
     "output_type": "stream",
     "text": [
      "0.4818742870000738\n",
      "0.15205106170826593\n",
      "0.15205106170826593\n"
     ]
    }
   ],
   "source": [
    "#how much could the r2 of model 1 be-improved? what is the r2 of 1 and what is the correlation?\n",
    "beta = (cov[0,2] - cov[1,2])/(cov[2,2])\n",
    "print(beta)\n",
    "\n",
    "print( (beta**2*cov[2,2])/cov[0,0]) #this is it!!\n",
    "\n",
    "#can simplify\n",
    "print( (cov[0,2] - cov[1,2])**2/cov[2,2]/cov[0,0])  #this is it!!\n",
    "#TODO think this through using variance/covariance formula\n",
    "\n",
    "#how far is model 1 from the true model, using model 2 as a yard stick... \n",
    "#distance of 1 from the truth, relative to unexplained error"
   ]
  },
  {
   "cell_type": "markdown",
   "id": "aa4537cb",
   "metadata": {},
   "source": [
    "relationship with infomrativeness"
   ]
  },
  {
   "cell_type": "code",
   "execution_count": 8,
   "id": "77231c83",
   "metadata": {},
   "outputs": [
    {
     "name": "stdout",
     "output_type": "stream",
     "text": [
      "0.44629814125692585\n",
      "0.44629814125692563\n"
     ]
    }
   ],
   "source": [
    "## THIS IS THE right way... it seems better.. \n",
    "error_reg = sm.OLS( model1.resid,sm.add_constant(model2.fittedvalues) ).fit()\n",
    "\n",
    "#informativesness about model 2 for model 1 residuals\n",
    "print(error_reg.fittedvalues.var()/model1.resid.var())\n",
    "\n",
    "#not quite the same? as when i do it with correlations?\n",
    "print( (cov[0,2] - cov[1,2])**2/(cov[2,2]*(cov[0,0]-cov[1,1]) ) )"
   ]
  },
  {
   "cell_type": "code",
   "execution_count": null,
   "id": "93167a04",
   "metadata": {},
   "outputs": [],
   "source": []
  }
 ],
 "metadata": {
  "kernelspec": {
   "display_name": "Python 3 (ipykernel)",
   "language": "python",
   "name": "python3"
  },
  "language_info": {
   "codemirror_mode": {
    "name": "ipython",
    "version": 3
   },
   "file_extension": ".py",
   "mimetype": "text/x-python",
   "name": "python",
   "nbconvert_exporter": "python",
   "pygments_lexer": "ipython3",
   "version": "3.9.7"
  }
 },
 "nbformat": 4,
 "nbformat_minor": 5
}
