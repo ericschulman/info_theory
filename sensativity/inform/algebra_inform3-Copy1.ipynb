{
 "cells": [
  {
   "cell_type": "code",
   "execution_count": 1,
   "id": "43bb3b0c",
   "metadata": {},
   "outputs": [],
   "source": [
    "import numpy as np\n",
    "import statsmodels.api as sm"
   ]
  },
  {
   "cell_type": "code",
   "execution_count": 2,
   "id": "06ff585f",
   "metadata": {},
   "outputs": [
    {
     "name": "stdout",
     "output_type": "stream",
     "text": [
      "(1000,) (1000, 2)\n"
     ]
    }
   ],
   "source": [
    "def gen_data(nobs, num_cov, a):\n",
    "    xn = np.random.normal(scale=1., size=(nobs, num_cov))\n",
    "    x0 = np.random.normal(scale=1., size=(nobs, 1))\n",
    "    x0 = np.tile(x0,2)\n",
    "    xn = xn + x0\n",
    "    xn[:,1] = a*xn[:,1]\n",
    "    e = np.random.normal(loc=0.0, scale=1.0, size=(nobs))\n",
    "    yn = a + (xn[:,1]) + e\n",
    "    return yn, xn\n",
    "\n",
    "y,x = gen_data(1000,2,.25)\n",
    "print(y.shape,x.shape)"
   ]
  },
  {
   "cell_type": "code",
   "execution_count": 3,
   "id": "9eaaa2a4",
   "metadata": {},
   "outputs": [
    {
     "name": "stdout",
     "output_type": "stream",
     "text": [
      "r2 true 0.09924067273827342\n"
     ]
    }
   ],
   "source": [
    "model0 = sm.OLS(y,sm.add_constant(x)).fit()\n",
    "print('r2 true', model0.fittedvalues.var()/y.var() )"
   ]
  },
  {
   "cell_type": "code",
   "execution_count": 4,
   "id": "9bec1903",
   "metadata": {},
   "outputs": [
    {
     "name": "stdout",
     "output_type": "stream",
     "text": [
      "r2 1 0.02914122539713672\n",
      "r2 2 0.09920728721855364\n"
     ]
    }
   ],
   "source": [
    "model1 = sm.OLS(y,sm.add_constant(x[:,0])).fit()\n",
    "print('r2 1',model1.fittedvalues.var()/y.var())\n",
    "model2 = sm.OLS(y,sm.add_constant(x[:,1])).fit()\n",
    "print('r2 2',model2.fittedvalues.var()/y.var())"
   ]
  },
  {
   "cell_type": "markdown",
   "id": "18fd6189",
   "metadata": {},
   "source": [
    "approach 1: regress error 1 on predicted 2"
   ]
  },
  {
   "cell_type": "code",
   "execution_count": 5,
   "id": "d3ebf494",
   "metadata": {},
   "outputs": [
    {
     "name": "stdout",
     "output_type": "stream",
     "text": [
      "1.0467324081397495\n",
      "1.0467324081397498\n",
      "0.050676495756907414\n",
      "0.07981772115404413\n"
     ]
    }
   ],
   "source": [
    "## THIS IS THE right way... it seems better.. \n",
    "error_reg = sm.OLS(model1.resid,sm.add_constant(model2.fittedvalues) ).fit()\n",
    "\n",
    "#split up unexplained varation into 2 pieces... \n",
    "print(model1.resid.var())\n",
    "print(error_reg.resid.var() + error_reg.fittedvalues.var())\n",
    "\n",
    "#not quite the same? as when i do it with correlations?\n",
    "print((error_reg.fittedvalues.var())/y.var()  ) #is this the additional r2 that y2 can add?\n",
    "print( (model1.fittedvalues.var() + error_reg.fittedvalues.var())/y.var()  )"
   ]
  },
  {
   "cell_type": "markdown",
   "id": "fdb6120b",
   "metadata": {},
   "source": [
    "approach 2: covariance matrices"
   ]
  },
  {
   "cell_type": "code",
   "execution_count": 6,
   "id": "84816bc1",
   "metadata": {},
   "outputs": [
    {
     "name": "stdout",
     "output_type": "stream",
     "text": [
      "[[1.07923028 0.03145009 0.10706751]\n",
      " [0.03145009 0.03145009 0.030545  ]\n",
      " [0.10706751 0.030545   0.10706751]]\n",
      "0.029141225397136927\n",
      "0.029141225397136712\n",
      "0.09920728721855365\n",
      "0.09920728721855364\n"
     ]
    }
   ],
   "source": [
    "#covariance matrix approach\n",
    "cov = np.cov( [y,model1.fittedvalues,model2.fittedvalues] )\n",
    "print(cov)\n",
    "\n",
    "#double check that diagnals are r2\n",
    "print(1- (y - model1.fittedvalues).var()/y.var())\n",
    "print(cov[1,1]/cov[0,0])\n",
    "\n",
    "#what is the r2 of model 2\n",
    "print(1- (y - model2.fittedvalues).var()/y.var())\n",
    "print(cov[2,2]/cov[0,0])"
   ]
  },
  {
   "cell_type": "code",
   "execution_count": 7,
   "id": "cb104465",
   "metadata": {},
   "outputs": [
    {
     "name": "stdout",
     "output_type": "stream",
     "text": [
      "0.7147127026978349\n",
      "0.05067649575690736\n",
      "0.050676495756907365\n"
     ]
    }
   ],
   "source": [
    "#how much could the r2 of model 1 be-improved? what is the r2 of 1 and what is the correlation?\n",
    "beta = (cov[0,2] - cov[1,2])/(cov[2,2])\n",
    "print(beta)\n",
    "\n",
    "print( (beta**2*cov[2,2])/cov[0,0]) #this is it!!\n",
    "\n",
    "#can simplify\n",
    "print( (cov[0,2] - cov[1,2])**2/cov[2,2]/cov[0,0])  #this is it!!\n",
    "#TODO think this through using variance/covariance formula\n",
    "\n",
    "#how far is model 1 from the true model, using model 2 as a yard stick... \n",
    "#distance of 1 from the truth, relative to unexplained error"
   ]
  },
  {
   "cell_type": "markdown",
   "id": "aa4537cb",
   "metadata": {},
   "source": [
    "relationship with infomrativeness"
   ]
  },
  {
   "cell_type": "code",
   "execution_count": 8,
   "id": "77231c83",
   "metadata": {},
   "outputs": [
    {
     "name": "stdout",
     "output_type": "stream",
     "text": [
      "0.05219759771717262\n",
      "0.05219759771717257\n"
     ]
    }
   ],
   "source": [
    "## THIS IS THE right way... it seems better.. \n",
    "error_reg = sm.OLS( model1.resid,sm.add_constant(model2.fittedvalues) ).fit()\n",
    "\n",
    "#informativesness about model 2 for model 1 residuals\n",
    "print(error_reg.fittedvalues.var()/model1.resid.var())\n",
    "\n",
    "#not quite the same? as when i do it with correlations?\n",
    "print( (cov[0,2] - cov[1,2])**2/(cov[2,2]*(cov[0,0]-cov[1,1]) ) )"
   ]
  },
  {
   "cell_type": "code",
   "execution_count": 10,
   "id": "93167a04",
   "metadata": {},
   "outputs": [
    {
     "name": "stdout",
     "output_type": "stream",
     "text": [
      "0.07175339299929927\n"
     ]
    }
   ],
   "source": [
    "print( (cov[0,2] - cov[1,2])**2/(cov[0,0]*(cov[2,2]+cov[1,1]-2*cov[0,1]) ) )"
   ]
  },
  {
   "cell_type": "code",
   "execution_count": null,
   "id": "15c99238",
   "metadata": {},
   "outputs": [],
   "source": []
  }
 ],
 "metadata": {
  "kernelspec": {
   "display_name": "Python 3 (ipykernel)",
   "language": "python",
   "name": "python3"
  },
  "language_info": {
   "codemirror_mode": {
    "name": "ipython",
    "version": 3
   },
   "file_extension": ".py",
   "mimetype": "text/x-python",
   "name": "python",
   "nbconvert_exporter": "python",
   "pygments_lexer": "ipython3",
   "version": "3.9.7"
  }
 },
 "nbformat": 4,
 "nbformat_minor": 5
}
