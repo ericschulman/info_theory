{
 "cells": [
  {
   "cell_type": "code",
   "execution_count": 19,
   "metadata": {},
   "outputs": [],
   "source": [
    "using Pkg\n",
    "using Random, Distributions\n",
    "using PyPlot\n",
    "using Optim\n",
    "#Pkg.add(\"Quadrature\")\n",
    "using Quadrature"
   ]
  },
  {
   "cell_type": "code",
   "execution_count": 20,
   "metadata": {},
   "outputs": [
    {
     "name": "stdout",
     "output_type": "stream",
     "text": [
      "0.2999998593785989 0.20000007607650466 0.3000000678403975 0.20000003976000372\n",
      "1.0000000430555047\n"
     ]
    }
   ],
   "source": [
    "w= 0.251314\n",
    "x= 0.287682\n",
    "y= 0.17185\n",
    "z= -0.271934\n",
    "\n",
    "p11 = exp(w+x)*exp(y+z)/((1+exp(w+x))*(1+exp(y+z)))\n",
    "p00 = 1/((1+exp(w))*(1+exp(y)))\n",
    "p10 = exp(x)/((1+exp(x))*(1+exp(y+z)))\n",
    "p01 = exp(y)/((1+exp(w+x))*(1+exp(y)))\n",
    "\n",
    "println(\"$(p11) $(p00) $(p10) $(p01)\")\n",
    "println(p11+p00+p10+p01)"
   ]
  },
  {
   "cell_type": "code",
   "execution_count": 21,
   "metadata": {},
   "outputs": [
    {
     "name": "stdout",
     "output_type": "stream",
     "text": [
      "0.2710551942645337 0.20935778152612267 0.2927980632154649 0.20987887161299604\n",
      "0.9830899106191173\n"
     ]
    }
   ],
   "source": [
    "w= 0.251314\n",
    "x= 0.287682*.5\n",
    "y= 0.17185*.5\n",
    "z= -0.271934\n",
    "\n",
    "p11 = exp(w+x)*exp(y+z)/((1+exp(w+x))*(1+exp(y+z)))\n",
    "p00 = 1/((1+exp(w))*(1+exp(y)))\n",
    "p10 = exp(x)/((1+exp(x))*(1+exp(y+z)))\n",
    "p01 = exp(y)/((1+exp(w+x))*(1+exp(y)))\n",
    "\n",
    "println(\"$(p11) $(p00) $(p10) $(p01)\")\n",
    "println(p11+p00+p10+p01)"
   ]
  },
  {
   "cell_type": "code",
   "execution_count": 22,
   "metadata": {},
   "outputs": [
    {
     "name": "stdout",
     "output_type": "stream",
     "text": [
      "0.5"
     ]
    }
   ],
   "source": [
    "f(x,p) = x\n",
    "\n",
    "prob = QuadratureProblem(f,0,1)\n",
    "sol = solve(prob,HCubatureJL(),reltol=1e-3,abstol=1e-3)\n",
    "print(sol[1])"
   ]
  },
  {
   "cell_type": "code",
   "execution_count": null,
   "metadata": {},
   "outputs": [],
   "source": []
  }
 ],
 "metadata": {
  "kernelspec": {
   "display_name": "Julia 1.0.4",
   "language": "julia",
   "name": "julia-1.0"
  },
  "language_info": {
   "file_extension": ".jl",
   "mimetype": "application/julia",
   "name": "julia",
   "version": "1.0.4"
  }
 },
 "nbformat": 4,
 "nbformat_minor": 2
}
