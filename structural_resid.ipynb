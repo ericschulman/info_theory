{
 "cells": [
  {
   "cell_type": "code",
   "execution_count": 1,
   "id": "bca9c9b8",
   "metadata": {},
   "outputs": [
    {
     "name": "stdout",
     "output_type": "stream",
     "text": [
      "5.094671102898658\n",
      "13.249943230119452\n",
      "                            OLS Regression Results                            \n",
      "==============================================================================\n",
      "Dep. Variable:                      y   R-squared:                       0.965\n",
      "Model:                            OLS   Adj. R-squared:                  0.965\n",
      "Method:                 Least Squares   F-statistic:                 2.725e+04\n",
      "Date:                Wed, 06 Mar 2024   Prob (F-statistic):               0.00\n",
      "Time:                        19:46:26   Log-Likelihood:                -101.57\n",
      "No. Observations:                1000   AIC:                             207.1\n",
      "Df Residuals:                     998   BIC:                             217.0\n",
      "Df Model:                           1                                         \n",
      "Covariance Type:            nonrobust                                         \n",
      "==============================================================================\n",
      "                 coef    std err          t      P>|t|      [0.025      0.975]\n",
      "------------------------------------------------------------------------------\n",
      "const          0.0153      0.008      1.807      0.071      -0.001       0.032\n",
      "x1             0.3845      0.002    165.082      0.000       0.380       0.389\n",
      "==============================================================================\n",
      "Omnibus:                        3.796   Durbin-Watson:                   2.055\n",
      "Prob(Omnibus):                  0.150   Jarque-Bera (JB):                3.784\n",
      "Skew:                           0.106   Prob(JB):                        0.151\n",
      "Kurtosis:                       3.214   Cond. No.                         3.65\n",
      "==============================================================================\n",
      "\n",
      "Notes:\n",
      "[1] Standard Errors assume that the covariance matrix of the errors is correctly specified.\n"
     ]
    }
   ],
   "source": [
    "# Generating data\n",
    "import numpy as np\n",
    "import pandas as pd\n",
    "import statsmodels.api as sm\n",
    "\n",
    "np.random.seed(42)\n",
    "n = 1000\n",
    "\n",
    "x = np.random.randn(n)\n",
    "z = np.random.randn(n)\n",
    "a = 2\n",
    "b = 3\n",
    "\n",
    "w = a*x - b*z\n",
    "y = x - z\n",
    "\n",
    "# Creating DataFrame\n",
    "data = pd.DataFrame({'y': y, 'w': w})\n",
    "\n",
    "print( (y*w).mean() - y.mean()*w.mean())\n",
    "print( (w*w).mean() - w.mean()*w.mean())\n",
    "\n",
    "\n",
    "# Regression\n",
    "X = sm.add_constant(w)\n",
    "model = sm.OLS(y, X).fit()\n",
    "\n",
    "# Printing Summary\n",
    "print(model.summary())\n"
   ]
  },
  {
   "cell_type": "code",
   "execution_count": 2,
   "id": "afc13acf",
   "metadata": {},
   "outputs": [
    {
     "name": "stdout",
     "output_type": "stream",
     "text": [
      "Average value of residuals^2: 0.07173821637199349\n",
      "Average value of y^2: 2.030665375222669\n",
      "Average value of w^2: 13.249943230119454\n",
      "Average value of y_pred^2: 1.961579839555123\n"
     ]
    }
   ],
   "source": [
    "\n",
    "# Calculating residuals\n",
    "residuals = y - model.predict(X)\n",
    "\n",
    "# Calculating average value of residuals^2\n",
    "avg_residuals_sq = residuals.var()\n",
    "\n",
    "# Calculating average value of y^2\n",
    "avg_y_sq = y.var()\n",
    "\n",
    "# Calculating average value of w^2\n",
    "avg_w_sq = w.var()\n",
    "\n",
    "# Calculating average value of y_pred^2\n",
    "y_pred = model.predict(X)\n",
    "avg_y_pred_sq = np.mean(y_pred**2)\n",
    "\n",
    "print(\"Average value of residuals^2:\", avg_residuals_sq)\n",
    "print(\"Average value of y^2:\", avg_y_sq)\n",
    "print(\"Average value of w^2:\", avg_w_sq)\n",
    "print(\"Average value of y_pred^2:\", avg_y_pred_sq)"
   ]
  }
 ],
 "metadata": {
  "kernelspec": {
   "display_name": "Python 3 (ipykernel)",
   "language": "python",
   "name": "python3"
  },
  "language_info": {
   "codemirror_mode": {
    "name": "ipython",
    "version": 3
   },
   "file_extension": ".py",
   "mimetype": "text/x-python",
   "name": "python",
   "nbconvert_exporter": "python",
   "pygments_lexer": "ipython3",
   "version": "3.10.9"
  }
 },
 "nbformat": 4,
 "nbformat_minor": 5
}
