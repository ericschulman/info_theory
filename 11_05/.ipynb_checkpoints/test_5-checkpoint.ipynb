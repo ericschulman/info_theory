{
 "cells": [
  {
   "cell_type": "code",
   "execution_count": 2,
   "metadata": {},
   "outputs": [],
   "source": [
    "import pandas as pd\n",
    "import math\n",
    "import numpy as np\n",
    "import statsmodels.api as sm\n",
    "import matplotlib.pyplot as plt\n",
    "from datetime import datetime"
   ]
  },
  {
   "cell_type": "code",
   "execution_count": null,
   "metadata": {},
   "outputs": [],
   "source": []
  },
  {
   "cell_type": "code",
   "execution_count": 26,
   "metadata": {},
   "outputs": [
    {
     "name": "stdout",
     "output_type": "stream",
     "text": [
      "-0.0033007954075883715 -0.0031122003693056684 -0.00275616653280333 -0.0025930931164061706 0.9428637600957841 1.0\n"
     ]
    }
   ],
   "source": [
    "theta1 = -.58\n",
    "RC = -10.47\n",
    "params = theta1, RC\n",
    "\n",
    "data = pd.read_csv('bus1234.csv')\n",
    "data['day'] = 1\n",
    "data['day'] = pd.to_datetime(data[['year','month','day']])\n",
    "data['miles'] =data['miles']/1e6\n",
    "\n",
    "data['util'] = params[0]*data['miles']*(1-data['replace']) + params[1]*data['replace']\n",
    "u_lag = data.groupby('id')['util'].shift(1)\n",
    "cov1 = (u_lag*data['util']).mean() - u_lag.mean()*data['util'].mean()\n",
    "\n",
    "\n",
    "u_lag = data.groupby('id')['util'].shift(2)\n",
    "cov2 = (u_lag*data['util']).mean() - u_lag.mean()*data['util'].mean()\n",
    "\n",
    "u_lag = data.groupby('id')['util'].shift(3)\n",
    "cov3 = (u_lag*data['util']).mean() - u_lag.mean()*data['util'].mean()\n",
    "\n",
    "u_lag = data.groupby('id')['util'].shift(4)\n",
    "cov4 = (u_lag*data['util']).mean() - u_lag.mean()*data['util'].mean()\n",
    "\n",
    "\n",
    "print(cov1,cov2,cov3,cov4, cov2/cov1, cov3/cov2)"
   ]
  },
  {
   "cell_type": "code",
   "execution_count": null,
   "metadata": {},
   "outputs": [],
   "source": [
    "print(cov1,cov2,cov3,cov4, np.log(-cov1)/np.log(-cov2), np.log(-cov2)/np.log(-cov3), np.log(-cov1)/np.log(-cov3))"
   ]
  }
 ],
 "metadata": {
  "kernelspec": {
   "display_name": "Python 3",
   "language": "python",
   "name": "python3"
  },
  "language_info": {
   "codemirror_mode": {
    "name": "ipython",
    "version": 3
   },
   "file_extension": ".py",
   "mimetype": "text/x-python",
   "name": "python",
   "nbconvert_exporter": "python",
   "pygments_lexer": "ipython3",
   "version": "3.7.3"
  }
 },
 "nbformat": 4,
 "nbformat_minor": 2
}
