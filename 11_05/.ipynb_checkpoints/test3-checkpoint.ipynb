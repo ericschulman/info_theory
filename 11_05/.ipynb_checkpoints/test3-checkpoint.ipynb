{
 "cells": [
  {
   "cell_type": "code",
   "execution_count": 2,
   "metadata": {},
   "outputs": [],
   "source": [
    "import pandas as pd\n",
    "import math\n",
    "import numpy as np\n",
    "import statsmodels.api as sm\n",
    "import matplotlib.pyplot as plt\n",
    "from statsmodels.sandbox.regression.gmm import GMM\n",
    "from datetime import datetime"
   ]
  },
  {
   "cell_type": "code",
   "execution_count": 3,
   "metadata": {},
   "outputs": [
    {
     "name": "stdout",
     "output_type": "stream",
     "text": [
      "Index(['Unnamed: 0', 'id', 'group', 'year', 'month', 'replace', 'miles',\n",
      "       'day'],\n",
      "      dtype='object')\n",
      "0.007263922518159807\n"
     ]
    }
   ],
   "source": [
    "data = pd.read_csv('bus1234.csv')\n",
    "data['day'] = 1\n",
    "data['day'] = pd.to_datetime(data[['year','month','day']])\n",
    "data['miles'] =data['miles']/1e6\n",
    "\n",
    "print(data.columns)\n",
    "\n",
    "print( data['replace'].mean() )"
   ]
  },
  {
   "cell_type": "code",
   "execution_count": 6,
   "metadata": {},
   "outputs": [
    {
     "name": "stderr",
     "output_type": "stream",
     "text": [
      "/home/erichschulman/anaconda3/lib/python3.7/site-packages/numpy/core/fromnumeric.py:2389: FutureWarning: Method .ptp is deprecated and will be removed in a future version. Use numpy.ptp instead.\n",
      "  return ptp(axis=axis, out=out, **kwargs)\n"
     ]
    }
   ],
   "source": [
    "data['shock'] = sm.OLS(data['replace'], sm.add_constant( data['miles'] ) ).fit().resid"
   ]
  },
  {
   "cell_type": "code",
   "execution_count": 7,
   "metadata": {},
   "outputs": [
    {
     "name": "stdout",
     "output_type": "stream",
     "text": [
      "Unnamed: 0      4129.256829\n",
      "id                99.481341\n",
      "group         278250.201098\n",
      "year            1981.071463\n",
      "month              6.491463\n",
      "replace            0.000000\n",
      "miles              0.117379\n",
      "shock             -0.007164\n",
      "dtype: float64\n",
      "Unnamed: 0      4162.733333\n",
      "id                95.816667\n",
      "group         292072.600000\n",
      "year            1982.300000\n",
      "month              6.266667\n",
      "replace            1.000000\n",
      "miles              0.235181\n",
      "shock              0.979026\n",
      "dtype: float64\n"
     ]
    }
   ],
   "source": [
    "data_1 = data[data['replace']== 1]\n",
    "data_0 = data[data['replace'] == 0]\n",
    "\n",
    "print(data_0.mean())\n",
    "print(data_1.mean())\n",
    "\n"
   ]
  },
  {
   "cell_type": "code",
   "execution_count": 11,
   "metadata": {},
   "outputs": [
    {
     "name": "stdout",
     "output_type": "stream",
     "text": [
      "-0.6102946979908395\n",
      "-9.790261544474555\n"
     ]
    }
   ],
   "source": [
    "print(10*data_0['shock'].mean()/data_0['miles'].mean())\n",
    "print(data_1['shock'].mean())"
   ]
  },
  {
   "cell_type": "code",
   "execution_count": null,
   "metadata": {},
   "outputs": [],
   "source": []
  }
 ],
 "metadata": {
  "kernelspec": {
   "display_name": "Python 3",
   "language": "python",
   "name": "python3"
  },
  "language_info": {
   "codemirror_mode": {
    "name": "ipython",
    "version": 3
   },
   "file_extension": ".py",
   "mimetype": "text/x-python",
   "name": "python",
   "nbconvert_exporter": "python",
   "pygments_lexer": "ipython3",
   "version": "3.7.3"
  }
 },
 "nbformat": 4,
 "nbformat_minor": 2
}
