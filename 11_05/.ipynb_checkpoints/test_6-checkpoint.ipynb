{
 "cells": [
  {
   "cell_type": "code",
   "execution_count": 15,
   "metadata": {},
   "outputs": [],
   "source": [
    "import pandas as pd\n",
    "import math\n",
    "import numpy as np\n",
    "import statsmodels.api as sm\n",
    "import matplotlib.pyplot as plt\n",
    "from datetime import datetime"
   ]
  },
  {
   "cell_type": "code",
   "execution_count": 16,
   "metadata": {},
   "outputs": [],
   "source": [
    "data = pd.read_csv('bus1234.csv')\n",
    "data['day'] = 1\n",
    "data['day'] = pd.to_datetime(data[['year','month','day']])\n",
    "data['miles'] =data['miles']/1e6\n",
    "data['miles_sq'] = data['miles']**2\n",
    "data['miles_cubed'] = data['miles']**3"
   ]
  },
  {
   "cell_type": "code",
   "execution_count": 17,
   "metadata": {},
   "outputs": [],
   "source": [
    "test = data.copy()\n",
    "test = sm.add_constant(test)\n",
    "\n",
    "test['future_replace'] = data.groupby('id')['replace'].shift(-1)\n",
    "test['future_miles'] = data.groupby('id')['miles'].shift(-1)\n",
    "test['past_miles'] =  data.groupby('id')['miles'].shift(1)\n",
    "test['future_miles_sq'] = test['future_miles']*test['future_miles']\n",
    "test = test.dropna()"
   ]
  },
  {
   "cell_type": "code",
   "execution_count": 18,
   "metadata": {},
   "outputs": [
    {
     "name": "stdout",
     "output_type": "stream",
     "text": [
      "Optimization terminated successfully.\n",
      "         Current function value: 0.037755\n",
      "         Iterations 10\n",
      "                           Logit Regression Results                           \n",
      "==============================================================================\n",
      "Dep. Variable:                replace   No. Observations:                 8052\n",
      "Model:                          Logit   Df Residuals:                     8050\n",
      "Method:                           MLE   Df Model:                            1\n",
      "Date:                Thu, 07 Nov 2019   Pseudo R-squ.:                  0.1406\n",
      "Time:                        11:24:08   Log-Likelihood:                -304.01\n",
      "converged:                       True   LL-Null:                       -353.74\n",
      "                                        LLR p-value:                 2.000e-23\n",
      "==============================================================================\n",
      "                 coef    std err          z      P>|z|      [0.025      0.975]\n",
      "------------------------------------------------------------------------------\n",
      "const         -7.4388      0.384    -19.349      0.000      -8.192      -6.685\n",
      "miles         14.4029      1.551      9.289      0.000      11.364      17.442\n",
      "==============================================================================\n"
     ]
    }
   ],
   "source": [
    "logit0 = sm.Logit( test['replace'], test[['const','miles']] ).fit()\n",
    "print(logit0.summary())"
   ]
  },
  {
   "cell_type": "code",
   "execution_count": 21,
   "metadata": {},
   "outputs": [
    {
     "name": "stdout",
     "output_type": "stream",
     "text": [
      "Optimization terminated successfully.\n",
      "         Current function value: 0.036971\n",
      "         Iterations 12\n"
     ]
    }
   ],
   "source": [
    "logit1 = sm.Logit( test['replace'], test[['const','miles','miles_sq']] ).fit()\n",
    "future_miles = test.copy()[['const','future_miles','future_miles_sq']]\n",
    "future_miles = future_miles.rename({'miles':'future_miles','miles_sq':'future_miles_sq'})\n",
    "U1 = (logit1.params*test[['const','miles','miles_sq']]).sum(axis=1) - .99*(future_miles*logit1.params).sum(axis=1)"
   ]
  },
  {
   "cell_type": "code",
   "execution_count": 22,
   "metadata": {},
   "outputs": [
    {
     "data": {
      "text/html": [
       "<table class=\"simpletable\">\n",
       "<caption>OLS Regression Results</caption>\n",
       "<tr>\n",
       "  <th>Dep. Variable:</th>            <td>y</td>        <th>  R-squared:         </th> <td>   0.971</td> \n",
       "</tr>\n",
       "<tr>\n",
       "  <th>Model:</th>                   <td>OLS</td>       <th>  Adj. R-squared:    </th> <td>   0.971</td> \n",
       "</tr>\n",
       "<tr>\n",
       "  <th>Method:</th>             <td>Least Squares</td>  <th>  F-statistic:       </th> <td>1.347e+05</td>\n",
       "</tr>\n",
       "<tr>\n",
       "  <th>Date:</th>             <td>Thu, 07 Nov 2019</td> <th>  Prob (F-statistic):</th>  <td>  0.00</td>  \n",
       "</tr>\n",
       "<tr>\n",
       "  <th>Time:</th>                 <td>11:24:46</td>     <th>  Log-Likelihood:    </th> <td> -9231.3</td> \n",
       "</tr>\n",
       "<tr>\n",
       "  <th>No. Observations:</th>      <td>  8052</td>      <th>  AIC:               </th> <td>1.847e+04</td>\n",
       "</tr>\n",
       "<tr>\n",
       "  <th>Df Residuals:</th>          <td>  8050</td>      <th>  BIC:               </th> <td>1.848e+04</td>\n",
       "</tr>\n",
       "<tr>\n",
       "  <th>Df Model:</th>              <td>     2</td>      <th>                     </th>     <td> </td>    \n",
       "</tr>\n",
       "<tr>\n",
       "  <th>Covariance Type:</th>      <td>nonrobust</td>    <th>                     </th>     <td> </td>    \n",
       "</tr>\n",
       "</table>\n",
       "<table class=\"simpletable\">\n",
       "<tr>\n",
       "   <td></td>     <th>coef</th>     <th>std err</th>      <th>t</th>      <th>P>|t|</th>  <th>[0.025</th>    <th>0.975]</th>  \n",
       "</tr>\n",
       "<tr>\n",
       "  <th>x1</th> <td>    6.5154</td> <td>    0.098</td> <td>   66.267</td> <td> 0.000</td> <td>    6.323</td> <td>    6.708</td>\n",
       "</tr>\n",
       "<tr>\n",
       "  <th>x2</th> <td>   30.1515</td> <td>    0.059</td> <td>  514.803</td> <td> 0.000</td> <td>   30.037</td> <td>   30.266</td>\n",
       "</tr>\n",
       "</table>\n",
       "<table class=\"simpletable\">\n",
       "<tr>\n",
       "  <th>Omnibus:</th>       <td>4782.080</td> <th>  Durbin-Watson:     </th> <td>   0.073</td> \n",
       "</tr>\n",
       "<tr>\n",
       "  <th>Prob(Omnibus):</th>  <td> 0.000</td>  <th>  Jarque-Bera (JB):  </th> <td>42280.989</td>\n",
       "</tr>\n",
       "<tr>\n",
       "  <th>Skew:</th>           <td>-2.796</td>  <th>  Prob(JB):          </th> <td>    0.00</td> \n",
       "</tr>\n",
       "<tr>\n",
       "  <th>Kurtosis:</th>       <td>12.734</td>  <th>  Cond. No.          </th> <td>    1.68</td> \n",
       "</tr>\n",
       "</table><br/><br/>Warnings:<br/>[1] Standard Errors assume that the covariance matrix of the errors is correctly specified."
      ],
      "text/plain": [
       "<class 'statsmodels.iolib.summary.Summary'>\n",
       "\"\"\"\n",
       "                            OLS Regression Results                            \n",
       "==============================================================================\n",
       "Dep. Variable:                      y   R-squared:                       0.971\n",
       "Model:                            OLS   Adj. R-squared:                  0.971\n",
       "Method:                 Least Squares   F-statistic:                 1.347e+05\n",
       "Date:                Thu, 07 Nov 2019   Prob (F-statistic):               0.00\n",
       "Time:                        11:24:46   Log-Likelihood:                -9231.3\n",
       "No. Observations:                8052   AIC:                         1.847e+04\n",
       "Df Residuals:                    8050   BIC:                         1.848e+04\n",
       "Df Model:                           2                                         \n",
       "Covariance Type:            nonrobust                                         \n",
       "==============================================================================\n",
       "                 coef    std err          t      P>|t|      [0.025      0.975]\n",
       "------------------------------------------------------------------------------\n",
       "x1             6.5154      0.098     66.267      0.000       6.323       6.708\n",
       "x2            30.1515      0.059    514.803      0.000      30.037      30.266\n",
       "==============================================================================\n",
       "Omnibus:                     4782.080   Durbin-Watson:                   0.073\n",
       "Prob(Omnibus):                  0.000   Jarque-Bera (JB):            42280.989\n",
       "Skew:                          -2.796   Prob(JB):                         0.00\n",
       "Kurtosis:                      12.734   Cond. No.                         1.68\n",
       "==============================================================================\n",
       "\n",
       "Warnings:\n",
       "[1] Standard Errors assume that the covariance matrix of the errors is correctly specified.\n",
       "\"\"\""
      ]
     },
     "execution_count": 22,
     "metadata": {},
     "output_type": "execute_result"
    }
   ],
   "source": [
    "exog = np.array([ test['replace'], test['miles']*(1-test['replace'])])\n",
    "sm.OLS(U1, exog.transpose()).fit().summary()"
   ]
  },
  {
   "cell_type": "code",
   "execution_count": 23,
   "metadata": {},
   "outputs": [
    {
     "name": "stdout",
     "output_type": "stream",
     "text": [
      "Optimization terminated successfully.\n",
      "         Current function value: 0.037328\n",
      "         Iterations 12\n",
      "                           Logit Regression Results                           \n",
      "==============================================================================\n",
      "Dep. Variable:         future_replace   No. Observations:                 8052\n",
      "Model:                          Logit   Df Residuals:                     8049\n",
      "Method:                           MLE   Df Model:                            2\n",
      "Date:                Thu, 07 Nov 2019   Pseudo R-squ.:                  0.1503\n",
      "Time:                        11:24:46   Log-Likelihood:                -300.57\n",
      "converged:                       True   LL-Null:                       -353.74\n",
      "                                        LLR p-value:                 8.100e-24\n",
      "==============================================================================\n",
      "                 coef    std err          z      P>|z|      [0.025      0.975]\n",
      "------------------------------------------------------------------------------\n",
      "const        -10.4281      1.224     -8.518      0.000     -12.828      -8.029\n",
      "miles         46.7051     11.116      4.201      0.000      24.917      68.493\n",
      "miles_sq     -76.2777     24.582     -3.103      0.002    -124.457     -28.099\n",
      "==============================================================================\n",
      "\n",
      "Possibly complete quasi-separation: A fraction 0.14 of observations can be\n",
      "perfectly predicted. This might indicate that there is complete\n",
      "quasi-separation. In this case some parameters will not be identified.\n"
     ]
    }
   ],
   "source": [
    "logit2 = sm.Logit( test['future_replace'], test[['const','miles','miles_sq']] ).fit()\n",
    "print(logit2.summary())\n",
    "U2 = logit1.fittedvalues.get_values() - .99*logit2.fittedvalues.get_values()"
   ]
  },
  {
   "cell_type": "code",
   "execution_count": 24,
   "metadata": {},
   "outputs": [
    {
     "data": {
      "text/html": [
       "<table class=\"simpletable\">\n",
       "<caption>OLS Regression Results</caption>\n",
       "<tr>\n",
       "  <th>Dep. Variable:</th>            <td>y</td>        <th>  R-squared:         </th> <td>   0.206</td>\n",
       "</tr>\n",
       "<tr>\n",
       "  <th>Model:</th>                   <td>OLS</td>       <th>  Adj. R-squared:    </th> <td>   0.206</td>\n",
       "</tr>\n",
       "<tr>\n",
       "  <th>Method:</th>             <td>Least Squares</td>  <th>  F-statistic:       </th> <td>   1047.</td>\n",
       "</tr>\n",
       "<tr>\n",
       "  <th>Date:</th>             <td>Thu, 07 Nov 2019</td> <th>  Prob (F-statistic):</th>  <td>  0.00</td> \n",
       "</tr>\n",
       "<tr>\n",
       "  <th>Time:</th>                 <td>11:24:47</td>     <th>  Log-Likelihood:    </th> <td>  3579.9</td>\n",
       "</tr>\n",
       "<tr>\n",
       "  <th>No. Observations:</th>      <td>  8052</td>      <th>  AIC:               </th> <td>  -7156.</td>\n",
       "</tr>\n",
       "<tr>\n",
       "  <th>Df Residuals:</th>          <td>  8050</td>      <th>  BIC:               </th> <td>  -7142.</td>\n",
       "</tr>\n",
       "<tr>\n",
       "  <th>Df Model:</th>              <td>     2</td>      <th>                     </th>     <td> </td>   \n",
       "</tr>\n",
       "<tr>\n",
       "  <th>Covariance Type:</th>      <td>nonrobust</td>    <th>                     </th>     <td> </td>   \n",
       "</tr>\n",
       "</table>\n",
       "<table class=\"simpletable\">\n",
       "<tr>\n",
       "   <td></td>     <th>coef</th>     <th>std err</th>      <th>t</th>      <th>P>|t|</th>  <th>[0.025</th>    <th>0.975]</th>  \n",
       "</tr>\n",
       "<tr>\n",
       "  <th>x1</th> <td>   -0.0365</td> <td>    0.020</td> <td>   -1.824</td> <td> 0.068</td> <td>   -0.076</td> <td>    0.003</td>\n",
       "</tr>\n",
       "<tr>\n",
       "  <th>x2</th> <td>   -0.5456</td> <td>    0.012</td> <td>  -45.729</td> <td> 0.000</td> <td>   -0.569</td> <td>   -0.522</td>\n",
       "</tr>\n",
       "</table>\n",
       "<table class=\"simpletable\">\n",
       "<tr>\n",
       "  <th>Omnibus:</th>       <td>913.136</td> <th>  Durbin-Watson:     </th> <td>   0.047</td> \n",
       "</tr>\n",
       "<tr>\n",
       "  <th>Prob(Omnibus):</th> <td> 0.000</td>  <th>  Jarque-Bera (JB):  </th> <td>1253.163</td> \n",
       "</tr>\n",
       "<tr>\n",
       "  <th>Skew:</th>          <td> 0.955</td>  <th>  Prob(JB):          </th> <td>7.57e-273</td>\n",
       "</tr>\n",
       "<tr>\n",
       "  <th>Kurtosis:</th>      <td> 3.291</td>  <th>  Cond. No.          </th> <td>    1.68</td> \n",
       "</tr>\n",
       "</table><br/><br/>Warnings:<br/>[1] Standard Errors assume that the covariance matrix of the errors is correctly specified."
      ],
      "text/plain": [
       "<class 'statsmodels.iolib.summary.Summary'>\n",
       "\"\"\"\n",
       "                            OLS Regression Results                            \n",
       "==============================================================================\n",
       "Dep. Variable:                      y   R-squared:                       0.206\n",
       "Model:                            OLS   Adj. R-squared:                  0.206\n",
       "Method:                 Least Squares   F-statistic:                     1047.\n",
       "Date:                Thu, 07 Nov 2019   Prob (F-statistic):               0.00\n",
       "Time:                        11:24:47   Log-Likelihood:                 3579.9\n",
       "No. Observations:                8052   AIC:                            -7156.\n",
       "Df Residuals:                    8050   BIC:                            -7142.\n",
       "Df Model:                           2                                         \n",
       "Covariance Type:            nonrobust                                         \n",
       "==============================================================================\n",
       "                 coef    std err          t      P>|t|      [0.025      0.975]\n",
       "------------------------------------------------------------------------------\n",
       "x1            -0.0365      0.020     -1.824      0.068      -0.076       0.003\n",
       "x2            -0.5456      0.012    -45.729      0.000      -0.569      -0.522\n",
       "==============================================================================\n",
       "Omnibus:                      913.136   Durbin-Watson:                   0.047\n",
       "Prob(Omnibus):                  0.000   Jarque-Bera (JB):             1253.163\n",
       "Skew:                           0.955   Prob(JB):                    7.57e-273\n",
       "Kurtosis:                       3.291   Cond. No.                         1.68\n",
       "==============================================================================\n",
       "\n",
       "Warnings:\n",
       "[1] Standard Errors assume that the covariance matrix of the errors is correctly specified.\n",
       "\"\"\""
      ]
     },
     "execution_count": 24,
     "metadata": {},
     "output_type": "execute_result"
    }
   ],
   "source": [
    "exog = np.array([ test['replace'], test['miles']*(1-test['replace'])])\n",
    "sm.OLS(U2, exog.transpose()).fit().summary()"
   ]
  },
  {
   "cell_type": "code",
   "execution_count": 25,
   "metadata": {},
   "outputs": [
    {
     "name": "stdout",
     "output_type": "stream",
     "text": [
      "                            OLS Regression Results                            \n",
      "==============================================================================\n",
      "Dep. Variable:                  miles   R-squared:                       0.673\n",
      "Model:                            OLS   Adj. R-squared:                  0.673\n",
      "Method:                 Least Squares   F-statistic:                 1.656e+04\n",
      "Date:                Thu, 07 Nov 2019   Prob (F-statistic):               0.00\n",
      "Time:                        11:24:48   Log-Likelihood:                 8543.3\n",
      "No. Observations:                8052   AIC:                        -1.708e+04\n",
      "Df Residuals:                    8051   BIC:                        -1.708e+04\n",
      "Df Model:                           1                                         \n",
      "Covariance Type:            nonrobust                                         \n",
      "==============================================================================\n",
      "                 coef    std err          t      P>|t|      [0.025      0.975]\n",
      "------------------------------------------------------------------------------\n",
      "trend          0.0022   1.72e-05    128.685      0.000       0.002       0.002\n",
      "==============================================================================\n",
      "Omnibus:                     1164.956   Durbin-Watson:                   0.087\n",
      "Prob(Omnibus):                  0.000   Jarque-Bera (JB):             1729.702\n",
      "Skew:                          -1.109   Prob(JB):                         0.00\n",
      "Kurtosis:                       3.490   Cond. No.                         1.00\n",
      "==============================================================================\n",
      "\n",
      "Warnings:\n",
      "[1] Standard Errors assume that the covariance matrix of the errors is correctly specified.\n"
     ]
    }
   ],
   "source": [
    "#add a trend\n",
    "test['trend'] = np.zeros(test.shape[0])\n",
    "test = test.sort_values(['id','day'])\n",
    "values = test.groupby(['id']).count()['const']\n",
    "for ids in test['id'].unique():\n",
    "    trend = np.arange(values[ids])\n",
    "    test.loc[test['id']==ids,'trend'] = trend\n",
    "\n",
    "predictors = np.array( [test['trend']*test['replace'], test['trend']*(1-test['replace'])] )\n",
    "predictors = predictors.transpose()\n",
    "miles_ols = sm.OLS(test['miles'],test['trend']).fit()\n",
    "print(miles_ols.summary())"
   ]
  },
  {
   "cell_type": "code",
   "execution_count": 28,
   "metadata": {
    "scrolled": false
   },
   "outputs": [],
   "source": [
    "choice_pr = np.exp((logit1.params*test[['const','miles','miles_sq']]).sum(axis=1))\n",
    "choice_pr = choice_pr/(1+choice_pr)"
   ]
  },
  {
   "cell_type": "code",
   "execution_count": 30,
   "metadata": {},
   "outputs": [
    {
     "data": {
      "text/html": [
       "<table class=\"simpletable\">\n",
       "<caption>OLS Regression Results</caption>\n",
       "<tr>\n",
       "  <th>Dep. Variable:</th>            <td>y</td>        <th>  R-squared:         </th> <td>   0.948</td> \n",
       "</tr>\n",
       "<tr>\n",
       "  <th>Model:</th>                   <td>OLS</td>       <th>  Adj. R-squared:    </th> <td>   0.948</td> \n",
       "</tr>\n",
       "<tr>\n",
       "  <th>Method:</th>             <td>Least Squares</td>  <th>  F-statistic:       </th> <td>7.268e+04</td>\n",
       "</tr>\n",
       "<tr>\n",
       "  <th>Date:</th>             <td>Thu, 07 Nov 2019</td> <th>  Prob (F-statistic):</th>  <td>  0.00</td>  \n",
       "</tr>\n",
       "<tr>\n",
       "  <th>Time:</th>                 <td>11:25:56</td>     <th>  Log-Likelihood:    </th> <td>  4907.3</td> \n",
       "</tr>\n",
       "<tr>\n",
       "  <th>No. Observations:</th>      <td>  8052</td>      <th>  AIC:               </th> <td>  -9811.</td> \n",
       "</tr>\n",
       "<tr>\n",
       "  <th>Df Residuals:</th>          <td>  8050</td>      <th>  BIC:               </th> <td>  -9797.</td> \n",
       "</tr>\n",
       "<tr>\n",
       "  <th>Df Model:</th>              <td>     2</td>      <th>                     </th>     <td> </td>    \n",
       "</tr>\n",
       "<tr>\n",
       "  <th>Covariance Type:</th>      <td>nonrobust</td>    <th>                     </th>     <td> </td>    \n",
       "</tr>\n",
       "</table>\n",
       "<table class=\"simpletable\">\n",
       "<tr>\n",
       "   <td></td>     <th>coef</th>     <th>std err</th>      <th>t</th>      <th>P>|t|</th>  <th>[0.025</th>    <th>0.975]</th>  \n",
       "</tr>\n",
       "<tr>\n",
       "  <th>x1</th> <td>    6.4132</td> <td>    0.017</td> <td>  377.587</td> <td> 0.000</td> <td>    6.380</td> <td>    6.446</td>\n",
       "</tr>\n",
       "<tr>\n",
       "  <th>x2</th> <td>   -0.5340</td> <td>    0.010</td> <td>  -52.778</td> <td> 0.000</td> <td>   -0.554</td> <td>   -0.514</td>\n",
       "</tr>\n",
       "</table>\n",
       "<table class=\"simpletable\">\n",
       "<tr>\n",
       "  <th>Omnibus:</th>       <td>4358.178</td> <th>  Durbin-Watson:     </th>  <td>   0.500</td> \n",
       "</tr>\n",
       "<tr>\n",
       "  <th>Prob(Omnibus):</th>  <td> 0.000</td>  <th>  Jarque-Bera (JB):  </th> <td>553833.315</td>\n",
       "</tr>\n",
       "<tr>\n",
       "  <th>Skew:</th>           <td>-1.605</td>  <th>  Prob(JB):          </th>  <td>    0.00</td> \n",
       "</tr>\n",
       "<tr>\n",
       "  <th>Kurtosis:</th>       <td>43.503</td>  <th>  Cond. No.          </th>  <td>    1.68</td> \n",
       "</tr>\n",
       "</table><br/><br/>Warnings:<br/>[1] Standard Errors assume that the covariance matrix of the errors is correctly specified."
      ],
      "text/plain": [
       "<class 'statsmodels.iolib.summary.Summary'>\n",
       "\"\"\"\n",
       "                            OLS Regression Results                            \n",
       "==============================================================================\n",
       "Dep. Variable:                      y   R-squared:                       0.948\n",
       "Model:                            OLS   Adj. R-squared:                  0.948\n",
       "Method:                 Least Squares   F-statistic:                 7.268e+04\n",
       "Date:                Thu, 07 Nov 2019   Prob (F-statistic):               0.00\n",
       "Time:                        11:25:56   Log-Likelihood:                 4907.3\n",
       "No. Observations:                8052   AIC:                            -9811.\n",
       "Df Residuals:                    8050   BIC:                            -9797.\n",
       "Df Model:                           2                                         \n",
       "Covariance Type:            nonrobust                                         \n",
       "==============================================================================\n",
       "                 coef    std err          t      P>|t|      [0.025      0.975]\n",
       "------------------------------------------------------------------------------\n",
       "x1             6.4132      0.017    377.587      0.000       6.380       6.446\n",
       "x2            -0.5340      0.010    -52.778      0.000      -0.554      -0.514\n",
       "==============================================================================\n",
       "Omnibus:                     4358.178   Durbin-Watson:                   0.500\n",
       "Prob(Omnibus):                  0.000   Jarque-Bera (JB):           553833.315\n",
       "Skew:                          -1.605   Prob(JB):                         0.00\n",
       "Kurtosis:                      43.503   Cond. No.                         1.68\n",
       "==============================================================================\n",
       "\n",
       "Warnings:\n",
       "[1] Standard Errors assume that the covariance matrix of the errors is correctly specified.\n",
       "\"\"\""
      ]
     },
     "execution_count": 30,
     "metadata": {},
     "output_type": "execute_result"
    }
   ],
   "source": [
    "predicted_miles = miles_ols.params['trend'] + test['miles']*(1-test['replace'])\n",
    "predicted_miles = np.array([test['const'], predicted_miles, predicted_miles*predicted_miles]).transpose()\n",
    "\n",
    "predicted_miles = pd.DataFrame(predicted_miles , columns =['const','miles','miles_sq'], index=test.index  )\n",
    "U3 = (logit1.params*test[['const','miles','miles_sq']]).sum(axis=1) - .99*(predicted_miles*logit1.params).sum(axis=1)\n",
    "\n",
    "exog = np.array([ test['replace'], test['miles']*(1-test['replace'])])\n",
    "sm.OLS(U3, exog.transpose()).fit().summary()"
   ]
  },
  {
   "cell_type": "code",
   "execution_count": 13,
   "metadata": {},
   "outputs": [
    {
     "name": "stdout",
     "output_type": "stream",
     "text": [
      "[[ 0.006299   -0.14159251]\n",
      " [ 0.010479   -0.18738051]\n",
      " [ 0.015201   -0.26093734]\n",
      " ...\n",
      " [ 0.081774    3.92596926]\n",
      " [ 0.085819    3.78004228]\n",
      " [ 0.090131    3.62739402]]\n"
     ]
    }
   ],
   "source": [
    "print(np.array( [test['miles'], logit1.fittedvalues.get_values() - \n",
    "                 (predicted_miles*logit1.params).sum(axis=1)] ).transpose())"
   ]
  },
  {
   "cell_type": "code",
   "execution_count": null,
   "metadata": {},
   "outputs": [],
   "source": []
  },
  {
   "cell_type": "code",
   "execution_count": null,
   "metadata": {},
   "outputs": [],
   "source": []
  }
 ],
 "metadata": {
  "kernelspec": {
   "display_name": "Python 3",
   "language": "python",
   "name": "python3"
  },
  "language_info": {
   "codemirror_mode": {
    "name": "ipython",
    "version": 3
   },
   "file_extension": ".py",
   "mimetype": "text/x-python",
   "name": "python",
   "nbconvert_exporter": "python",
   "pygments_lexer": "ipython3",
   "version": "3.7.3"
  }
 },
 "nbformat": 4,
 "nbformat_minor": 2
}
