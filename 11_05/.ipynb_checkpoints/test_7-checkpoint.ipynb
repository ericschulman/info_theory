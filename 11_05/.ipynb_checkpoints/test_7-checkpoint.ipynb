{
 "cells": [
  {
   "cell_type": "code",
   "execution_count": 1,
   "metadata": {},
   "outputs": [],
   "source": [
    "import pandas as pd\n",
    "import math\n",
    "import numpy as np\n",
    "import statsmodels.api as sm\n",
    "import matplotlib.pyplot as plt\n",
    "from datetime import datetime"
   ]
  },
  {
   "cell_type": "code",
   "execution_count": 2,
   "metadata": {},
   "outputs": [],
   "source": [
    "data = pd.read_csv('bus1234.csv')\n",
    "data['day'] = 1\n",
    "data['day'] = pd.to_datetime(data[['year','month','day']])\n",
    "data['miles'] =data['miles']/1e6\n",
    "data['miles_sq'] = data['miles']**2\n",
    "data['miles_cubed'] = data['miles']**3"
   ]
  },
  {
   "cell_type": "code",
   "execution_count": 3,
   "metadata": {},
   "outputs": [
    {
     "name": "stderr",
     "output_type": "stream",
     "text": [
      "/home/erichschulman/anaconda3/lib/python3.7/site-packages/numpy/core/fromnumeric.py:2389: FutureWarning: Method .ptp is deprecated and will be removed in a future version. Use numpy.ptp instead.\n",
      "  return ptp(axis=axis, out=out, **kwargs)\n"
     ]
    }
   ],
   "source": [
    "test = data.copy()\n",
    "test = sm.add_constant(test)\n",
    "test['future_replace'] = data.groupby('id')['replace'].shift(-1)\n",
    "test['future_miles'] = data.groupby('id')['miles'].shift(-1)\n",
    "test['past_miles'] =  data.groupby('id')['miles'].shift(1)\n",
    "test['future_miles_sq'] = test['future_miles']*test['future_miles']\n",
    "test = test.dropna()\n",
    "\n",
    "test = test.sort_values(['id','day'])"
   ]
  },
  {
   "cell_type": "code",
   "execution_count": 4,
   "metadata": {},
   "outputs": [
    {
     "name": "stdout",
     "output_type": "stream",
     "text": [
      "Optimization terminated successfully.\n",
      "         Current function value: 0.037755\n",
      "         Iterations 10\n",
      "                           Logit Regression Results                           \n",
      "==============================================================================\n",
      "Dep. Variable:                replace   No. Observations:                 8052\n",
      "Model:                          Logit   Df Residuals:                     8050\n",
      "Method:                           MLE   Df Model:                            1\n",
      "Date:                Thu, 07 Nov 2019   Pseudo R-squ.:                  0.1406\n",
      "Time:                        14:31:54   Log-Likelihood:                -304.01\n",
      "converged:                       True   LL-Null:                       -353.74\n",
      "                                        LLR p-value:                 2.000e-23\n",
      "==============================================================================\n",
      "                 coef    std err          z      P>|z|      [0.025      0.975]\n",
      "------------------------------------------------------------------------------\n",
      "const         -7.4388      0.384    -19.349      0.000      -8.192      -6.685\n",
      "miles         14.4029      1.551      9.289      0.000      11.364      17.442\n",
      "==============================================================================\n"
     ]
    }
   ],
   "source": [
    "logit0 = sm.Logit( test['replace'], test[['const','miles']] ).fit()\n",
    "print(logit0.summary())"
   ]
  },
  {
   "cell_type": "code",
   "execution_count": 5,
   "metadata": {},
   "outputs": [
    {
     "name": "stdout",
     "output_type": "stream",
     "text": [
      "Optimization terminated successfully.\n",
      "         Current function value: 0.036971\n",
      "         Iterations 12\n",
      "                           Logit Regression Results                           \n",
      "==============================================================================\n",
      "Dep. Variable:                replace   No. Observations:                 8052\n",
      "Model:                          Logit   Df Residuals:                     8049\n",
      "Method:                           MLE   Df Model:                            2\n",
      "Date:                Thu, 07 Nov 2019   Pseudo R-squ.:                  0.1584\n",
      "Time:                        14:31:54   Log-Likelihood:                -297.69\n",
      "converged:                       True   LL-Null:                       -353.74\n",
      "                                        LLR p-value:                 4.557e-25\n",
      "==============================================================================\n",
      "                 coef    std err          z      P>|z|      [0.025      0.975]\n",
      "------------------------------------------------------------------------------\n",
      "const        -10.5703      1.269     -8.327      0.000     -13.058      -8.082\n",
      "miles         46.7290     11.346      4.118      0.000      24.491      68.967\n",
      "miles_sq     -73.9152     24.712     -2.991      0.003    -122.349     -25.481\n",
      "==============================================================================\n",
      "\n",
      "Possibly complete quasi-separation: A fraction 0.16 of observations can be\n",
      "perfectly predicted. This might indicate that there is complete\n",
      "quasi-separation. In this case some parameters will not be identified.\n"
     ]
    }
   ],
   "source": [
    "logit1 = sm.Logit( test['replace'], test[['const','miles','miles_sq']] ).fit()\n",
    "print(logit1.summary())"
   ]
  },
  {
   "cell_type": "code",
   "execution_count": 6,
   "metadata": {},
   "outputs": [
    {
     "name": "stdout",
     "output_type": "stream",
     "text": [
      "                            OLS Regression Results                            \n",
      "==============================================================================\n",
      "Dep. Variable:                  miles   R-squared:                       0.673\n",
      "Model:                            OLS   Adj. R-squared:                  0.673\n",
      "Method:                 Least Squares   F-statistic:                 1.656e+04\n",
      "Date:                Thu, 07 Nov 2019   Prob (F-statistic):               0.00\n",
      "Time:                        14:31:55   Log-Likelihood:                 8543.3\n",
      "No. Observations:                8052   AIC:                        -1.708e+04\n",
      "Df Residuals:                    8051   BIC:                        -1.708e+04\n",
      "Df Model:                           1                                         \n",
      "Covariance Type:            nonrobust                                         \n",
      "==============================================================================\n",
      "                 coef    std err          t      P>|t|      [0.025      0.975]\n",
      "------------------------------------------------------------------------------\n",
      "trend          0.0022   1.72e-05    128.685      0.000       0.002       0.002\n",
      "==============================================================================\n",
      "Omnibus:                     1164.956   Durbin-Watson:                   0.087\n",
      "Prob(Omnibus):                  0.000   Jarque-Bera (JB):             1729.702\n",
      "Skew:                          -1.109   Prob(JB):                         0.00\n",
      "Kurtosis:                       3.490   Cond. No.                         1.00\n",
      "==============================================================================\n",
      "\n",
      "Warnings:\n",
      "[1] Standard Errors assume that the covariance matrix of the errors is correctly specified.\n"
     ]
    }
   ],
   "source": [
    "#add a trend\n",
    "test['trend'] = np.zeros(test.shape[0])\n",
    "values = test.groupby(['id']).count()['const']\n",
    "for ids in test['id'].unique():\n",
    "    trend = np.arange(values[ids])\n",
    "    test.loc[test['id']==ids,'trend'] = trend\n",
    "\n",
    "predictors = np.array( [test['trend']*test['replace'], test['trend']*(1-test['replace'])] )\n",
    "predictors = predictors.transpose()\n",
    "miles_ols = sm.OLS(test['miles'],test['trend']).fit()\n",
    "print(miles_ols.summary())"
   ]
  },
  {
   "cell_type": "code",
   "execution_count": 10,
   "metadata": {
    "scrolled": false
   },
   "outputs": [
    {
     "name": "stdout",
     "output_type": "stream",
     "text": [
      "3932    0.203348\n",
      "3933    0.200161\n",
      "3934    0.196606\n",
      "3935    0.192804\n",
      "3936    0.189466\n",
      "3937    0.186267\n",
      "3938    0.183468\n",
      "3939    0.180457\n",
      "3940    0.177183\n",
      "3941    0.174115\n",
      "dtype: float64\n",
      "----\n",
      "3932    0.006299\n",
      "3933    0.010479\n",
      "3934    0.015201\n",
      "3935    0.020326\n",
      "3936    0.024898\n",
      "3937    0.029349\n",
      "3938    0.033304\n",
      "3939    0.037631\n",
      "3940    0.042428\n",
      "3941    0.047023\n",
      "Name: miles, dtype: float64\n",
      "----\n",
      "3910    0.197763\n",
      "3911    0.194823\n",
      "3912    0.192184\n",
      "3913    0.189359\n",
      "3914    0.186622\n",
      "3915    0.184101\n",
      "3916    0.181720\n",
      "3917    0.179476\n",
      "3918    0.176314\n",
      "3919    0.173250\n",
      "3920    0.170025\n",
      "3921    0.167752\n",
      "3922    0.164380\n",
      "3923    0.161802\n",
      "3924    0.159811\n",
      "3925    0.157167\n",
      "3926    0.155037\n",
      "3927    0.153587\n",
      "3928    0.151571\n",
      "dtype: float64\n",
      "----\n",
      "3910    0.013657\n",
      "3911    0.017594\n",
      "3912    0.021170\n",
      "3913    0.025046\n",
      "3914    0.028851\n",
      "3915    0.032405\n",
      "3916    0.035806\n",
      "3917    0.039057\n",
      "3918    0.043719\n",
      "3919    0.048338\n",
      "3920    0.053325\n",
      "3921    0.056927\n",
      "3922    0.062426\n",
      "3923    0.066774\n",
      "3924    0.070233\n",
      "3925    0.074987\n",
      "3926    0.078971\n",
      "3927    0.081774\n",
      "3928    0.085819\n",
      "Name: miles, dtype: float64\n"
     ]
    }
   ],
   "source": [
    "#note we have normalized V0 = 0, this works because of the renewal process?\n",
    "V1 = -(1-test['replace'])*(logit1.params*test[['const','miles','miles_sq']]).sum(axis=1)\n",
    "\n",
    "#roughly predict v next period\n",
    "predicted_miles = (miles_ols.params['trend'] + test['miles'])*(1-test['replace'])\n",
    "predicted_miles = np.array([test['const'], predicted_miles, predicted_miles*predicted_miles]).transpose()\n",
    "predicted_miles = pd.DataFrame(predicted_miles , columns =['const','miles','miles_sq'], index=test.index  )\n",
    "\n",
    "EV1 = -(logit1.params*predicted_miles).sum(axis=1)\n",
    "choice_pr = np.exp(EV1)/(1+np.exp(EV1))\n",
    "\n",
    "U =  V1 - .99*EV1"
   ]
  },
  {
   "cell_type": "code",
   "execution_count": 12,
   "metadata": {},
   "outputs": [
    {
     "data": {
      "text/html": [
       "<table class=\"simpletable\">\n",
       "<caption>OLS Regression Results</caption>\n",
       "<tr>\n",
       "  <th>Dep. Variable:</th>            <td>y</td>        <th>  R-squared:         </th>  <td>   1.000</td> \n",
       "</tr>\n",
       "<tr>\n",
       "  <th>Model:</th>                   <td>OLS</td>       <th>  Adj. R-squared:    </th>  <td>   1.000</td> \n",
       "</tr>\n",
       "<tr>\n",
       "  <th>Method:</th>             <td>Least Squares</td>  <th>  F-statistic:       </th>  <td>1.301e+07</td>\n",
       "</tr>\n",
       "<tr>\n",
       "  <th>Date:</th>             <td>Thu, 07 Nov 2019</td> <th>  Prob (F-statistic):</th>   <td>  0.00</td>  \n",
       "</tr>\n",
       "<tr>\n",
       "  <th>Time:</th>                 <td>14:34:06</td>     <th>  Log-Likelihood:    </th>  <td>  21835.</td> \n",
       "</tr>\n",
       "<tr>\n",
       "  <th>No. Observations:</th>      <td>  8052</td>      <th>  AIC:               </th> <td>-4.366e+04</td>\n",
       "</tr>\n",
       "<tr>\n",
       "  <th>Df Residuals:</th>          <td>  8049</td>      <th>  BIC:               </th> <td>-4.364e+04</td>\n",
       "</tr>\n",
       "<tr>\n",
       "  <th>Df Model:</th>              <td>     2</td>      <th>                     </th>      <td> </td>    \n",
       "</tr>\n",
       "<tr>\n",
       "  <th>Covariance Type:</th>      <td>nonrobust</td>    <th>                     </th>      <td> </td>    \n",
       "</tr>\n",
       "</table>\n",
       "<table class=\"simpletable\">\n",
       "<tr>\n",
       "    <td></td>       <th>coef</th>     <th>std err</th>      <th>t</th>      <th>P>|t|</th>  <th>[0.025</th>    <th>0.975]</th>  \n",
       "</tr>\n",
       "<tr>\n",
       "  <th>const</th> <td>    0.1772</td> <td>    0.000</td> <td>  570.307</td> <td> 0.000</td> <td>    0.177</td> <td>    0.178</td>\n",
       "</tr>\n",
       "<tr>\n",
       "  <th>x1</th>    <td>  -10.6416</td> <td>    0.002</td> <td>-5071.522</td> <td> 0.000</td> <td>  -10.646</td> <td>  -10.637</td>\n",
       "</tr>\n",
       "<tr>\n",
       "  <th>x2</th>    <td>   -0.1534</td> <td>    0.002</td> <td>  -71.791</td> <td> 0.000</td> <td>   -0.158</td> <td>   -0.149</td>\n",
       "</tr>\n",
       "</table>\n",
       "<table class=\"simpletable\">\n",
       "<tr>\n",
       "  <th>Omnibus:</th>       <td>8376.851</td> <th>  Durbin-Watson:     </th> <td>   0.091</td> \n",
       "</tr>\n",
       "<tr>\n",
       "  <th>Prob(Omnibus):</th>  <td> 0.000</td>  <th>  Jarque-Bera (JB):  </th> <td> 633.069</td> \n",
       "</tr>\n",
       "<tr>\n",
       "  <th>Skew:</th>           <td> 0.318</td>  <th>  Prob(JB):          </th> <td>3.39e-138</td>\n",
       "</tr>\n",
       "<tr>\n",
       "  <th>Kurtosis:</th>       <td> 1.782</td>  <th>  Cond. No.          </th> <td>    12.7</td> \n",
       "</tr>\n",
       "</table><br/><br/>Warnings:<br/>[1] Standard Errors assume that the covariance matrix of the errors is correctly specified."
      ],
      "text/plain": [
       "<class 'statsmodels.iolib.summary.Summary'>\n",
       "\"\"\"\n",
       "                            OLS Regression Results                            \n",
       "==============================================================================\n",
       "Dep. Variable:                      y   R-squared:                       1.000\n",
       "Model:                            OLS   Adj. R-squared:                  1.000\n",
       "Method:                 Least Squares   F-statistic:                 1.301e+07\n",
       "Date:                Thu, 07 Nov 2019   Prob (F-statistic):               0.00\n",
       "Time:                        14:34:06   Log-Likelihood:                 21835.\n",
       "No. Observations:                8052   AIC:                        -4.366e+04\n",
       "Df Residuals:                    8049   BIC:                        -4.364e+04\n",
       "Df Model:                           2                                         \n",
       "Covariance Type:            nonrobust                                         \n",
       "==============================================================================\n",
       "                 coef    std err          t      P>|t|      [0.025      0.975]\n",
       "------------------------------------------------------------------------------\n",
       "const          0.1772      0.000    570.307      0.000       0.177       0.178\n",
       "x1           -10.6416      0.002  -5071.522      0.000     -10.646     -10.637\n",
       "x2            -0.1534      0.002    -71.791      0.000      -0.158      -0.149\n",
       "==============================================================================\n",
       "Omnibus:                     8376.851   Durbin-Watson:                   0.091\n",
       "Prob(Omnibus):                  0.000   Jarque-Bera (JB):              633.069\n",
       "Skew:                           0.318   Prob(JB):                    3.39e-138\n",
       "Kurtosis:                       1.782   Cond. No.                         12.7\n",
       "==============================================================================\n",
       "\n",
       "Warnings:\n",
       "[1] Standard Errors assume that the covariance matrix of the errors is correctly specified.\n",
       "\"\"\""
      ]
     },
     "execution_count": 12,
     "metadata": {},
     "output_type": "execute_result"
    }
   ],
   "source": [
    "exog = np.array([ test['const'], test['replace'], test['miles']*(1-test['replace'])])\n",
    "sm.OLS(U, exog.transpose()).fit().summary()"
   ]
  },
  {
   "cell_type": "code",
   "execution_count": null,
   "metadata": {},
   "outputs": [],
   "source": []
  }
 ],
 "metadata": {
  "kernelspec": {
   "display_name": "Python 3",
   "language": "python",
   "name": "python3"
  },
  "language_info": {
   "codemirror_mode": {
    "name": "ipython",
    "version": 3
   },
   "file_extension": ".py",
   "mimetype": "text/x-python",
   "name": "python",
   "nbconvert_exporter": "python",
   "pygments_lexer": "ipython3",
   "version": "3.7.3"
  }
 },
 "nbformat": 4,
 "nbformat_minor": 2
}
