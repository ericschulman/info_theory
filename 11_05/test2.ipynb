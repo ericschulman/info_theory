{
 "cells": [
  {
   "cell_type": "code",
   "execution_count": 1,
   "metadata": {},
   "outputs": [],
   "source": [
    "import pandas as pd\n",
    "import math\n",
    "import numpy as np\n",
    "import statsmodels.api as sm\n",
    "import matplotlib.pyplot as plt\n",
    "from statsmodels.sandbox.regression.gmm import GMM\n",
    "from datetime import datetime"
   ]
  },
  {
   "cell_type": "code",
   "execution_count": 2,
   "metadata": {},
   "outputs": [
    {
     "name": "stdout",
     "output_type": "stream",
     "text": [
      "Index(['Unnamed: 0', 'id', 'group', 'year', 'month', 'replace', 'miles',\n",
      "       'day'],\n",
      "      dtype='object')\n"
     ]
    }
   ],
   "source": [
    "data = pd.read_csv('bus1234.csv')\n",
    "data['day'] = 1\n",
    "data['day'] = pd.to_datetime(data[['year','month','day']])\n",
    "data['miles'] =data['miles']/1e6\n",
    "\n",
    "print(data.columns)"
   ]
  },
  {
   "cell_type": "code",
   "execution_count": 9,
   "metadata": {},
   "outputs": [
    {
     "name": "stdout",
     "output_type": "stream",
     "text": [
      "0.11721886920407547\n"
     ]
    }
   ],
   "source": [
    "#from statsmodels.tsa.arima_model import ARMA\n",
    "\n",
    "#create ID dummies\n",
    "#different lines for each\n",
    "\n",
    "#model = ARMA(data, order=(0, 1))\n",
    "#model_fit = model.fit(disp=False)\n",
    "\n",
    "\n",
    "\n",
    "print( ((data['miles']*data['replace']).mean() - data['miles'].mean()*data['replace'].mean())/\n",
    "      data['miles'].var() )\n",
    "\n"
   ]
  },
  {
   "cell_type": "code",
   "execution_count": 12,
   "metadata": {},
   "outputs": [
    {
     "name": "stdout",
     "output_type": "stream",
     "text": [
      "Optimization terminated successfully.\n",
      "         Current function value: 0.000000\n",
      "         Iterations: 52\n",
      "         Function evaluations: 103\n",
      "Optimization terminated successfully.\n",
      "         Current function value: 0.000253\n",
      "         Iterations: 22\n",
      "         Function evaluations: 43\n",
      "Optimization terminated successfully.\n",
      "         Current function value: 0.000253\n",
      "         Iterations: 20\n",
      "         Function evaluations: 41\n",
      "Optimization terminated successfully.\n",
      "         Current function value: 0.000253\n",
      "         Iterations: 20\n",
      "         Function evaluations: 41\n"
     ]
    },
    {
     "data": {
      "text/html": [
       "<table class=\"simpletable\">\n",
       "<caption>test Results</caption>\n",
       "<tr>\n",
       "  <th>Dep. Variable:</th>         <td>replace</td>     <th>  Hansen J:          </th> <td>  0.6545</td>\n",
       "</tr>\n",
       "<tr>\n",
       "  <th>Model:</th>                  <td>test</td>       <th>  Prob (Hansen J):   </th>  <td>  1.00</td> \n",
       "</tr>\n",
       "<tr>\n",
       "  <th>Method:</th>                  <td>GMM</td>       <th>                     </th>     <td> </td>   \n",
       "</tr>\n",
       "<tr>\n",
       "  <th>Date:</th>             <td>Tue, 05 Nov 2019</td> <th>                     </th>     <td> </td>   \n",
       "</tr>\n",
       "<tr>\n",
       "  <th>Time:</th>                 <td>11:39:23</td>     <th>                     </th>     <td> </td>   \n",
       "</tr>\n",
       "<tr>\n",
       "  <th>No. Observations:</th>      <td>  8260</td>      <th>                     </th>     <td> </td>   \n",
       "</tr>\n",
       "</table>\n",
       "<table class=\"simpletable\">\n",
       "<tr>\n",
       "   <td></td>      <th>coef</th>     <th>std err</th>      <th>z</th>      <th>P>|z|</th>  <th>[0.025</th>    <th>0.975]</th>  \n",
       "</tr>\n",
       "<tr>\n",
       "  <th>p 0</th> <td>    0.0352</td> <td>    0.003</td> <td>   11.071</td> <td> 0.000</td> <td>    0.029</td> <td>    0.041</td>\n",
       "</tr>\n",
       "<tr>\n",
       "  <th>p 1</th> <td>   -0.9523</td> <td>    0.050</td> <td>  -19.179</td> <td> 0.000</td> <td>   -1.050</td> <td>   -0.855</td>\n",
       "</tr>\n",
       "</table>"
      ],
      "text/plain": [
       "<class 'statsmodels.iolib.summary.Summary'>\n",
       "\"\"\"\n",
       "                                 test Results                                 \n",
       "==============================================================================\n",
       "Dep. Variable:                replace   Hansen J:                       0.6545\n",
       "Model:                           test   Prob (Hansen J):                  1.00\n",
       "Method:                           GMM                                         \n",
       "Date:                Tue, 05 Nov 2019                                         \n",
       "Time:                        11:39:23                                         \n",
       "No. Observations:                8260                                         \n",
       "==============================================================================\n",
       "                 coef    std err          z      P>|z|      [0.025      0.975]\n",
       "------------------------------------------------------------------------------\n",
       "p 0            0.0352      0.003     11.071      0.000       0.029       0.041\n",
       "p 1           -0.9523      0.050    -19.179      0.000      -1.050      -0.855\n",
       "==============================================================================\n",
       "\"\"\""
      ]
     },
     "execution_count": 12,
     "metadata": {},
     "output_type": "execute_result"
    }
   ],
   "source": [
    "class test(GMM):\n",
    "    \n",
    "    def __init__(self,*args, shift=50, gap=1, nmoms=10, **kwds, ):\n",
    "        # set appropriate counts for moment conditions and parameters\n",
    "        kwds.setdefault('k_moms', nmoms)\n",
    "        kwds.setdefault('k_params',2)\n",
    "        self.shift = shift\n",
    "        self.gap = gap\n",
    "        super(test, self).__init__(*args, **kwds)\n",
    "        \n",
    "        \n",
    "    def momcond(self, params):\n",
    "        \n",
    "        data = self.instrument.copy()\n",
    "        data['shock'] =  data['replace']*data['shock'] - 1*(data['replace']==0)*data['shock']\n",
    "        data['miles'] = data['miles']\n",
    "        data['util'] = params[0]*data['miles']*(1-data['replace']) + params[1]*data['replace']\n",
    "        data['util_shock'] = data['shock'] + data['util']\n",
    "        u_avg = data['util'].mean()\n",
    "        \n",
    "        moms = []\n",
    "        for t in range(1,self.nmoms+1):\n",
    "            #lag but loop around\n",
    "            u_lag = data.groupby('id')['util'].shift(t*self.gap+self.shift)\n",
    "            moms.append(data['util_shock']*u_lag - u_avg**2)\n",
    "        moms = pd.DataFrame(np.array(moms).transpose())\n",
    "        moms = moms.dropna()\n",
    "        return moms\n",
    "    \n",
    "data['shock'] = sm.OLS(data['replace'], sm.add_constant( data['miles'] ) ).fit().resid\n",
    "#data['shock'] = sm.Logit(data['replace'], sm.add_constant( data['miles']/1e6 ) ).fit().resid_response\n",
    "\n",
    "data = data.sort_values(['id','day'])  \n",
    "model = test(data['replace'],data['miles'],data[['id','miles','replace','day','shock']], shift=50)\n",
    "result = model.fit(np.array([-.5,-10]),optim_method='nm')\n",
    "result.summary()"
   ]
  },
  {
   "cell_type": "code",
   "execution_count": 7,
   "metadata": {},
   "outputs": [
    {
     "name": "stdout",
     "output_type": "stream",
     "text": [
      "Optimization terminated successfully.\n",
      "         Current function value: 0.000000\n",
      "         Iterations: 65\n",
      "         Function evaluations: 126\n",
      "Optimization terminated successfully.\n",
      "         Current function value: 0.000550\n",
      "         Iterations: 11\n",
      "         Function evaluations: 22\n",
      "Optimization terminated successfully.\n",
      "         Current function value: 0.000269\n",
      "         Iterations: 8\n",
      "         Function evaluations: 16\n",
      "Optimization terminated successfully.\n",
      "         Current function value: 0.000020\n",
      "         Iterations: 16\n",
      "         Function evaluations: 29\n",
      "Optimization terminated successfully.\n",
      "         Current function value: 0.000130\n",
      "         Iterations: 9\n",
      "         Function evaluations: 18\n"
     ]
    },
    {
     "data": {
      "text/html": [
       "<table class=\"simpletable\">\n",
       "<caption>test Results</caption>\n",
       "<tr>\n",
       "  <th>Dep. Variable:</th>         <td>replace</td>     <th>  Hansen J:          </th> <td>  0.1125</td>\n",
       "</tr>\n",
       "<tr>\n",
       "  <th>Model:</th>                  <td>test</td>       <th>  Prob (Hansen J):   </th>  <td> 0.737</td> \n",
       "</tr>\n",
       "<tr>\n",
       "  <th>Method:</th>                  <td>GMM</td>       <th>                     </th>     <td> </td>   \n",
       "</tr>\n",
       "<tr>\n",
       "  <th>Date:</th>             <td>Tue, 05 Nov 2019</td> <th>                     </th>     <td> </td>   \n",
       "</tr>\n",
       "<tr>\n",
       "  <th>Time:</th>                 <td>09:03:25</td>     <th>                     </th>     <td> </td>   \n",
       "</tr>\n",
       "<tr>\n",
       "  <th>No. Observations:</th>      <td>  1000</td>      <th>                     </th>     <td> </td>   \n",
       "</tr>\n",
       "</table>\n",
       "<table class=\"simpletable\">\n",
       "<tr>\n",
       "   <td></td>      <th>coef</th>     <th>std err</th>      <th>z</th>      <th>P>|z|</th>  <th>[0.025</th>    <th>0.975]</th>  \n",
       "</tr>\n",
       "<tr>\n",
       "  <th>p 0</th> <td> 2.154e-09</td> <td> 1.75e-09</td> <td>    1.233</td> <td> 0.218</td> <td>-1.27e-09</td> <td> 5.58e-09</td>\n",
       "</tr>\n",
       "<tr>\n",
       "  <th>p 1</th> <td>-3.292e-08</td> <td>  2.8e-08</td> <td>   -1.176</td> <td> 0.239</td> <td>-8.78e-08</td> <td> 2.19e-08</td>\n",
       "</tr>\n",
       "</table>"
      ],
      "text/plain": [
       "<class 'statsmodels.iolib.summary.Summary'>\n",
       "\"\"\"\n",
       "                                 test Results                                 \n",
       "==============================================================================\n",
       "Dep. Variable:                replace   Hansen J:                       0.1125\n",
       "Model:                           test   Prob (Hansen J):                 0.737\n",
       "Method:                           GMM                                         \n",
       "Date:                Tue, 05 Nov 2019                                         \n",
       "Time:                        09:03:25                                         \n",
       "No. Observations:                1000                                         \n",
       "==============================================================================\n",
       "                 coef    std err          z      P>|z|      [0.025      0.975]\n",
       "------------------------------------------------------------------------------\n",
       "p 0         2.154e-09   1.75e-09      1.233      0.218   -1.27e-09    5.58e-09\n",
       "p 1        -3.292e-08    2.8e-08     -1.176      0.239   -8.78e-08    2.19e-08\n",
       "==============================================================================\n",
       "\"\"\""
      ]
     },
     "execution_count": 7,
     "metadata": {},
     "output_type": "execute_result"
    }
   ],
   "source": [
    "N = 1000\n",
    "ids = np.ones(N)\n",
    "xs = np.zeros(N)\n",
    "ys = np.zeros(N)\n",
    "RC = -10\n",
    "theta = -1\n",
    "\n",
    "\n",
    "\n",
    "for i in range(1,N):\n",
    "\n",
    "    ys[i] = (RC >= theta*xs[i-1] + np.random.uniform(-2,2) )\n",
    "    \n",
    "    if ys[i] == 0:\n",
    "        xs[i] = xs[i-1] + np.random.uniform(0,1)\n",
    "    if ys[i]==1:\n",
    "        xs[i] = np.random.uniform(0,2)\n",
    "\n",
    "\n",
    "        \n",
    "data2 = pd.DataFrame( np.array([ids,xs,ys]).transpose(), columns=['id','miles','replace'])    \n",
    "data2['shock'] = sm.OLS(data2['replace'], sm.add_constant( data2['miles'] ) ).fit().resid\n",
    "#data['shock'] = sm.Logit(data['replace'], sm.add_constant( data['miles']/1e6 ) ).fit().resid_response\n",
    "model = test(data2['replace'],data2['miles'],data2[['id','miles','replace','shock']] ,\n",
    "             shift=100,gap=11,nmoms=3)\n",
    "result = model.fit(np.array([-10,-2]),optim_method='nm')\n",
    "result.summary()"
   ]
  },
  {
   "cell_type": "code",
   "execution_count": null,
   "metadata": {},
   "outputs": [],
   "source": []
  }
 ],
 "metadata": {
  "kernelspec": {
   "display_name": "Python 3",
   "language": "python",
   "name": "python3"
  },
  "language_info": {
   "codemirror_mode": {
    "name": "ipython",
    "version": 3
   },
   "file_extension": ".py",
   "mimetype": "text/x-python",
   "name": "python",
   "nbconvert_exporter": "python",
   "pygments_lexer": "ipython3",
   "version": "3.7.3"
  }
 },
 "nbformat": 4,
 "nbformat_minor": 2
}
