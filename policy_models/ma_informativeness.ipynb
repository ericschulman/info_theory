{
 "cells": [
  {
   "cell_type": "code",
   "execution_count": 2,
   "id": "8c4db933",
   "metadata": {},
   "outputs": [],
   "source": [
    "import numpy as np\n",
    "import pandas as pd"
   ]
  },
  {
   "cell_type": "code",
   "execution_count": 3,
   "id": "7812147c",
   "metadata": {},
   "outputs": [],
   "source": [
    "forecasts = np.genfromtxt('ma_predictions.csv', delimiter=',')\n",
    "\n",
    "#one year ahead informativeness\n",
    "window = np.flip(forecasts,axis=0)\n",
    "window = window[0:-3,1:]"
   ]
  },
  {
   "cell_type": "code",
   "execution_count": 16,
   "id": "6ca84b7c",
   "metadata": {},
   "outputs": [
    {
     "name": "stdout",
     "output_type": "stream",
     "text": [
      "[123. 145. 156. 170. 200. 206. 210. 264.] 1754.6875\n",
      "[122.1 145.  156.  172.  198.  207.  210.  254. ] 1571.72609375\n",
      "[127.9 174.1 155.4  89.3  97.1 124.4 161.  212. ] 1471.1825\n",
      "1893.8392857142858 606.2607142857142 1796.2583928571428 2005.3571428571427\n",
      "0.4602427341453237\n",
      "---\n",
      "[131.9 123.  145.  156.  170.  200.  206.  210.  264. ] 1830.391111111111\n",
      "[129.1 122.1 145.  156.  172.  198.  207.  210.  254. ] 1684.1572839506173\n",
      "[139.9 145.8 142.3  99.7 100.4 140.9 164.  178.  245. ] 1694.7777777777776\n",
      "1970.7004166666666 1341.6045833333333 1894.6769444444444 2059.19\n",
      "0.1014383150217059\n",
      "---\n",
      "[ 92.8 109.  115.  131.9 123.  145.  156.  170.  200.  206.  210.  264. ] 2389.4035416666666\n",
      "[ 94.1 110.2 116.2 129.1 122.1 145.  156.  172.  198.  207.  210.  254. ] 2208.6002083333333\n",
      "[ 90.8 112.8 122.1 122.4 114.6 140.  154.  164.  204.  204.  207.  250. ] 2205.2307638888888\n",
      "2502.753409090909 2396.122954545455 2409.3820454545453 2606.6220454545455\n",
      "0.0018104177018181222\n",
      "---\n"
     ]
    }
   ],
   "source": [
    "def inform3(y,y1,y2):\n",
    "    cov = np.cov( [y,y1,y2] )\n",
    "    print(cov[0,2],cov[1,2],cov[2,2],cov[0,0])\n",
    "    return (cov[0,2] - cov[1,2])**2/cov[2,2]/cov[0,0]\n",
    "\n",
    "#5 year ahead informativeness\n",
    "def inform3_window(year):\n",
    "    window = np.flip(forecasts,axis=0)\n",
    "    window = window[0:-3,1:]\n",
    "    y0 = np.diagonal(window)[year:]\n",
    "    print(y0,y0.var())\n",
    "    y1 = np.diagonal(window,offset=1)[year-1:-1]\n",
    "    print(y1,y1.var())\n",
    "    y2 = np.diagonal(window,offset=year)[:-year]\n",
    "    print(y2,y2.var())\n",
    "    print(inform3(y0,y2,y1))\n",
    "    return y0,y1,y2\n",
    "\n",
    "\n",
    "inform3_window(6)\n",
    "print('---')\n",
    "inform3_window(5)\n",
    "print('---')\n",
    "inform3_window(2)\n",
    "print('---')\n",
    "\n",
    "#probably need to detrend? or first difference or something?"
   ]
  },
  {
   "cell_type": "code",
   "execution_count": 10,
   "id": "67849225",
   "metadata": {},
   "outputs": [
    {
     "data": {
      "text/plain": [
       "0.1031301682550633"
      ]
     },
     "execution_count": 10,
     "metadata": {},
     "output_type": "execute_result"
    }
   ],
   "source": [
    "inform3([123.,145.,156.,170.,200.,206.,210.,264.],[145.8,142.3,99.7,100.4,140.9,164.,178.,245.],\n",
    "        [127.9,174.1,155.4,89.3,97.1,124.4,161.,212.])"
   ]
  },
  {
   "cell_type": "code",
   "execution_count": 15,
   "id": "b8d61089",
   "metadata": {},
   "outputs": [
    {
     "data": {
      "text/plain": [
       "0.05460415107227144"
      ]
     },
     "execution_count": 15,
     "metadata": {},
     "output_type": "execute_result"
    }
   ],
   "source": [
    " inform3([131.9,123.,145.,156.,170.,200.,206.,210.,264.],\n",
    "[139.9,145.8,142.3,99.7,100.4,140.9,164.,178.,245.],\n",
    "        [129.1,122.1,145.,156.,172.,198.,207.,210.,254.])\n",
    "\n",
    "inform3([123.,145.,156.,170.,200.,206.,210.,264.],\n",
    "[145.8,142.3,99.7,100.4,140.9,164.,178.,245.],\n",
    "        [122.1,145.,156.,172.,198.,207.,210.,254.])"
   ]
  },
  {
   "cell_type": "code",
   "execution_count": null,
   "id": "87b35489",
   "metadata": {},
   "outputs": [],
   "source": [
    "\n",
    "forecasts = np.genfromtxt('ma_predictions.csv', delimiter=',')\n",
    "\n",
    "#report 1 year ahead informativeness... from 2008, 2009... etc\n",
    "for report in range(2007,2021):\n",
    "    index = report-2007\n",
    "    window = forecasts[forecasts.shape[0] - index - 11: forecasts.shape[0] - index,index+1:index+11+1]\n",
    "    window = np.flip(window,axis=0)\n",
    "    print(window)\n",
    "    y0 = np.diagonal(window)\n",
    "    print(y0)\n",
    "    y1 = np.diagonal(window)\n",
    "    y2 = []\n",
    "    break"
   ]
  }
 ],
 "metadata": {
  "kernelspec": {
   "display_name": "Python 3 (ipykernel)",
   "language": "python",
   "name": "python3"
  },
  "language_info": {
   "codemirror_mode": {
    "name": "ipython",
    "version": 3
   },
   "file_extension": ".py",
   "mimetype": "text/x-python",
   "name": "python",
   "nbconvert_exporter": "python",
   "pygments_lexer": "ipython3",
   "version": "3.9.7"
  }
 },
 "nbformat": 4,
 "nbformat_minor": 5
}
