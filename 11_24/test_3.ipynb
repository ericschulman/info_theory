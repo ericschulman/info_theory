{
 "cells": [
  {
   "cell_type": "code",
   "execution_count": 51,
   "metadata": {},
   "outputs": [
    {
     "data": {
      "text/plain": [
       "Dict{Any,Any} with 32 entries:\n",
       "  \"(4.3, 3.3, 3.3),(3.0, 4.0)\" => (11, 0)\n",
       "  \"(3.3, 3.3, 4.3),(3.0, 3.0)\" => (12, 0)\n",
       "  \"(4.3, 3.3, 3.3),(4.0, 3.0)\" => (10, 0)\n",
       "  \"(3.3, 4.3, 4.3),(4.0, 4.0)\" => (11, 0)\n",
       "  \"(4.3, 3.3, 4.3),(4.0, 4.0)\" => (11, 0)\n",
       "  \"(4.3, 3.3, 4.3),(3.0, 3.0)\" => (10, 0)\n",
       "  \"(3.3, 3.3, 4.3),(4.0, 4.0)\" => (10, 0)\n",
       "  \"(4.3, 3.3, 4.3),(3.0, 4.0)\" => (10, 0)\n",
       "  \"(4.3, 4.3, 4.3),(4.0, 4.0)\" => (12, 0)\n",
       "  \"(3.3, 3.3, 4.3),(4.0, 3.0)\" => (11, 0)\n",
       "  \"(3.3, 3.3, 4.3),(3.0, 4.0)\" => (12, 0)\n",
       "  \"(3.3, 4.3, 3.3),(4.0, 4.0)\" => (12, 0)\n",
       "  \"(4.3, 4.3, 4.3),(3.0, 3.0)\" => (11, 0)\n",
       "  \"(4.3, 4.3, 3.3),(3.0, 3.0)\" => (12, 0)\n",
       "  \"(3.3, 3.3, 3.3),(4.0, 3.0)\" => (10, 0)\n",
       "  \"(3.3, 4.3, 4.3),(3.0, 3.0)\" => (11, 0)\n",
       "  \"(4.3, 3.3, 3.3),(4.0, 4.0)\" => (11, 0)\n",
       "  \"(4.3, 3.3, 3.3),(3.0, 3.0)\" => (10, 0)\n",
       "  \"(4.3, 4.3, 4.3),(4.0, 3.0)\" => (12, 0)\n",
       "  \"(4.3, 4.3, 3.3),(4.0, 4.0)\" => (12, 0)\n",
       "  \"(3.3, 4.3, 4.3),(3.0, 4.0)\" => (10, 0)\n",
       "  \"(3.3, 4.3, 3.3),(3.0, 3.0)\" => (11, 0)\n",
       "  \"(4.3, 4.3, 3.3),(4.0, 3.0)\" => (10, 0)\n",
       "  \"(4.3, 4.3, 3.3),(3.0, 4.0)\" => (10, 0)\n",
       "  \"(3.3, 4.3, 4.3),(4.0, 3.0)\" => (12, 0)\n",
       "  ⋮                            => ⋮"
      ]
     },
     "execution_count": 51,
     "metadata": {},
     "output_type": "execute_result"
    }
   ],
   "source": [
    "as = [3.3 , 4.3] #prices public info\n",
    "cs = [3.0,4.0] #costs, private info\n",
    "n= 2\n",
    "lag = 1\n",
    "#info set is lagged 1 period back,\n",
    "\n",
    "function init_Ws(as,cs,n,lag, W0)\n",
    "    Ws = Dict()\n",
    "    argumento=fill(as, n*lag + 1 )\n",
    "    cartesian_as=collect(Iterators.product(argumento...))\n",
    "    \n",
    "    argumento= fill(cs, lag + 1 )\n",
    "    cartesian_cs = collect(Iterators.product(argumento...))\n",
    "    for c=cartesian_cs\n",
    "        for a=cartesian_as\n",
    "                Ws[\"$(a),$(c)\"] = (rand(W0),0)\n",
    "        end\n",
    "    end\n",
    "    return Ws\n",
    "end\n",
    "\n",
    "W0 = init_Ws(as,cs,n,lag,[10,11,12])"
   ]
  },
  {
   "cell_type": "code",
   "execution_count": 52,
   "metadata": {},
   "outputs": [
    {
     "name": "stdout",
     "output_type": "stream",
     "text": [
      "getfield(Main, Symbol(\"#m#7\")){Dict{Any,Any}}(Dict{Any,Any}(\"(3.3, 3.3),(3.0, 4.0)\"=>4.3,\"(4.3, 4.3),(4.0, 4.0)\"=>4.3,\"(3.3, 4.3),(3.0, 3.0)\"=>3.3,\"(4.3, 4.3),(3.0, 3.0)\"=>4.3,\"(3.3, 3.3),(3.0, 3.0)\"=>3.3,\"(3.3, 3.3),(4.0, 3.0)\"=>4.3,\"(4.3, 4.3),(3.0, 4.0)\"=>4.3,\"(4.3, 3.3),(4.0, 3.0)\"=>3.3,\"(3.3, 4.3),(3.0, 4.0)\"=>3.3,\"(3.3, 4.3),(4.0, 3.0)\"=>4.3,\"(3.3, 4.3),(4.0, 4.0)\"=>4.3,\"(3.3, 3.3),(4.0, 4.0)\"=>4.3,\"(4.3, 4.3),(4.0, 3.0)\"=>4.3,\"(4.3, 3.3),(3.0, 4.0)\"=>4.3,\"(4.3, 3.3),(4.0, 4.0)\"=>4.3,\"(4.3, 3.3),(3.0, 3.0)\"=>4.3))"
     ]
    },
    {
     "data": {
      "text/plain": [
       "4.3"
      ]
     },
     "execution_count": 52,
     "metadata": {},
     "output_type": "execute_result"
    }
   ],
   "source": [
    "function update_m(as,cs,n,lag,Ws)\n",
    "    \n",
    "    argumento=fill(as, n*lag)\n",
    "    cartesian_as=collect(Iterators.product(argumento...))\n",
    "    argumento= fill(cs, lag + 1 )\n",
    "    cartesian_cs = collect(Iterators.product(argumento...))\n",
    "    \n",
    "    ms = Dict()\n",
    "    for other_a=cartesian_as\n",
    "        for c=cartesian_cs\n",
    "            for my_a=as\n",
    "                #println(\"my_a \", my_a)\n",
    "                #check if key is there initilize to my_a\n",
    "                if ! haskey(ms, \"$(other_a),$(c)\") \n",
    "                    ms[\"$(other_a),$(c)\"] = my_a\n",
    "                end\n",
    "                \n",
    "                current_pol = ms[\"$(other_a),$(c)\"]\n",
    "                current_state = Tuple(append!([current_pol],other_a ))\n",
    "                other_state = Tuple(append!([my_a],other_a))\n",
    "                \n",
    "                #if already there set to my a if greater\n",
    "                #println(my_a, \", \", current_state,\", \" ,other_state, \", \", Ws[\"$(current_state),$(c)\"], \", \",  Ws[\"$(other_state),$(c)\"] )\n",
    "                if Ws[\"$(current_state),$(c)\"][1] <= Ws[\"$(other_state),$(c)\"][1]\n",
    "                    ms[\"$(other_a),$(c)\"] = my_a\n",
    "                end\n",
    "            end\n",
    "        end\n",
    "    end\n",
    "    m(as,omegas) = ms[\"$(Tuple(as)),$(Tuple(omegas))\"]\n",
    "    return m\n",
    "end\n",
    "\n",
    "\n",
    "m0 = update_m(as,cs,n,lag,W0)\n",
    "print(m0)\n",
    "m0((4.3, 4.3),(3.,3.))"
   ]
  },
  {
   "cell_type": "code",
   "execution_count": 53,
   "metadata": {},
   "outputs": [
    {
     "data": {
      "text/plain": [
       "(Tuple{Float64,Float64}[(4.3, 4.3), (4.3, 4.3)], Tuple{Float64,Float64}[(4.0, 4.0), (4.0, 4.0)], 3)"
      ]
     },
     "execution_count": 53,
     "metadata": {},
     "output_type": "execute_result"
    }
   ],
   "source": [
    "#reset costs every 2 periods\n",
    "function update_private_info(m,current_as,current_cs,cs,n,lag,t)\n",
    "    next_cs = copy(current_cs)\n",
    "    \n",
    "    #update costs\n",
    "    for i=1:n\n",
    "        next_ci = collect(next_cs[i])\n",
    "        next_ci[1] =current_cs[i][1]\n",
    "        if mod(t,2) == 0\n",
    "            next_ci[1] = cs[rand(1:end)]\n",
    "        end\n",
    "\n",
    "        for s=0:(lag-1)\n",
    "            next_ci[end-s] = current_cs[i][end-s-1]\n",
    "        end\n",
    "        next_cs[i] = Tuple(next_ci)\n",
    "    end\n",
    "    return next_cs\n",
    "end\n",
    "\n",
    "\n",
    "function update_public_info(m,current_as,current_cs,cs,n,lag,t)\n",
    "    next_as = copy(current_as)\n",
    "    for i=1:n\n",
    "        next_asi = collect(next_as[i])\n",
    "        for j=0:(n-1)\n",
    "            next_asi[mod(j+i-1,n)+1] = m(current_as[i],current_cs[i])\n",
    "        end\n",
    "        next_as[i] = Tuple(next_asi)\n",
    "    end\n",
    "    return next_as\n",
    "end\n",
    "\n",
    "\n",
    "function update_info(m,current_as,current_cs,cs,n,lag,t)\n",
    "    next_cs = update_private_info(m,current_as,current_cs,cs,n,lag,t)\n",
    "    next_as = update_public_info(m,current_as,current_cs,cs,n,lag,t)\n",
    "    return next_as, next_cs, t+1\n",
    "end\n",
    "\n",
    "update_info(m0, [(4.3, 4.3),(4.3,4.3)],[(4.,4.),(4.,4.)],cs,n,lag,2)"
   ]
  },
  {
   "cell_type": "code",
   "execution_count": 55,
   "metadata": {},
   "outputs": [
    {
     "name": "stdout",
     "output_type": "stream",
     "text": [
      "[4.3, 4.3]\n",
      "[0.65438, 0.65438]\n",
      "weight 1: 1.0 0\n",
      "0\n",
      "weight 2: 0.5 1\n",
      "1\n"
     ]
    },
    {
     "data": {
      "text/plain": [
       "Dict{Any,Any} with 32 entries:\n",
       "  \"(4.3, 3.3, 3.3),(3.0, 4.0)\" => (12, 0)\n",
       "  \"(3.3, 3.3, 4.3),(3.0, 3.0)\" => (11, 0)\n",
       "  \"(4.3, 3.3, 3.3),(4.0, 3.0)\" => (12, 0)\n",
       "  \"(3.3, 4.3, 4.3),(4.0, 4.0)\" => (12, 0)\n",
       "  \"(4.3, 3.3, 4.3),(4.0, 4.0)\" => (10, 0)\n",
       "  \"(4.3, 3.3, 4.3),(3.0, 3.0)\" => (11, 0)\n",
       "  \"(3.3, 3.3, 4.3),(4.0, 4.0)\" => (11, 0)\n",
       "  \"(4.3, 3.3, 4.3),(3.0, 4.0)\" => (12, 0)\n",
       "  \"(4.3, 4.3, 4.3),(4.0, 4.0)\" => (10, 0)\n",
       "  \"(3.3, 3.3, 4.3),(4.0, 3.0)\" => (11, 0)\n",
       "  \"(3.3, 3.3, 4.3),(3.0, 4.0)\" => (12, 0)\n",
       "  \"(3.3, 4.3, 3.3),(4.0, 4.0)\" => (12, 0)\n",
       "  \"(4.3, 4.3, 4.3),(3.0, 3.0)\" => (0.65438, 2)\n",
       "  \"(4.3, 4.3, 3.3),(3.0, 3.0)\" => (11, 0)\n",
       "  \"(3.3, 3.3, 3.3),(4.0, 3.0)\" => (12, 0)\n",
       "  \"(3.3, 4.3, 4.3),(3.0, 3.0)\" => (11, 0)\n",
       "  \"(4.3, 3.3, 3.3),(4.0, 4.0)\" => (11, 0)\n",
       "  \"(4.3, 3.3, 3.3),(3.0, 3.0)\" => (12, 0)\n",
       "  \"(4.3, 4.3, 4.3),(4.0, 3.0)\" => (10, 0)\n",
       "  \"(4.3, 4.3, 3.3),(4.0, 4.0)\" => (12, 0)\n",
       "  \"(3.3, 4.3, 4.3),(3.0, 4.0)\" => (11, 0)\n",
       "  \"(3.3, 4.3, 3.3),(3.0, 3.0)\" => (11, 0)\n",
       "  \"(4.3, 4.3, 3.3),(4.0, 3.0)\" => (11, 0)\n",
       "  \"(4.3, 4.3, 3.3),(3.0, 4.0)\" => (10, 0)\n",
       "  \"(3.3, 4.3, 4.3),(4.0, 3.0)\" => (12, 0)\n",
       "  ⋮                            => ⋮"
      ]
     },
     "execution_count": 55,
     "metadata": {},
     "output_type": "execute_result"
    }
   ],
   "source": [
    "BETA = .9\n",
    "W0 = init_Ws(as,cs,n,lag,[10,11,12])\n",
    "\n",
    "function update_ws(m,current_as,current_cs, n, beta, Ws)\n",
    "    \n",
    "\n",
    "    profit = zeros(n)\n",
    "    policies = zeros(n)\n",
    "    \n",
    "    for i=1:n\n",
    "        policies[i] = m( current_as[i], current_cs[i] )\n",
    "    end\n",
    "    println(policies)\n",
    "    for i=1:n\n",
    "        share = 1 - exp(policies[i]) / ( 1+sum(exp.(policies) ))\n",
    "        state = Tuple( append!( [policies[i]],current_as[i] ) )\n",
    "        profit[i] = share*(policies[i] - current_cs[i][1]) + beta*Ws[\"$(state),$(current_cs[i])\"][1]\n",
    "    end\n",
    "    println(profit)\n",
    "    \n",
    "    for i=1:n\n",
    "        state = Tuple( append!( [policies[i]],current_as[i] ) )\n",
    "        weight = 1/( Ws[\"$(state),$(current_cs[i])\"][2] +1 )\n",
    "        println(\"weight $(i): \", weight, \" \",  Ws[\"$(state),$(current_cs[i])\"][2])\n",
    "        println( Ws[\"$(state),$(current_cs[i])\"][2] )\n",
    "        new_w = weight*profit[i] + (1-weight)*Ws[\"$(state),$(current_cs[i])\"][1]\n",
    "        new_counter = Ws[\"$(state),$(current_cs[i])\"][2] +1\n",
    "        Ws[\"$(state),$(current_cs[i])\"]= (new_w,new_counter)\n",
    "    end\n",
    "    \n",
    "    return Ws\n",
    "end\n",
    "\n",
    "competition(x,y) = 3.3\n",
    "\n",
    "update_ws( m0,[(3.3, 3.3),(3.3,3.3)],[(3.,3.),(3.,3.)], n, 0, W0 )"
   ]
  },
  {
   "cell_type": "code",
   "execution_count": 33,
   "metadata": {},
   "outputs": [
    {
     "name": "stdout",
     "output_type": "stream",
     "text": [
      "(4.3, 4.3, 4.3),(4.0, 4.0)(1.588091790067285, 2181)\n",
      "(4.0, 3.7, 3.7),(3.0, 3.0)(3.712858571858168, 765)\n",
      "(4.3, 3.7, 3.7),(4.0, 3.0)(1.7162379008502453, 748)\n",
      "(4.0, 4.3, 4.3),(3.0, 4.0)(3.746368919673621, 750)\n",
      "(3.7, 4.0, 4.0),(3.0, 3.0)(3.1265488014290583, 1515)\n",
      "3.3: 8\n",
      "3.7: 1521\n",
      "4.0: 1527\n",
      "4.3: 2944\n"
     ]
    }
   ],
   "source": [
    "as = [3.3, 3.7 , 4.0, 4.3] #prices public info\n",
    "cs = [3.,4.] #costs, private info\n",
    "n= 2\n",
    "lag = 1\n",
    "Ws = init_Ws(as,cs,n,lag,[1.8,1.9,2.0])\n",
    "ms = update_m(as,cs,n,lag,Ws)\n",
    "as_current = [(4., 4.),(4.,4.)]\n",
    "cs_current = [(3.,3.),(3.,3.)]\n",
    "t=0\n",
    "beta = .9\n",
    "\n",
    "for i=1:3000\n",
    "    as_current, cs_current, t = update_info(ms,as_current,cs_current,cs,n,lag,t)\n",
    "    Ws= update_ws(ms,as_current,cs_current, n, beta, Ws)\n",
    "    ms= update_m(as,cs,n,lag,Ws)\n",
    "end\n",
    "\n",
    "for (k,v) in Ws\n",
    "    if v[2] > 40\n",
    "        println(k,v)\n",
    "    end\n",
    "end\n",
    "\n",
    "for a=as\n",
    "    tally = 0\n",
    "    for (k,v) in Ws\n",
    "        action = parse(Float64,k[2:4])\n",
    "        if action ==a\n",
    "            tally = tally + v[2]\n",
    "        end\n",
    "    end\n",
    "    println(\"$(a): $(tally)\")\n",
    "end"
   ]
  },
  {
   "cell_type": "code",
   "execution_count": 34,
   "metadata": {},
   "outputs": [
    {
     "name": "stdout",
     "output_type": "stream",
     "text": [
      "(4.3, 4.3, 4.3),(4.0, 4.0)(0.326888593056219, 2178)\n",
      "(4.3, 4.3, 4.3),(3.0, 4.0)(1.3187380723941386, 725)\n",
      "(4.3, 4.3, 4.3),(4.0, 3.0)(0.33147053518874464, 715)\n",
      "(4.3, 4.3, 4.3),(3.0, 3.0)(1.3095067818919273, 2214)\n",
      "3.3: 17\n",
      "3.7: 31\n",
      "4.0: 64\n",
      "4.3: 5888\n"
     ]
    }
   ],
   "source": [
    "as = [3.3, 3.7 , 4.0, 4.3] #prices public info\n",
    "cs = [3.,4.] #costs, private info\n",
    "n= 2\n",
    "lag = 1\n",
    "Ws = init_Ws(as,cs,n,lag,[1.8,1.9,2.0])\n",
    "ms = update_m(as,cs,n,lag,Ws)\n",
    "as_current = [(4., 4.),(4.,4.)]\n",
    "cs_current = [(3.,3.),(3.,3.)]\n",
    "t=0\n",
    "beta = .5\n",
    "\n",
    "for i=1:3000\n",
    "    as_current, cs_current, t = update_info(ms,as_current,cs_current,cs,n,lag,t)\n",
    "    Ws= update_ws(ms,as_current,cs_current, n, beta, Ws)\n",
    "    ms= update_m(as,cs,n,lag,Ws)\n",
    "end\n",
    "\n",
    "for (k,v) in Ws\n",
    "    if v[2] > 40\n",
    "        println(k,v)\n",
    "    end\n",
    "end\n",
    "\n",
    "for a=as\n",
    "    tally = 0\n",
    "    for (k,v) in Ws\n",
    "        action = parse(Float64,k[2:4])\n",
    "        if action ==a\n",
    "            tally = tally + v[2]\n",
    "        end\n",
    "    end\n",
    "    println(\"$(a): $(tally)\")\n",
    "end"
   ]
  },
  {
   "cell_type": "code",
   "execution_count": 32,
   "metadata": {},
   "outputs": [
    {
     "name": "stdout",
     "output_type": "stream",
     "text": [
      "(4.3, 3.3, 3.3),(3.0, 4.0)(0.3589584263561248, 1)\n",
      "(3.3, 4.3, 4.3),(4.0, 4.0)(-0.5135900817216599, 1)\n",
      "(4.3, 4.3, 4.3),(4.0, 4.0)(0.150951708030386, 2308)\n",
      "(4.3, 4.3, 4.3),(3.0, 3.0)(0.6541080387938105, 2172)\n",
      "(3.3, 3.3, 3.3),(4.0, 3.0)(-0.3563376774854025, 2)\n",
      "(3.3, 4.3, 4.3),(3.0, 3.0)(0.22011003502356832, 1)\n",
      "(4.3, 3.3, 3.3),(3.0, 3.0)(0.3589584263561248, 1)\n",
      "(4.3, 4.3, 4.3),(4.0, 3.0)(0.15101078448147223, 755)\n",
      "(3.3, 4.3, 4.3),(3.0, 4.0)(0.22011003502356832, 1)\n",
      "(3.3, 4.3, 4.3),(4.0, 3.0)(-0.5135900817216599, 1)\n",
      "(4.3, 4.3, 4.3),(3.0, 4.0)(0.6543800660863804, 755)\n",
      "(3.3, 3.3, 3.3),(4.0, 4.0)(-0.5135900817216599, 1)\n",
      "(3.3, 3.3, 3.3),(3.0, 3.0)(0.22011003502356832, 1)\n",
      "3.3: 8\n",
      "4.3: 5992\n"
     ]
    }
   ],
   "source": [
    "as = [3.3, 4.3] #prices public info\n",
    "cs = [3.,4.] #costs, private info\n",
    "n= 2\n",
    "lag = 1\n",
    "Ws = init_Ws(as,cs,n,lag,[5,6,7])\n",
    "ms = update_m(as,cs,n,lag,Ws)\n",
    "as_current = [(4.3, 4.3),(4.3,4.3)]\n",
    "cs_current = [(3.,3.),(3.,3.)]\n",
    "t=0\n",
    "beta = 0\n",
    "\n",
    "for i=1:3000\n",
    "    as_current, cs_current, t = update_info(ms,as_current,cs_current,cs,n,lag,t)\n",
    "    Ws= update_ws(ms,as_current,cs_current, n, beta, Ws)\n",
    "    ms= update_m(as,cs,n,lag,Ws)\n",
    "end\n",
    "\n",
    "for (k,v) in Ws\n",
    "    if v[2] >= 1\n",
    "        println(k,v)\n",
    "    end\n",
    "end\n",
    "\n",
    "for a=as\n",
    "    tally = 0\n",
    "    for (k,v) in Ws\n",
    "        action = parse(Float64,k[2:4])\n",
    "        if action ==a\n",
    "            tally = tally + v[2]\n",
    "        end\n",
    "    end\n",
    "    println(\"$(a): $(tally)\")\n",
    "end"
   ]
  },
  {
   "cell_type": "code",
   "execution_count": null,
   "metadata": {},
   "outputs": [],
   "source": []
  }
 ],
 "metadata": {
  "kernelspec": {
   "display_name": "Julia 1.0.4",
   "language": "julia",
   "name": "julia-1.0"
  },
  "language_info": {
   "file_extension": ".jl",
   "mimetype": "application/julia",
   "name": "julia",
   "version": "1.0.4"
  }
 },
 "nbformat": 4,
 "nbformat_minor": 2
}
