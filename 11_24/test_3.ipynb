{
 "cells": [
  {
   "cell_type": "code",
   "execution_count": 37,
   "metadata": {},
   "outputs": [
    {
     "data": {
      "text/plain": [
       "Dict{Any,Any} with 18 entries:\n",
       "  \"(2.1, 2.1),1\" => (10, 0)\n",
       "  \"(0.0, 2.1),2\" => (10, 0)\n",
       "  \"(1.1, 2.1),1\" => (10, 0)\n",
       "  \"(0.0, 0.0),2\" => (10, 0)\n",
       "  \"(1.1, 0.0),1\" => (10, 0)\n",
       "  \"(1.1, 1.1),1\" => (10, 0)\n",
       "  \"(0.0, 1.1),2\" => (10, 0)\n",
       "  \"(1.1, 2.1),2\" => (10, 0)\n",
       "  \"(1.1, 1.1),2\" => (10, 0)\n",
       "  \"(2.1, 1.1),1\" => (10, 0)\n",
       "  \"(2.1, 2.1),2\" => (10, 0)\n",
       "  \"(0.0, 2.1),1\" => (10, 0)\n",
       "  \"(0.0, 1.1),1\" => (10, 0)\n",
       "  \"(1.1, 0.0),2\" => (10, 0)\n",
       "  \"(2.1, 1.1),2\" => (10, 0)\n",
       "  \"(2.1, 0.0),1\" => (10, 0)\n",
       "  \"(0.0, 0.0),1\" => (10, 0)\n",
       "  \"(2.1, 0.0),2\" => (10, 0)"
      ]
     },
     "execution_count": 37,
     "metadata": {},
     "output_type": "execute_result"
    }
   ],
   "source": [
    "BETA = 0\n",
    "as = [0, 1.1 , 2.1] #prices public info\n",
    "cs = [1, 2] #costs, private info\n",
    "n= 2\n",
    "\n",
    "function init_Ws(as,cs,n, W0)\n",
    "    Ws = Dict()\n",
    "    argumento=fill(as, n)\n",
    "    cartesian_as=collect(Iterators.product(argumento...))\n",
    "\n",
    "    for c=cs\n",
    "        for a=cartesian_as\n",
    "                Ws[\"$(a),$(c)\"] = (W0,0)\n",
    "        end\n",
    "    end\n",
    "    return Ws\n",
    "end\n",
    "\n",
    "W0 = init_Ws(as,cs,2,10)\n"
   ]
  },
  {
   "cell_type": "code",
   "execution_count": 30,
   "metadata": {},
   "outputs": [
    {
     "data": {
      "text/plain": [
       "Base.Iterators.ProductIterator{Tuple{Array{Int64,1},Array{Int64,1},Array{Int64,1}}}(([1, 2, 3], [1, 2, 3], [1, 2, 3]))"
      ]
     },
     "execution_count": 30,
     "metadata": {},
     "output_type": "execute_result"
    }
   ],
   "source": [
    "result(ss, n) = Iterators.product(ntuple(i->ss, n)...)\n",
    "result([1,2,3],3)"
   ]
  },
  {
   "cell_type": "code",
   "execution_count": null,
   "metadata": {},
   "outputs": [],
   "source": [
    "function init_m(as,cs,n,Ws)\n",
    "    argumento=fill(as, n-1)\n",
    "    cartesian_as=collect(Iterators.product(argumento...))\n",
    "    ms = Dict()\n",
    "    for a=cartesian_as\n",
    "        for c=cs\n",
    "            for my_a=as\n",
    "                if true  #check if key is there initilize to my_a\n",
    "                    ms[\"$(a),$(c)\"] = my_a\n",
    "                end\n",
    "                \n",
    "                if true #if already there set to my a if greater.\n",
    "                    ms[\"$(a),$(c)\"] = my_a\n",
    "                end\n",
    "                \n",
    "        end\n",
    "    end\n",
    "    return Ws\n",
    "end\n",
    "\n",
    "\n",
    "m0 = init_m(as,cs,n,Ws)\n",
    "m0(1.1,2)"
   ]
  },
  {
   "cell_type": "code",
   "execution_count": null,
   "metadata": {},
   "outputs": [],
   "source": [
    "function update_Ws(m)\n",
    "    \n",
    "end\n",
    "\n",
    "function generate_ps(m,cs)\n",
    "end\n",
    "\n",
    "function update_S(m)\n",
    "end\n",
    "    \n",
    "function update_Js(m)\n",
    "end\n",
    "\n",
    "\n",
    "\n",
    "for i in range(10):\n",
    "    "
   ]
  }
 ],
 "metadata": {
  "kernelspec": {
   "display_name": "Julia 1.0.4",
   "language": "julia",
   "name": "julia-1.0"
  },
  "language_info": {
   "file_extension": ".jl",
   "mimetype": "application/julia",
   "name": "julia",
   "version": "1.0.4"
  }
 },
 "nbformat": 4,
 "nbformat_minor": 2
}
