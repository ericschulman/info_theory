{
 "cells": [
  {
   "cell_type": "code",
   "execution_count": 25,
   "metadata": {},
   "outputs": [
    {
     "name": "stdout",
     "output_type": "stream",
     "text": [
      "[0.0, 1.1, 2.1, 0.0, 1.1, 2.1, 0.0, 1.1, 2.1]Tuple{Float64}[(0.0,), (1.1,), (2.1,), (0.0,), (1.1,), (2.1,), (0.0,), (1.1,), (2.1,)]\n",
      "<------->\n"
     ]
    }
   ],
   "source": [
    "BETA = 0\n",
    "as = [0, 1.1 , 2.1] #prices public info\n",
    "cs = [1, 2] #costs, private info\n",
    "n= 2\n",
    "\n",
    "function init_Ws(as,cs,n, W0)\n",
    "    Ws = Dict()\n",
    "    print(repeat(as,n))\n",
    "    cartesian_as = collect(Base.product( repeat(as,outer=n) ))\n",
    "    println(cartesian_as)\n",
    "    println(\"<------->\")\n",
    "    \n",
    "    return \n",
    "    for c=cs\n",
    "        for a=cartesian_as\n",
    "                Ws[\"$(a),$(c)\"] = (W0,0)\n",
    "        end\n",
    "    end\n",
    "    return Ws\n",
    "end\n",
    "\n",
    "\n",
    "\n",
    "\n",
    "\n",
    "\n",
    "\n",
    "W0 = init_Ws(as,cs,3,10)\n"
   ]
  },
  {
   "cell_type": "code",
   "execution_count": 14,
   "metadata": {},
   "outputs": [
    {
     "ename": "UndefKeywordError",
     "evalue": "UndefKeywordError: keyword argument dims not assigned",
     "output_type": "error",
     "traceback": [
      "UndefKeywordError: keyword argument dims not assigned",
      "",
      "Stacktrace:",
      " [1] cat(::Int64, ::Vararg{Int64,N} where N) at ./abstractarray.jl:1480",
      " [2] top-level scope at In[14]:1"
     ]
    }
   ],
   "source": []
  },
  {
   "cell_type": "code",
   "execution_count": null,
   "metadata": {},
   "outputs": [],
   "source": [
    "function init_m(as,cs,n,Ws)\n",
    "    Ws = Dict()\n",
    "    for a=as\n",
    "        for c=cs\n",
    "            Ws[\"$(a),$(c)\"] = (W0,0)\n",
    "        end\n",
    "    end\n",
    "    return Ws\n",
    "end\n",
    "\n",
    "\n",
    "m0 = init_m(as,cs,n,Ws)\n",
    "m0(1.1,2)"
   ]
  },
  {
   "cell_type": "code",
   "execution_count": null,
   "metadata": {},
   "outputs": [],
   "source": [
    "function update_Ws(m)\n",
    "    \n",
    "end\n",
    "\n",
    "function generate_ps(m,cs)\n",
    "end\n",
    "\n",
    "function update_S(m)\n",
    "end\n",
    "    \n",
    "function update_Js(m)\n",
    "end\n",
    "\n",
    "\n",
    "\n",
    "for i in range(10):\n",
    "    "
   ]
  }
 ],
 "metadata": {
  "kernelspec": {
   "display_name": "Julia 1.0.4",
   "language": "julia",
   "name": "julia-1.0"
  },
  "language_info": {
   "file_extension": ".jl",
   "mimetype": "application/julia",
   "name": "julia",
   "version": "1.0.4"
  }
 },
 "nbformat": 4,
 "nbformat_minor": 2
}
