{
 "cells": [
  {
   "cell_type": "code",
   "execution_count": 1,
   "metadata": {},
   "outputs": [],
   "source": [
    "using Pkg\n",
    "#Pkg.add(\"Distributions\")\n",
    "using Random, Distributions\n",
    "using PyPlot\n",
    "using Optim"
   ]
  },
  {
   "cell_type": "code",
   "execution_count": 24,
   "metadata": {},
   "outputs": [
    {
     "name": "stdout",
     "output_type": "stream",
     "text": [
      "-0.10932694454338185\n",
      "-0.10644013528622313\n"
     ]
    }
   ],
   "source": [
    "N =1000\n",
    "p = [.3, .2, .4, .1]\n",
    "weighted_coin = Categorical(p)\n",
    "draws = rand(weighted_coin,N)\n",
    "p_hat = zeros(4)\n",
    "\n",
    "for i=1:4\n",
    "    p_hat[i] = sum(draws .== i)/N\n",
    "end\n",
    "\n",
    "g_hat[1:2] = [sum(p_hat[1:2])/2, sum(p_hat[1:2])/2]\n",
    "g_hat[3:4] = [sum(p_hat[3:4])/2, sum(p_hat[3:4])/2]\n",
    "\n",
    "\n",
    "println(sum((log.(g_hat./p_hat)).*p_hat)) \n",
    "\n",
    "println( sum(log.(.25 ./ p).*p))"
   ]
  },
  {
   "cell_type": "code",
   "execution_count": null,
   "metadata": {},
   "outputs": [],
   "source": []
  }
 ],
 "metadata": {
  "kernelspec": {
   "display_name": "Julia 1.0.4",
   "language": "julia",
   "name": "julia-1.0"
  },
  "language_info": {
   "file_extension": ".jl",
   "mimetype": "application/julia",
   "name": "julia",
   "version": "1.0.4"
  }
 },
 "nbformat": 4,
 "nbformat_minor": 2
}
