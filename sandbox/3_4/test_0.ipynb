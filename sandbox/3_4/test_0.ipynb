{
 "cells": [
  {
   "cell_type": "code",
   "execution_count": 1,
   "metadata": {},
   "outputs": [],
   "source": [
    "#generate random strings of actions\n",
    "\n",
    "#generate likelihood of actions given different dgp at each step\n",
    "\n",
    "#generate payoffs from actions (expected based on each DGP)\n",
    "#eu1 = psi()\n",
    "\n",
    "#solve for lambda"
   ]
  },
  {
   "cell_type": "code",
   "execution_count": 2,
   "metadata": {},
   "outputs": [
    {
     "name": "stderr",
     "output_type": "stream",
     "text": [
      "┌ Info: Recompiling stale cache file /home/erichschulman/.julia/compiled/v1.0/Distributions/xILW0.ji for Distributions [31c24e10-a181-5473-b8eb-7969acd0382f]\n",
      "└ @ Base loading.jl:1190\n"
     ]
    }
   ],
   "source": [
    "using Pkg\n",
    "#Pkg.add(\"Statistics\")\n",
    "using Distributions \n",
    "using Statistics"
   ]
  },
  {
   "cell_type": "code",
   "execution_count": 12,
   "metadata": {},
   "outputs": [
    {
     "name": "stdout",
     "output_type": "stream",
     "text": [
      "[1.0 -0.0133553; -0.0133553 1.0]\n",
      "[1.0 -0.00773167; -0.00773167 1.0]\n"
     ]
    }
   ],
   "source": [
    "N = 10000\n",
    "d1 = Binomial(1,.5)\n",
    "d2 = Binomial(1,.9)\n",
    "\n",
    "v1 = rand(d1, N)\n",
    "a1 = hcat(v1[1:end-1],v1[2:end])\n",
    "\n",
    "v2 = rand(d2, N)\n",
    "a2 = hcat(v2[1:end-1],v2[2:end])\n",
    "\n",
    "println(cor(a1))\n",
    "println(cor(a2))"
   ]
  },
  {
   "cell_type": "code",
   "execution_count": null,
   "metadata": {},
   "outputs": [],
   "source": []
  }
 ],
 "metadata": {
  "kernelspec": {
   "display_name": "Julia 1.0.4",
   "language": "julia",
   "name": "julia-1.0"
  },
  "language_info": {
   "file_extension": ".jl",
   "mimetype": "application/julia",
   "name": "julia",
   "version": "1.0.4"
  }
 },
 "nbformat": 4,
 "nbformat_minor": 2
}
