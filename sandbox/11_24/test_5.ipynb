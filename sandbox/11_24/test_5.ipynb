{
 "cells": [
  {
   "cell_type": "code",
   "execution_count": 3,
   "metadata": {},
   "outputs": [],
   "source": [
    "using Pkg\n",
    "using Random, Distributions\n",
    "using PyPlot\n",
    "using Optim\n",
    "#Pkg.add(\"Quadrature\")\n",
    "using Quadrature"
   ]
  },
  {
   "cell_type": "code",
   "execution_count": 7,
   "metadata": {},
   "outputs": [
    {
     "name": "stdout",
     "output_type": "stream",
     "text": [
      "0.5"
     ]
    }
   ],
   "source": [
    "f(x,p) = x\n",
    "\n",
    "prob = QuadratureProblem(f,0,1)\n",
    "sol = solve(prob,HCubatureJL(),reltol=1e-3,abstol=1e-3)\n",
    "print(sol[1])"
   ]
  },
  {
   "cell_type": "code",
   "execution_count": null,
   "metadata": {},
   "outputs": [],
   "source": [
    "function gen_support(t) \n",
    "    result = zeros(2^(2*t),t,2)\n",
    "    for i=1:2^(2*t)\n",
    "        i_copy = i\n",
    "        binary = zeros(2*t)\n",
    "        for digit=1:2*t\n",
    "            if mod(i_copy,2) > 0\n",
    "                binary[digit] = 1\n",
    "                i_copy = i_copy - 1\n",
    "            end\n",
    "            i_copy = i_copy/2\n",
    "        end\n",
    "        result[i,:,1] = binary[1:t]\n",
    "        result[i,:,2] = binary[t+1:end]\n",
    "    end\n",
    "    return result\n",
    "end\n",
    "\n",
    "\n",
    "function calc_pr(payoffs, mix; \n",
    "        beliefs=[[3 1 ; 3 1],[1 3 ; 1 3]],T=5,N=3000)\n",
    "    \n",
    "    #infer # of players and actions\n",
    "    players = 2\n",
    "    actions = 2\n",
    "    pr = \n",
    "    \n",
    "end"
   ]
  },
  {
   "cell_type": "code",
   "execution_count": null,
   "metadata": {},
   "outputs": [],
   "source": []
  }
 ],
 "metadata": {
  "kernelspec": {
   "display_name": "Julia 1.0.4",
   "language": "julia",
   "name": "julia-1.0"
  },
  "language_info": {
   "file_extension": ".jl",
   "mimetype": "application/julia",
   "name": "julia",
   "version": "1.0.4"
  }
 },
 "nbformat": 4,
 "nbformat_minor": 2
}
