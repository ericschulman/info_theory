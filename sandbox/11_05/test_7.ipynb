{
 "cells": [
  {
   "cell_type": "code",
   "execution_count": 1,
   "metadata": {},
   "outputs": [],
   "source": [
    "import pandas as pd\n",
    "import math\n",
    "import numpy as np\n",
    "import statsmodels.api as sm\n",
    "import matplotlib.pyplot as plt\n",
    "from datetime import datetime"
   ]
  },
  {
   "cell_type": "code",
   "execution_count": 2,
   "metadata": {},
   "outputs": [],
   "source": [
    "data = pd.read_csv('bus1234.csv')\n",
    "data['day'] = 1\n",
    "data['day'] = pd.to_datetime(data[['year','month','day']])\n",
    "data['miles'] =data['miles']/1e6\n",
    "data['miles_sq'] = data['miles']**2\n",
    "data['miles_cubed'] = data['miles']**3"
   ]
  },
  {
   "cell_type": "code",
   "execution_count": 3,
   "metadata": {},
   "outputs": [
    {
     "name": "stderr",
     "output_type": "stream",
     "text": [
      "/home/erichschulman/anaconda3/lib/python3.7/site-packages/numpy/core/fromnumeric.py:2389: FutureWarning: Method .ptp is deprecated and will be removed in a future version. Use numpy.ptp instead.\n",
      "  return ptp(axis=axis, out=out, **kwargs)\n"
     ]
    }
   ],
   "source": [
    "test = data.copy()\n",
    "test = sm.add_constant(test)\n",
    "test['future_replace'] = data.groupby('id')['replace'].shift(-1)\n",
    "test['future_miles'] = data.groupby('id')['miles'].shift(-1)\n",
    "test['past_miles'] =  data.groupby('id')['miles'].shift(1)\n",
    "test['future_miles_sq'] = test['future_miles']*test['future_miles']\n",
    "test = test.dropna()\n",
    "\n",
    "test = test.sort_values(['id','day'])"
   ]
  },
  {
   "cell_type": "code",
   "execution_count": 4,
   "metadata": {},
   "outputs": [
    {
     "name": "stdout",
     "output_type": "stream",
     "text": [
      "Optimization terminated successfully.\n",
      "         Current function value: 0.037755\n",
      "         Iterations 10\n",
      "                           Logit Regression Results                           \n",
      "==============================================================================\n",
      "Dep. Variable:                replace   No. Observations:                 8052\n",
      "Model:                          Logit   Df Residuals:                     8050\n",
      "Method:                           MLE   Df Model:                            1\n",
      "Date:                Thu, 07 Nov 2019   Pseudo R-squ.:                  0.1406\n",
      "Time:                        14:31:54   Log-Likelihood:                -304.01\n",
      "converged:                       True   LL-Null:                       -353.74\n",
      "                                        LLR p-value:                 2.000e-23\n",
      "==============================================================================\n",
      "                 coef    std err          z      P>|z|      [0.025      0.975]\n",
      "------------------------------------------------------------------------------\n",
      "const         -7.4388      0.384    -19.349      0.000      -8.192      -6.685\n",
      "miles         14.4029      1.551      9.289      0.000      11.364      17.442\n",
      "==============================================================================\n"
     ]
    }
   ],
   "source": [
    "logit0 = sm.Logit( test['replace'], test[['const','miles']] ).fit()\n",
    "print(logit0.summary())"
   ]
  },
  {
   "cell_type": "code",
   "execution_count": 5,
   "metadata": {},
   "outputs": [
    {
     "name": "stdout",
     "output_type": "stream",
     "text": [
      "Optimization terminated successfully.\n",
      "         Current function value: 0.036971\n",
      "         Iterations 12\n",
      "                           Logit Regression Results                           \n",
      "==============================================================================\n",
      "Dep. Variable:                replace   No. Observations:                 8052\n",
      "Model:                          Logit   Df Residuals:                     8049\n",
      "Method:                           MLE   Df Model:                            2\n",
      "Date:                Thu, 07 Nov 2019   Pseudo R-squ.:                  0.1584\n",
      "Time:                        14:31:54   Log-Likelihood:                -297.69\n",
      "converged:                       True   LL-Null:                       -353.74\n",
      "                                        LLR p-value:                 4.557e-25\n",
      "==============================================================================\n",
      "                 coef    std err          z      P>|z|      [0.025      0.975]\n",
      "------------------------------------------------------------------------------\n",
      "const        -10.5703      1.269     -8.327      0.000     -13.058      -8.082\n",
      "miles         46.7290     11.346      4.118      0.000      24.491      68.967\n",
      "miles_sq     -73.9152     24.712     -2.991      0.003    -122.349     -25.481\n",
      "==============================================================================\n",
      "\n",
      "Possibly complete quasi-separation: A fraction 0.16 of observations can be\n",
      "perfectly predicted. This might indicate that there is complete\n",
      "quasi-separation. In this case some parameters will not be identified.\n"
     ]
    }
   ],
   "source": [
    "logit1 = sm.Logit( test['replace'], test[['const','miles','miles_sq']] ).fit()\n",
    "print(logit1.summary())"
   ]
  },
  {
   "cell_type": "code",
   "execution_count": 6,
   "metadata": {},
   "outputs": [
    {
     "name": "stdout",
     "output_type": "stream",
     "text": [
      "                            OLS Regression Results                            \n",
      "==============================================================================\n",
      "Dep. Variable:                  miles   R-squared:                       0.673\n",
      "Model:                            OLS   Adj. R-squared:                  0.673\n",
      "Method:                 Least Squares   F-statistic:                 1.656e+04\n",
      "Date:                Thu, 07 Nov 2019   Prob (F-statistic):               0.00\n",
      "Time:                        14:31:55   Log-Likelihood:                 8543.3\n",
      "No. Observations:                8052   AIC:                        -1.708e+04\n",
      "Df Residuals:                    8051   BIC:                        -1.708e+04\n",
      "Df Model:                           1                                         \n",
      "Covariance Type:            nonrobust                                         \n",
      "==============================================================================\n",
      "                 coef    std err          t      P>|t|      [0.025      0.975]\n",
      "------------------------------------------------------------------------------\n",
      "trend          0.0022   1.72e-05    128.685      0.000       0.002       0.002\n",
      "==============================================================================\n",
      "Omnibus:                     1164.956   Durbin-Watson:                   0.087\n",
      "Prob(Omnibus):                  0.000   Jarque-Bera (JB):             1729.702\n",
      "Skew:                          -1.109   Prob(JB):                         0.00\n",
      "Kurtosis:                       3.490   Cond. No.                         1.00\n",
      "==============================================================================\n",
      "\n",
      "Warnings:\n",
      "[1] Standard Errors assume that the covariance matrix of the errors is correctly specified.\n"
     ]
    }
   ],
   "source": [
    "#add a trend\n",
    "test['trend'] = np.zeros(test.shape[0])\n",
    "values = test.groupby(['id']).count()['const']\n",
    "for ids in test['id'].unique():\n",
    "    trend = np.arange(values[ids])\n",
    "    test.loc[test['id']==ids,'trend'] = trend\n",
    "\n",
    "predictors = np.array( [test['trend']*test['replace'], test['trend']*(1-test['replace'])] )\n",
    "predictors = predictors.transpose()\n",
    "miles_ols = sm.OLS(test['miles'],test['trend']).fit()\n",
    "print(miles_ols.summary())"
   ]
  },
  {
   "cell_type": "code",
   "execution_count": 13,
   "metadata": {
    "scrolled": false
   },
   "outputs": [],
   "source": [
    "#note we have normalized V0 = 0, this works because of the renewal process?\n",
    "V1 = -(1-test['replace'])*(logit1.params*test[['const','miles','miles_sq']]).sum(axis=1)\n",
    "\n",
    "#roughly predict v next period\n",
    "predicted_miles = (miles_ols.params['trend'] + test['miles'])*(1-test['replace'])\n",
    "predicted_miles = np.array([test['const'], predicted_miles, predicted_miles*predicted_miles]).transpose()\n",
    "predicted_miles = pd.DataFrame(predicted_miles , columns =['const','miles','miles_sq'], index=test.index  )\n",
    "\n",
    "EV1 = -(logit1.params*predicted_miles).sum(axis=1)\n",
    "choice_pr = np.exp(EV1)/(1+np.exp(EV1))\n",
    "\n",
    "U =  V1 - .99*EV1"
   ]
  },
  {
   "cell_type": "code",
   "execution_count": 14,
   "metadata": {},
   "outputs": [
    {
     "data": {
      "text/html": [
       "<table class=\"simpletable\">\n",
       "<caption>OLS Regression Results</caption>\n",
       "<tr>\n",
       "  <th>Dep. Variable:</th>            <td>y</td>        <th>  R-squared:         </th>  <td>   1.000</td> \n",
       "</tr>\n",
       "<tr>\n",
       "  <th>Model:</th>                   <td>OLS</td>       <th>  Adj. R-squared:    </th>  <td>   1.000</td> \n",
       "</tr>\n",
       "<tr>\n",
       "  <th>Method:</th>             <td>Least Squares</td>  <th>  F-statistic:       </th>  <td>1.068e+08</td>\n",
       "</tr>\n",
       "<tr>\n",
       "  <th>Date:</th>             <td>Thu, 07 Nov 2019</td> <th>  Prob (F-statistic):</th>   <td>  0.00</td>  \n",
       "</tr>\n",
       "<tr>\n",
       "  <th>Time:</th>                 <td>14:35:09</td>     <th>  Log-Likelihood:    </th>  <td>  30324.</td> \n",
       "</tr>\n",
       "<tr>\n",
       "  <th>No. Observations:</th>      <td>  8052</td>      <th>  AIC:               </th> <td>-6.064e+04</td>\n",
       "</tr>\n",
       "<tr>\n",
       "  <th>Df Residuals:</th>          <td>  8049</td>      <th>  BIC:               </th> <td>-6.062e+04</td>\n",
       "</tr>\n",
       "<tr>\n",
       "  <th>Df Model:</th>              <td>     2</td>      <th>                     </th>      <td> </td>    \n",
       "</tr>\n",
       "<tr>\n",
       "  <th>Covariance Type:</th>      <td>nonrobust</td>    <th>                     </th>      <td> </td>    \n",
       "</tr>\n",
       "</table>\n",
       "<table class=\"simpletable\">\n",
       "<tr>\n",
       "    <td></td>       <th>coef</th>     <th>std err</th>      <th>t</th>      <th>P>|t|</th>  <th>[0.025</th>    <th>0.975]</th>  \n",
       "</tr>\n",
       "<tr>\n",
       "  <th>const</th> <td>    0.1980</td> <td>    0.000</td> <td> 1828.125</td> <td> 0.000</td> <td>    0.198</td> <td>    0.198</td>\n",
       "</tr>\n",
       "<tr>\n",
       "  <th>x1</th>    <td>  -10.6626</td> <td>    0.001</td> <td>-1.46e+04</td> <td> 0.000</td> <td>  -10.664</td> <td>  -10.661</td>\n",
       "</tr>\n",
       "<tr>\n",
       "  <th>x2</th>    <td>   -0.5762</td> <td>    0.001</td> <td> -773.919</td> <td> 0.000</td> <td>   -0.578</td> <td>   -0.575</td>\n",
       "</tr>\n",
       "</table>\n",
       "<table class=\"simpletable\">\n",
       "<tr>\n",
       "  <th>Omnibus:</th>       <td>2429.413</td> <th>  Durbin-Watson:     </th> <td>   0.090</td>\n",
       "</tr>\n",
       "<tr>\n",
       "  <th>Prob(Omnibus):</th>  <td> 0.000</td>  <th>  Jarque-Bera (JB):  </th> <td>7976.497</td>\n",
       "</tr>\n",
       "<tr>\n",
       "  <th>Skew:</th>           <td> 1.528</td>  <th>  Prob(JB):          </th> <td>    0.00</td>\n",
       "</tr>\n",
       "<tr>\n",
       "  <th>Kurtosis:</th>       <td> 6.800</td>  <th>  Cond. No.          </th> <td>    12.7</td>\n",
       "</tr>\n",
       "</table><br/><br/>Warnings:<br/>[1] Standard Errors assume that the covariance matrix of the errors is correctly specified."
      ],
      "text/plain": [
       "<class 'statsmodels.iolib.summary.Summary'>\n",
       "\"\"\"\n",
       "                            OLS Regression Results                            \n",
       "==============================================================================\n",
       "Dep. Variable:                      y   R-squared:                       1.000\n",
       "Model:                            OLS   Adj. R-squared:                  1.000\n",
       "Method:                 Least Squares   F-statistic:                 1.068e+08\n",
       "Date:                Thu, 07 Nov 2019   Prob (F-statistic):               0.00\n",
       "Time:                        14:35:09   Log-Likelihood:                 30324.\n",
       "No. Observations:                8052   AIC:                        -6.064e+04\n",
       "Df Residuals:                    8049   BIC:                        -6.062e+04\n",
       "Df Model:                           2                                         \n",
       "Covariance Type:            nonrobust                                         \n",
       "==============================================================================\n",
       "                 coef    std err          t      P>|t|      [0.025      0.975]\n",
       "------------------------------------------------------------------------------\n",
       "const          0.1980      0.000   1828.125      0.000       0.198       0.198\n",
       "x1           -10.6626      0.001  -1.46e+04      0.000     -10.664     -10.661\n",
       "x2            -0.5762      0.001   -773.919      0.000      -0.578      -0.575\n",
       "==============================================================================\n",
       "Omnibus:                     2429.413   Durbin-Watson:                   0.090\n",
       "Prob(Omnibus):                  0.000   Jarque-Bera (JB):             7976.497\n",
       "Skew:                           1.528   Prob(JB):                         0.00\n",
       "Kurtosis:                       6.800   Cond. No.                         12.7\n",
       "==============================================================================\n",
       "\n",
       "Warnings:\n",
       "[1] Standard Errors assume that the covariance matrix of the errors is correctly specified.\n",
       "\"\"\""
      ]
     },
     "execution_count": 14,
     "metadata": {},
     "output_type": "execute_result"
    }
   ],
   "source": [
    "exog = np.array([ test['const'], test['replace'], test['miles']*(1-test['replace'])])\n",
    "sm.OLS(U, exog.transpose()).fit().summary()"
   ]
  },
  {
   "cell_type": "code",
   "execution_count": null,
   "metadata": {},
   "outputs": [],
   "source": []
  }
 ],
 "metadata": {
  "kernelspec": {
   "display_name": "Python 3",
   "language": "python",
   "name": "python3"
  },
  "language_info": {
   "codemirror_mode": {
    "name": "ipython",
    "version": 3
   },
   "file_extension": ".py",
   "mimetype": "text/x-python",
   "name": "python",
   "nbconvert_exporter": "python",
   "pygments_lexer": "ipython3",
   "version": "3.7.3"
  }
 },
 "nbformat": 4,
 "nbformat_minor": 2
}
