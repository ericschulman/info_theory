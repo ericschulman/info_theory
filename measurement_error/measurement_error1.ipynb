{
 "cells": [
  {
   "cell_type": "code",
   "execution_count": 1,
   "id": "bd787f4a",
   "metadata": {},
   "outputs": [],
   "source": [
    "import numpy as np\n",
    "from scipy.optimize import minimize\n",
    "import statsmodels.api as sm\n",
    "from scipy.stats import norm"
   ]
  },
  {
   "cell_type": "code",
   "execution_count": 2,
   "id": "7a0b30ff",
   "metadata": {},
   "outputs": [
    {
     "name": "stdout",
     "output_type": "stream",
     "text": [
      "1.0165722743927872\n",
      "1.0186454132611855\n",
      "5.2784622885286385\n",
      "5.170315164928033\n"
     ]
    }
   ],
   "source": [
    "def gen_data(nobs=1000, a=2, b=1, c=2, d=1):\n",
    "    #true value\n",
    "    y = np.random.normal(loc=0, scale=1, size=(nobs,1))\n",
    "    \n",
    "    #measurement error terms\n",
    "    e1 = np.random.normal(loc=0, scale=1, size=(nobs,1))\n",
    "    e2 = np.random.normal(loc=0, scale=1, size=(nobs,1))\n",
    "    \n",
    "    #procedure\n",
    "    y1 =b+ a*y + e1\n",
    "    y2 =d+ c*y + e2\n",
    "    return y1,y2,y,nobs\n",
    "\n",
    "y1n,y2n,y,n = gen_data()\n",
    "\n",
    "\n",
    "print(y1n.mean())\n",
    "print(y2n.mean())\n",
    "print(y1n.var())\n",
    "print(y2n.var())"
   ]
  },
  {
   "cell_type": "code",
   "execution_count": 3,
   "id": "6a6fb93e",
   "metadata": {},
   "outputs": [
    {
     "name": "stdout",
     "output_type": "stream",
     "text": [
      "(2.78194677580385, 1.0719628892074562, 1.9019601326046065, 4.101341335502296)\n",
      "(1.9906310855502916, 3.997245702490851, -4.957689734013365, 0.8940258084481163)\n",
      "(1.8871531196438374, 4.030457811966271, 4.573551238942853, 0.9811389866872948)\n"
     ]
    }
   ],
   "source": [
    "def estimate(y1n,y2n):\n",
    "    b = y1n.mean()\n",
    "    d = y2n.mean()\n",
    "    a = np.sqrt(y1n.var() - 1)\n",
    "    c = np.sqrt(y2n.var() - 1)\n",
    "    sign = ((y1n*y2n).mean() - b*d) > 0\n",
    "    if not sign:\n",
    "        c = -1*c\n",
    "    return a,b,c,d\n",
    "\n",
    "for i in [(3,1,2,4),(2,4,-5,1),(2,4,5,1)]:\n",
    "    y1n,y2n,y,n = gen_data(a=i[0],b=i[1],c=i[2],d=i[3])\n",
    "    print(estimate(y1n,y2n))"
   ]
  },
  {
   "cell_type": "code",
   "execution_count": 4,
   "id": "f8eb80b7",
   "metadata": {},
   "outputs": [
    {
     "name": "stdout",
     "output_type": "stream",
     "text": [
      "-0.013497272132567866 -0.013510782915483343\n",
      "-0.004476647577573008 -0.004481128706279284\n",
      "-0.006244956054242419 -0.006251207261503918\n",
      "-3.2526065174565133e-19 0.0\n",
      "0.019044138757173486 0.019063201959132615\n",
      "0.057453595699030253 0.05751110680583605\n"
     ]
    }
   ],
   "source": [
    "#impute value of y*\n",
    "##compare just averaging y1+y2 with this.....\n",
    "\n",
    "def conditional_exp1(x,y,a,b,c,d):\n",
    "    \"\"\"numerically integrate things\"\"\"\n",
    "    grid_size = 1000\n",
    "    z_range = 100\n",
    "    z_grid = np.linspace(-z_range/2,\n",
    "                z_range/2, grid_size)\n",
    "\n",
    "    method1 = (z_range/grid_size)*z_grid*norm.pdf(y-(a*z_grid+b))*norm.pdf(x-(c*z_grid+d))\n",
    "    method1 = method1.sum()\n",
    "    return method1\n",
    "\n",
    "\n",
    "def conditional_exp2(x,y,a,b,c,d):\n",
    "    \"\"\"i got this from wolfram\"\"\"\n",
    "    method2 = np.exp(-(a*(x-d) - c*(y-b))**2/(2*(a**2+c**2)))*(a*(y-b) + c*(x-d))/(np.sqrt(2*np.pi)*(a**2+c**2)**(3/2))\n",
    "    return  method2\n",
    "    \n",
    "    \n",
    "for j in ([0,0],[0,1],[1,0],[1,1],[2,3],[5,7]):\n",
    "    a,b,c,d = 5,1,4,1\n",
    "    print(conditional_exp1(j[0],j[1],a,b,c,d),conditional_exp2(j[0],j[1],a,b,c,d))"
   ]
  },
  {
   "cell_type": "code",
   "execution_count": 5,
   "id": "6b7f3a05",
   "metadata": {},
   "outputs": [
    {
     "name": "stdout",
     "output_type": "stream",
     "text": [
      "[[ 0.80077059  2.32610783  0.05826282]\n",
      " [-1.22663466 -1.96806658 -0.19422092]\n",
      " [-0.36802172  0.81390136 -0.01436219]\n",
      " [ 0.38144356  2.06388893  0.00974016]\n",
      " [ 1.79940323  4.31466225  0.1953541 ]\n",
      " [ 1.15373846  3.08024423  0.13154365]\n",
      " [-0.06810145  0.32357966 -0.03178163]\n",
      " [ 0.42857721  1.7169856   0.04197651]\n",
      " [ 0.08148326  2.51348959  0.06514237]\n",
      " [-2.10887259 -3.94063766 -0.21402235]]\n",
      "2.5884428894301497 0.9422658504632397\n"
     ]
    }
   ],
   "source": [
    "def estimate_predict(y1n,y2n):\n",
    "    a,b,c,d = estimate(y1n,y2n)\n",
    "    pred = conditional_exp2(y1n,y2n,a,b,c,d)\n",
    "    return pred \n",
    "\n",
    "def mse(x,y):\n",
    "    return ((x-y)**2).mean()\n",
    "\n",
    "y1n,y2n,y,n = gen_data()\n",
    "y_pred = estimate_predict(y1n,y2n)\n",
    "result = np.concatenate( (y,(y1n+y2n)/2,  estimate_predict(y1n,y2n) ) ,axis=1)\n",
    "print(result[0:10,:])\n",
    "print(mse(y,(y1n+y2n)/2),mse(y,estimate_predict(y1n,y2n)))\n",
    "\n",
    "#basically, its just (x+y)/2 ... but down weight towards average... the more x and y differ...\n",
    "#who has estiamted this model?"
   ]
  },
  {
   "cell_type": "code",
   "execution_count": null,
   "id": "bdd1da86",
   "metadata": {},
   "outputs": [],
   "source": []
  }
 ],
 "metadata": {
  "kernelspec": {
   "display_name": "Python 3 (ipykernel)",
   "language": "python",
   "name": "python3"
  },
  "language_info": {
   "codemirror_mode": {
    "name": "ipython",
    "version": 3
   },
   "file_extension": ".py",
   "mimetype": "text/x-python",
   "name": "python",
   "nbconvert_exporter": "python",
   "pygments_lexer": "ipython3",
   "version": "3.10.9"
  }
 },
 "nbformat": 4,
 "nbformat_minor": 5
}
