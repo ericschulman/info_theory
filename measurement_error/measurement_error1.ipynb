{
 "cells": [
  {
   "cell_type": "code",
   "execution_count": 1,
   "id": "bd787f4a",
   "metadata": {},
   "outputs": [],
   "source": [
    "import numpy as np\n",
    "from scipy.optimize import minimize\n",
    "import statsmodels.api as sm\n",
    "from scipy.stats import norm"
   ]
  },
  {
   "cell_type": "code",
   "execution_count": 2,
   "id": "7a0b30ff",
   "metadata": {},
   "outputs": [
    {
     "name": "stdout",
     "output_type": "stream",
     "text": [
      "1.0216069743632954\n",
      "1.0490929997261356\n",
      "4.985844796724721\n",
      "5.070743871632283\n"
     ]
    }
   ],
   "source": [
    "def gen_data(nobs=1000, a=2, b=1, c=2, d=1):\n",
    "    #true value\n",
    "    y = np.random.normal(loc=0, scale=1, size=(nobs,1))\n",
    "    \n",
    "    #measurement error terms\n",
    "    e1 = np.random.normal(loc=0, scale=1, size=(nobs,1))\n",
    "    e2 = np.random.normal(loc=0, scale=1, size=(nobs,1))\n",
    "    \n",
    "    #procedure\n",
    "    y1 =b+ a*y + e1\n",
    "    y2 =d+ c*y + e2\n",
    "    return y1,y2,y,nobs\n",
    "\n",
    "y1n,y2n,y,n = gen_data()\n",
    "\n",
    "\n",
    "print(y1n.mean())\n",
    "print(y2n.mean())\n",
    "print(y1n.var())\n",
    "print(y2n.var())"
   ]
  },
  {
   "cell_type": "code",
   "execution_count": 3,
   "id": "6a6fb93e",
   "metadata": {},
   "outputs": [
    {
     "name": "stdout",
     "output_type": "stream",
     "text": [
      "(2.959226063641094, 0.987905279907063, 2.0155242024008815, 4.112721500121178)\n",
      "(2.0830499329880037, 3.9651710172767194, -5.099327161763274, 1.0656742941338258)\n",
      "(1.9829306091374255, 3.9782599475927016, 4.877202324856432, 1.082979041684761)\n"
     ]
    }
   ],
   "source": [
    "def estimate(y1n,y2n):\n",
    "    b = y1n.mean()\n",
    "    d = y2n.mean()\n",
    "    a = np.sqrt(y1n.var() - 1)\n",
    "    c = np.sqrt(y2n.var() - 1)\n",
    "    sign = ((y1n*y2n).mean() - b*d) > 0\n",
    "    if not sign:\n",
    "        c = -1*c\n",
    "    return a,b,c,d\n",
    "\n",
    "for i in [(3,1,2,4),(2,4,-5,1),(2,4,5,1)]:\n",
    "    y1n,y2n,y,n = gen_data(a=i[0],b=i[1],c=i[2],d=i[3])\n",
    "    print(estimate(y1n,y2n))"
   ]
  },
  {
   "cell_type": "code",
   "execution_count": 4,
   "id": "0432eb19",
   "metadata": {},
   "outputs": [
    {
     "name": "stdout",
     "output_type": "stream",
     "text": [
      "-0.013497272132567866 -0.013510782915483343\n",
      "-0.004476647577573008 -0.004481128706279284\n",
      "-0.006244956054242419 -0.006251207261503918\n",
      "-3.2526065174565133e-19 0.0\n",
      "0.019044138757173486 0.019063201959132615\n",
      "0.057453595699030253 0.05751110680583605\n"
     ]
    }
   ],
   "source": [
    "#impute value of y*\n",
    "##compare just averaging y1+y2 with this.....\n",
    "\n",
    "def conditional_exp1(x,y,a,b,c,d):\n",
    "    \"\"\"numerically integrate things\"\"\"\n",
    "    grid_size = 1000\n",
    "    z_range = 100\n",
    "    z_grid = np.linspace(-z_range/2,\n",
    "                z_range/2, grid_size)\n",
    "\n",
    "    method1 = (z_range/grid_size)*z_grid*norm.pdf(y-(a*z_grid+b))*norm.pdf(x-(c*z_grid+d))\n",
    "    method1 = method1.sum()\n",
    "    return method1\n",
    "\n",
    "\n",
    "def conditional_exp2(x,y,a,b,c,d):\n",
    "    \"\"\"i got this from wolfram\"\"\"\n",
    "    method2 = np.exp(-(a*(x-d) - c*(y-b))**2/(2*(a**2+c**2)))*(a*(y-b) + c*(x-d))/(np.sqrt(2*np.pi)*(a**2+c**2)**(3/2))\n",
    "    return  method2\n",
    "    \n",
    "    \n",
    "for j in ([0,0],[0,1],[1,0],[1,1],[2,3],[5,7]):\n",
    "    a,b,c,d = 5,1,4,1\n",
    "    print(conditional_exp1(j[0],j[1],a,b,c,d),conditional_exp2(j[0],j[1],a,b,c,d))"
   ]
  },
  {
   "cell_type": "code",
   "execution_count": 8,
   "id": "ee72c940",
   "metadata": {},
   "outputs": [
    {
     "name": "stdout",
     "output_type": "stream",
     "text": [
      "[[-5.01799276e-01  4.03171040e-01 -3.99035230e-02]\n",
      " [-9.52986678e-01  1.00351083e-01 -6.67711653e-02]\n",
      " [ 3.55763540e-01  9.10646201e-01 -8.17787474e-03]\n",
      " [ 8.08161367e-02  9.97538905e-01 -1.29937647e-03]\n",
      " [-6.35764919e-01 -2.43286895e-01 -4.39480994e-02]\n",
      " [ 6.75017704e-01  2.97211971e+00  7.17646143e-02]\n",
      " [-1.38450814e+00 -1.69060615e+00 -1.69648551e-01]\n",
      " [-3.24740877e-01  5.18356894e-01 -3.04788713e-02]\n",
      " [-4.15933546e-01 -1.11361021e+00 -6.75378094e-02]\n",
      " [ 5.33670695e-01  1.54283488e+00  3.19400256e-02]]\n",
      "2.5275528370991003 0.7756529348860458\n"
     ]
    }
   ],
   "source": [
    "def estimate_predict(y1n,y2n):\n",
    "    a,b,c,d = estimate(y1n,y2n)\n",
    "    pred = conditional_exp2(y1n,y2n,a,b,c,d)\n",
    "    return pred \n",
    "\n",
    "def mse(x,y):\n",
    "    return ((x-y)**2).mean()\n",
    "\n",
    "y1n,y2n,y,n = gen_data()\n",
    "y_pred = estimate_predict(y1n,y2n)\n",
    "result = np.concatenate( (y,(y1n+y2n)/2,  estimate_predict(y1n,y2n) ) ,axis=1)\n",
    "print(result[0:10,:])\n",
    "print(mse(y,(y1n+y2n)/2),mse(y,estimate_predict(y1n,y2n)))"
   ]
  },
  {
   "cell_type": "code",
   "execution_count": null,
   "id": "25b14a1b",
   "metadata": {},
   "outputs": [],
   "source": []
  }
 ],
 "metadata": {
  "kernelspec": {
   "display_name": "Python 3 (ipykernel)",
   "language": "python",
   "name": "python3"
  },
  "language_info": {
   "codemirror_mode": {
    "name": "ipython",
    "version": 3
   },
   "file_extension": ".py",
   "mimetype": "text/x-python",
   "name": "python",
   "nbconvert_exporter": "python",
   "pygments_lexer": "ipython3",
   "version": "3.10.9"
  }
 },
 "nbformat": 4,
 "nbformat_minor": 5
}
