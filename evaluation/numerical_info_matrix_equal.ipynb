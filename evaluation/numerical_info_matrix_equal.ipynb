{
 "cells": [
  {
   "cell_type": "code",
   "execution_count": 1,
   "id": "801a6e64",
   "metadata": {},
   "outputs": [],
   "source": [
    "import numpy as np\n",
    "import matplotlib.pyplot as plt\n",
    "import statsmodels.api as sm\n",
    "from statsmodels.base.model import GenericLikelihoodModel\n",
    "import scipy.stats as stats"
   ]
  },
  {
   "cell_type": "code",
   "execution_count": 8,
   "id": "f83ef3f9",
   "metadata": {},
   "outputs": [
    {
     "name": "stdout",
     "output_type": "stream",
     "text": [
      "[[ 960.38429694 -135.89914063]\n",
      " [-135.89914063 1887.8490162 ]]\n",
      "[[1000.00076294  -86.17595673]\n",
      " [ -86.17595673 1881.15315247]]\n"
     ]
    }
   ],
   "source": [
    "class norm_loglike(GenericLikelihoodModel):\n",
    "    \n",
    "    def __init__(self, *args,ols=False, **kwargs):\n",
    "        super(norm_loglike,self).__init__(*args,**kwargs)\n",
    "        self.ols = ols\n",
    "\n",
    "    def loglikeobs(self, params):\n",
    "        y = self.endog\n",
    "        x = self.exog\n",
    "        mu = params[0]\n",
    "        sigma = np.abs(params[1])\n",
    "        pr_y = stats.norm.logpdf( y, loc=mu, scale=sigma )\n",
    "        return pr_y\n",
    "\n",
    "mu = 0\n",
    "sigma = 1\n",
    "nobs = 1000\n",
    "true_theta = np.array([mu,sigma]) \n",
    "yn = np.random.normal(loc=mu, scale=sigma, size=nobs)\n",
    "\n",
    "\n",
    "def compute_info_matrix(theta):\n",
    "    model1_deriv = norm_loglike(yn,np.ones(nobs))\n",
    "    ll1 = model1_deriv.loglikeobs(theta)\n",
    "    grad1 =  model1_deriv.score_obs(theta)    \n",
    "    hess1 = model1_deriv.hessian(theta)\n",
    "\n",
    "    print(grad1.T.dot(grad1))\n",
    "    print(-1*hess1)\n",
    "\n",
    "#variance of the gradient is the same as its hessian?\n",
    "compute_info_matrix(true_theta)"
   ]
  },
  {
   "cell_type": "code",
   "execution_count": 16,
   "id": "5f2dde4e",
   "metadata": {},
   "outputs": [
    {
     "name": "stdout",
     "output_type": "stream",
     "text": [
      "[[ 2046.56026578 -3146.31598486]\n",
      " [-3146.31598486  7366.10329845]]\n",
      "[[  999.99999619 -2086.17602921]\n",
      " [-2086.17602921  5139.6813736 ]]\n"
     ]
    }
   ],
   "source": [
    "false_theta = np.array([1,1])\n",
    "\n",
    "compute_info_matrix(false_theta)"
   ]
  },
  {
   "cell_type": "code",
   "execution_count": 17,
   "id": "a1b0acb2",
   "metadata": {},
   "outputs": [
    {
     "name": "stdout",
     "output_type": "stream",
     "text": [
      "[[ 60.02401856  -0.20734961]\n",
      " [ -0.20734961 173.83661304]]\n",
      "[[250.00038147 -10.77198029]\n",
      " [-10.77198029 -69.92793369]]\n"
     ]
    }
   ],
   "source": [
    "false_theta = np.array([0,2])\n",
    "compute_info_matrix(false_theta)"
   ]
  },
  {
   "cell_type": "code",
   "execution_count": null,
   "id": "49b9a0b1",
   "metadata": {},
   "outputs": [],
   "source": [
    "#the hessian measures how \"pointy\" the top is\n",
    "#the variance of the score... is how right are the focs?... \n",
    "\n",
    "#those things must be equal? in some sense?\n",
    "#very pointy top... could mean a lot of variance in the focs... over fitting... to some degree...\n",
    "# very non-pointy top... but not a lot variance in focs... under fitting... to some degree..."
   ]
  }
 ],
 "metadata": {
  "kernelspec": {
   "display_name": "Python 3 (ipykernel)",
   "language": "python",
   "name": "python3"
  },
  "language_info": {
   "codemirror_mode": {
    "name": "ipython",
    "version": 3
   },
   "file_extension": ".py",
   "mimetype": "text/x-python",
   "name": "python",
   "nbconvert_exporter": "python",
   "pygments_lexer": "ipython3",
   "version": "3.9.7"
  }
 },
 "nbformat": 4,
 "nbformat_minor": 5
}
