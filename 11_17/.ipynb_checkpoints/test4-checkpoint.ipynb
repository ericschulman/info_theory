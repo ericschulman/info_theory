{
 "cells": [
  {
   "cell_type": "code",
   "execution_count": 2,
   "metadata": {},
   "outputs": [],
   "source": [
    "using Pkg\n",
    "using Optim\n",
    "using PyPlot\n",
    "using LinearAlgebra\n",
    "using FFTW\n",
    "using Random"
   ]
  },
  {
   "cell_type": "code",
   "execution_count": 15,
   "metadata": {},
   "outputs": [
    {
     "name": "stdout",
     "output_type": "stream",
     "text": [
      "[0.0, 0.0, 0.0, 0.0, 0.0][1.0, 1.0, 1.0, 1.0, 1.0]"
     ]
    },
    {
     "ename": "MethodError",
     "evalue": "MethodError: no method matching +(::Int64, ::Array{Float64,1})\nClosest candidates are:\n  +(::Any, ::Any, !Matched::Any, !Matched::Any...) at operators.jl:502\n  +(!Matched::PyCall.PyObject, ::Any) at /home/erichschulman/.julia/packages/PyCall/ttONZ/src/pyoperators.jl:13\n  +(::T<:Union{Int128, Int16, Int32, Int64, Int8, UInt128, UInt16, UInt32, UInt64, UInt8}, !Matched::T<:Union{Int128, Int16, Int32, Int64, Int8, UInt128, UInt16, UInt32, UInt64, UInt8}) where T<:Union{Int128, Int16, Int32, Int64, Int8, UInt128, UInt16, UInt32, UInt64, UInt8} at int.jl:53\n  ...",
     "output_type": "error",
     "traceback": [
      "MethodError: no method matching +(::Int64, ::Array{Float64,1})\nClosest candidates are:\n  +(::Any, ::Any, !Matched::Any, !Matched::Any...) at operators.jl:502\n  +(!Matched::PyCall.PyObject, ::Any) at /home/erichschulman/.julia/packages/PyCall/ttONZ/src/pyoperators.jl:13\n  +(::T<:Union{Int128, Int16, Int32, Int64, Int8, UInt128, UInt16, UInt32, UInt64, UInt8}, !Matched::T<:Union{Int128, Int16, Int32, Int64, Int8, UInt128, UInt16, UInt32, UInt64, UInt8}) where T<:Union{Int128, Int16, Int32, Int64, Int8, UInt128, UInt16, UInt32, UInt64, UInt8} at int.jl:53\n  ...",
      "",
      "Stacktrace:",
      " [1] operator(::Tuple{Int64,Int64}, ::Float64) at ./In[15]:19",
      " [2] top-level scope at In[15]:26"
     ]
    }
   ],
   "source": [
    "N = 100\n",
    "X = 5\n",
    "\n",
    "GAMMA = .5772\n",
    "BETA = .90\n",
    "RC,THETA = -3,-1\n",
    "\n",
    "\n",
    "function operator(theta, beta)\n",
    "    \"\"\"perform the operator for the Rust contraction mapping\"\"\"\n",
    "    v = zeros(2,X)\n",
    "    w = v[:,:]\n",
    "    x = collect(1:X)\n",
    "    for t=1:(N-1)\n",
    "        \n",
    "        w[1,:] = theta[2] + beta.*(GAMMA .+ log.( exp.(v[1,:]) .+ exp.(v[2,:]) )) \n",
    "        w[2,:] = x.*theta[1] + beta.*(GAMMA .+ log.( exp.(v[1,:]) .+ exp.(v[2,:]) ) )\n",
    "        v = w\n",
    "    end\n",
    "    \n",
    "    return w\n",
    "end\n",
    "\n",
    "print(operator( (RC,THETA), BETA  ))"
   ]
  },
  {
   "cell_type": "code",
   "execution_count": 9,
   "metadata": {},
   "outputs": [
    {
     "ename": "UndefVarError",
     "evalue": "UndefVarError: exp! not defined",
     "output_type": "error",
     "traceback": [
      "UndefVarError: exp! not defined",
      "",
      "Stacktrace:",
      " [1] top-level scope at In[9]:1"
     ]
    }
   ],
   "source": []
  },
  {
   "cell_type": "code",
   "execution_count": null,
   "metadata": {},
   "outputs": [],
   "source": []
  }
 ],
 "metadata": {
  "kernelspec": {
   "display_name": "Julia 1.0.4",
   "language": "julia",
   "name": "julia-1.0"
  },
  "language_info": {
   "file_extension": ".jl",
   "mimetype": "application/julia",
   "name": "julia",
   "version": "1.0.4"
  }
 },
 "nbformat": 4,
 "nbformat_minor": 2
}
