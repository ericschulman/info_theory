{
 "cells": [
  {
   "cell_type": "code",
   "execution_count": 2,
   "metadata": {},
   "outputs": [],
   "source": [
    "using Pkg\n",
    "using Optim\n",
    "using PyPlot\n",
    "using LinearAlgebra\n",
    "using FFTW\n",
    "using Random"
   ]
  },
  {
   "cell_type": "code",
   "execution_count": 35,
   "metadata": {},
   "outputs": [
    {
     "data": {
      "text/plain": [
       "2×5 Array{Float64,2}:\n",
       " -48.5993  -48.5993  -48.5993  -48.5993  -48.5993\n",
       " -43.4712  -46.811   -49.1524  -51.1524  -51.1524"
      ]
     },
     "execution_count": 35,
     "metadata": {},
     "output_type": "execute_result"
    }
   ],
   "source": [
    "N = 1000\n",
    "X = 5\n",
    "\n",
    "GAMMA = .5772\n",
    "BETA = .90\n",
    "RC,THETA = -10,-2\n",
    "\n",
    "\n",
    "function bellman(theta, beta)\n",
    "    \"\"\"perform the operator for the Rust contraction mapping\"\"\"\n",
    "    v = zeros(2,X)\n",
    "    w = v[:,:]\n",
    "    for t=1:(N-1)\n",
    "        for x=1:(X-1)\n",
    "            w[1,x] = theta[1] + beta*(GAMMA + log( exp(v[1,1]) + exp(v[2,1]) ) )\n",
    "            w[2,x] = x*theta[2] +  beta*(GAMMA + log( exp(v[1,x+1]) + exp(v[2,x+1]) ) )\n",
    "        end\n",
    "        v[:,1:X-1] = w[:,1:X-1]\n",
    "        v[:,X] = w[:,X-1]\n",
    "    end\n",
    "    \n",
    "    return v\n",
    "end\n",
    "\n",
    "W = bellman( (RC,THETA), BETA  )"
   ]
  },
  {
   "cell_type": "code",
   "execution_count": null,
   "metadata": {},
   "outputs": [],
   "source": []
  }
 ],
 "metadata": {
  "kernelspec": {
   "display_name": "Julia 1.0.4",
   "language": "julia",
   "name": "julia-1.0"
  },
  "language_info": {
   "file_extension": ".jl",
   "mimetype": "application/julia",
   "name": "julia",
   "version": "1.0.4"
  }
 },
 "nbformat": 4,
 "nbformat_minor": 2
}
